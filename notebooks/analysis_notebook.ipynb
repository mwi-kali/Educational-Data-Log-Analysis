{
 "cells": [
  {
   "cell_type": "markdown",
   "id": "45d3378e",
   "metadata": {},
   "source": [
    "# **Moodle Logs Analysis**\n",
    "\n",
    "This is a comprehensive analysis of Moodle logs from a training program at our institution. The dataset, which has been transformed to include essential metrics such as **activity_count**, **login_count**, **time**, **average_activity**, and **performance_bracket**, offers deep insights into learner engagement. In addition, a derived **at risk** column has been created based on heuristic rules to flag learners who might be struggling. \n",
    "\n",
    "The notebook is organized into multiple sections. Each section explains the analysis process and the insights gained from the data.\n"
   ]
  },
  {
   "cell_type": "code",
   "execution_count": 1,
   "id": "8b23f316",
   "metadata": {},
   "outputs": [
    {
     "name": "stdout",
     "output_type": "stream",
     "text": [
      "Requirement already satisfied: plotly in /home/kali/anaconda3/lib/python3.12/site-packages (5.24.1)\n",
      "Requirement already satisfied: tenacity>=6.2.0 in /home/kali/anaconda3/lib/python3.12/site-packages (from plotly) (8.2.3)\n",
      "Requirement already satisfied: packaging in /home/kali/anaconda3/lib/python3.12/site-packages (from plotly) (24.1)\n"
     ]
    }
   ],
   "source": [
    "!pip install plotly"
   ]
  },
  {
   "cell_type": "code",
   "execution_count": 2,
   "id": "882cd983",
   "metadata": {},
   "outputs": [
    {
     "name": "stdout",
     "output_type": "stream",
     "text": [
      "Libraries imported successfully.\n"
     ]
    }
   ],
   "source": [
    "import pandas as pd\n",
    "import numpy as np\n",
    "import plotly.express as px\n",
    "import plotly.graph_objects as go\n",
    "import seaborn as sns\n",
    "import matplotlib.pyplot as plt\n",
    "\n",
    "from sklearn.cluster import KMeans\n",
    "from sklearn.ensemble import RandomForestClassifier\n",
    "from sklearn.metrics import classification_report, confusion_matrix\n",
    "from sklearn.model_selection import train_test_split, GridSearchCV, cross_val_score\n",
    "from sklearn.neighbors import LocalOutlierFactor\n",
    "from sklearn.preprocessing import StandardScaler, LabelEncoder\n",
    "\n",
    "sns.set(style='whitegrid', palette='muted', font_scale=1.1)\n",
    "%matplotlib inline\n",
    "print(\"Libraries imported successfully.\")"
   ]
  },
  {
   "cell_type": "markdown",
   "id": "4ccd65da",
   "metadata": {},
   "source": [
    "## **Data Loading**\n",
    "\n",
    "The transformed data is loaded from the local CSV file **etl_output.csv**. This file is assumed to contain the merged and pre-processed log data from Moodle, incorporating key metrics that are essential for the analysis. Below, the first five rows of the dataset are printed to provide an initial look at the data."
   ]
  },
  {
   "cell_type": "code",
   "execution_count": 3,
   "id": "a676f696",
   "metadata": {},
   "outputs": [
    {
     "name": "stdout",
     "output_type": "stream",
     "text": [
      "Transformed Data Sample:\n",
      "   user_id  activity_count  country gender  time  login_count  \\\n",
      "0      -10               1      NaN    NaN   NaN          NaN   \n",
      "1       -1            2170      NaN    NaN   NaN          NaN   \n",
      "2        0            7257      NaN    NaN   NaN          NaN   \n",
      "3        1               3  Germany   Male   NaN          1.0   \n",
      "4        2           45023  Germany   Male   NaN        169.0   \n",
      "\n",
      "   average_activity performance_bracket  \n",
      "0               NaN              top 1%  \n",
      "1               NaN              others  \n",
      "2               NaN              others  \n",
      "3          3.000000              top 1%  \n",
      "4        266.408284              others  \n"
     ]
    }
   ],
   "source": [
    "try:\n",
    "    df = pd.read_csv('../data/etl_output.csv')\n",
    "    print(\"Transformed Data Sample:\")\n",
    "    print(df.head(5))\n",
    "except Exception as e:\n",
    "    print(f\"Error loading transformed data: {e}\")"
   ]
  },
  {
   "cell_type": "markdown",
   "id": "37ba8d8e",
   "metadata": {},
   "source": [
    "## 2. Data Overview\n",
    "\n",
    "This section examines the structure and statistical summaries of the data. The DataFrame information, including data types and non-null counts, along with summary statistics, help in understanding the distribution and range of values. It also gives insight into the overall dimensions of the dataset, which is important for subsequent analysis and visualization."
   ]
  },
  {
   "cell_type": "code",
   "execution_count": 4,
   "id": "cde5667e",
   "metadata": {},
   "outputs": [
    {
     "name": "stdout",
     "output_type": "stream",
     "text": [
      "DataFrame Info:\n",
      "<class 'pandas.core.frame.DataFrame'>\n",
      "RangeIndex: 1049 entries, 0 to 1048\n",
      "Data columns (total 8 columns):\n",
      " #   Column               Non-Null Count  Dtype  \n",
      "---  ------               --------------  -----  \n",
      " 0   user_id              1049 non-null   int64  \n",
      " 1   activity_count       1049 non-null   int64  \n",
      " 2   country              1046 non-null   object \n",
      " 3   gender               1046 non-null   object \n",
      " 4   time                 1040 non-null   float64\n",
      " 5   login_count          600 non-null    float64\n",
      " 6   average_activity     600 non-null    float64\n",
      " 7   performance_bracket  1049 non-null   object \n",
      "dtypes: float64(3), int64(2), object(3)\n",
      "memory usage: 65.7+ KB\n"
     ]
    }
   ],
   "source": [
    "print(\"DataFrame Info:\")\n",
    "df.info()"
   ]
  },
  {
   "cell_type": "code",
   "execution_count": 5,
   "id": "395d1211",
   "metadata": {},
   "outputs": [
    {
     "name": "stdout",
     "output_type": "stream",
     "text": [
      "\n",
      "Summary Statistics:\n"
     ]
    },
    {
     "data": {
      "text/html": [
       "<div>\n",
       "<style scoped>\n",
       "    .dataframe tbody tr th:only-of-type {\n",
       "        vertical-align: middle;\n",
       "    }\n",
       "\n",
       "    .dataframe tbody tr th {\n",
       "        vertical-align: top;\n",
       "    }\n",
       "\n",
       "    .dataframe thead th {\n",
       "        text-align: right;\n",
       "    }\n",
       "</style>\n",
       "<table border=\"1\" class=\"dataframe\">\n",
       "  <thead>\n",
       "    <tr style=\"text-align: right;\">\n",
       "      <th></th>\n",
       "      <th>user_id</th>\n",
       "      <th>activity_count</th>\n",
       "      <th>country</th>\n",
       "      <th>gender</th>\n",
       "      <th>time</th>\n",
       "      <th>login_count</th>\n",
       "      <th>average_activity</th>\n",
       "      <th>performance_bracket</th>\n",
       "    </tr>\n",
       "  </thead>\n",
       "  <tbody>\n",
       "    <tr>\n",
       "      <th>count</th>\n",
       "      <td>1049.000000</td>\n",
       "      <td>1049.000000</td>\n",
       "      <td>1046</td>\n",
       "      <td>1046</td>\n",
       "      <td>1040.000000</td>\n",
       "      <td>600.000000</td>\n",
       "      <td>600.000000</td>\n",
       "      <td>1049</td>\n",
       "    </tr>\n",
       "    <tr>\n",
       "      <th>unique</th>\n",
       "      <td>NaN</td>\n",
       "      <td>NaN</td>\n",
       "      <td>38</td>\n",
       "      <td>3</td>\n",
       "      <td>NaN</td>\n",
       "      <td>NaN</td>\n",
       "      <td>NaN</td>\n",
       "      <td>5</td>\n",
       "    </tr>\n",
       "    <tr>\n",
       "      <th>top</th>\n",
       "      <td>NaN</td>\n",
       "      <td>NaN</td>\n",
       "      <td>Ghana</td>\n",
       "      <td>Male</td>\n",
       "      <td>NaN</td>\n",
       "      <td>NaN</td>\n",
       "      <td>NaN</td>\n",
       "      <td>others</td>\n",
       "    </tr>\n",
       "    <tr>\n",
       "      <th>freq</th>\n",
       "      <td>NaN</td>\n",
       "      <td>NaN</td>\n",
       "      <td>319</td>\n",
       "      <td>700</td>\n",
       "      <td>NaN</td>\n",
       "      <td>NaN</td>\n",
       "      <td>NaN</td>\n",
       "      <td>734</td>\n",
       "    </tr>\n",
       "    <tr>\n",
       "      <th>mean</th>\n",
       "      <td>527.872259</td>\n",
       "      <td>398.049571</td>\n",
       "      <td>NaN</td>\n",
       "      <td>NaN</td>\n",
       "      <td>9291.388462</td>\n",
       "      <td>7.406667</td>\n",
       "      <td>77.331643</td>\n",
       "      <td>NaN</td>\n",
       "    </tr>\n",
       "    <tr>\n",
       "      <th>std</th>\n",
       "      <td>303.181563</td>\n",
       "      <td>1780.778421</td>\n",
       "      <td>NaN</td>\n",
       "      <td>NaN</td>\n",
       "      <td>38309.385128</td>\n",
       "      <td>14.444689</td>\n",
       "      <td>165.453963</td>\n",
       "      <td>NaN</td>\n",
       "    </tr>\n",
       "    <tr>\n",
       "      <th>min</th>\n",
       "      <td>-10.000000</td>\n",
       "      <td>1.000000</td>\n",
       "      <td>NaN</td>\n",
       "      <td>NaN</td>\n",
       "      <td>0.000000</td>\n",
       "      <td>1.000000</td>\n",
       "      <td>3.000000</td>\n",
       "      <td>NaN</td>\n",
       "    </tr>\n",
       "    <tr>\n",
       "      <th>25%</th>\n",
       "      <td>266.000000</td>\n",
       "      <td>12.000000</td>\n",
       "      <td>NaN</td>\n",
       "      <td>NaN</td>\n",
       "      <td>0.000000</td>\n",
       "      <td>1.000000</td>\n",
       "      <td>23.375000</td>\n",
       "      <td>NaN</td>\n",
       "    </tr>\n",
       "    <tr>\n",
       "      <th>50%</th>\n",
       "      <td>528.000000</td>\n",
       "      <td>41.000000</td>\n",
       "      <td>NaN</td>\n",
       "      <td>NaN</td>\n",
       "      <td>0.000000</td>\n",
       "      <td>2.000000</td>\n",
       "      <td>39.000000</td>\n",
       "      <td>NaN</td>\n",
       "    </tr>\n",
       "    <tr>\n",
       "      <th>75%</th>\n",
       "      <td>790.000000</td>\n",
       "      <td>124.000000</td>\n",
       "      <td>NaN</td>\n",
       "      <td>NaN</td>\n",
       "      <td>2618.750000</td>\n",
       "      <td>7.000000</td>\n",
       "      <td>71.181034</td>\n",
       "      <td>NaN</td>\n",
       "    </tr>\n",
       "    <tr>\n",
       "      <th>max</th>\n",
       "      <td>1052.000000</td>\n",
       "      <td>45023.000000</td>\n",
       "      <td>NaN</td>\n",
       "      <td>NaN</td>\n",
       "      <td>563691.000000</td>\n",
       "      <td>169.000000</td>\n",
       "      <td>2608.000000</td>\n",
       "      <td>NaN</td>\n",
       "    </tr>\n",
       "  </tbody>\n",
       "</table>\n",
       "</div>"
      ],
      "text/plain": [
       "            user_id  activity_count country gender           time  \\\n",
       "count   1049.000000     1049.000000    1046   1046    1040.000000   \n",
       "unique          NaN             NaN      38      3            NaN   \n",
       "top             NaN             NaN   Ghana   Male            NaN   \n",
       "freq            NaN             NaN     319    700            NaN   \n",
       "mean     527.872259      398.049571     NaN    NaN    9291.388462   \n",
       "std      303.181563     1780.778421     NaN    NaN   38309.385128   \n",
       "min      -10.000000        1.000000     NaN    NaN       0.000000   \n",
       "25%      266.000000       12.000000     NaN    NaN       0.000000   \n",
       "50%      528.000000       41.000000     NaN    NaN       0.000000   \n",
       "75%      790.000000      124.000000     NaN    NaN    2618.750000   \n",
       "max     1052.000000    45023.000000     NaN    NaN  563691.000000   \n",
       "\n",
       "        login_count  average_activity performance_bracket  \n",
       "count    600.000000        600.000000                1049  \n",
       "unique          NaN               NaN                   5  \n",
       "top             NaN               NaN              others  \n",
       "freq            NaN               NaN                 734  \n",
       "mean       7.406667         77.331643                 NaN  \n",
       "std       14.444689        165.453963                 NaN  \n",
       "min        1.000000          3.000000                 NaN  \n",
       "25%        1.000000         23.375000                 NaN  \n",
       "50%        2.000000         39.000000                 NaN  \n",
       "75%        7.000000         71.181034                 NaN  \n",
       "max      169.000000       2608.000000                 NaN  "
      ]
     },
     "metadata": {},
     "output_type": "display_data"
    }
   ],
   "source": [
    "print(\"\\nSummary Statistics:\")\n",
    "display(df.describe(include='all'))\n"
   ]
  },
  {
   "cell_type": "code",
   "execution_count": 6,
   "id": "65e18be6",
   "metadata": {},
   "outputs": [
    {
     "name": "stdout",
     "output_type": "stream",
     "text": [
      "\n",
      "Data Shape: (1049, 8)\n"
     ]
    }
   ],
   "source": [
    "print(\"\\nData Shape:\", df.shape)"
   ]
  },
  {
   "cell_type": "markdown",
   "id": "8642db09",
   "metadata": {},
   "source": [
    "The examination of the DataFrame reveals that some columns (such as **country** and **gender**) contain missing values, which may require cleaning. The summary statistics indicate a heavy right skew in the **activity_count** variable and a high variance in **login_count**, both of which are important for understanding engagement differences among learners. Overall, the dataset's moderate size allows for detailed interactive analysis."
   ]
  },
  {
   "cell_type": "markdown",
   "id": "08d7fe6b",
   "metadata": {},
   "source": [
    "## **Exploratory Data Analysis (EDA)**\n",
    "\n",
    "This section uses visualizations to explore the key metrics of the dataset. The objective is to reveal the underlying distributions, understand relationships between different engagement metrics, and identify potential outliers. Several types of plots are generated, each serving a specific purpose:\n",
    "\n",
    "- **Histogram**: To show the frequency distribution of **activity_count**.\n",
    "- **Bar Chart**: To illustrate the distribution of learners across different **performance_bracket** groups.\n",
    "- **Scatter Plot**: To investigate the relationship between **login_count** and **average_activity**.\n",
    "- **Box Plot**: To display the spread and outliers in **activity_count**.\n",
    "- **Violin Plot**: To visualize the distribution and density of **login_count**.\n",
    "\n",
    "### **Activity Counts**"
   ]
  },
  {
   "cell_type": "code",
   "execution_count": 7,
   "id": "5ba54cfd",
   "metadata": {},
   "outputs": [
    {
     "data": {
      "application/vnd.plotly.v1+json": {
       "config": {
        "plotlyServerURL": "https://plot.ly"
       },
       "data": [
        {
         "alignmentgroup": "True",
         "bingroup": "x",
         "hovertemplate": "Activity Count=%{x}<br>count=%{y}<extra></extra>",
         "legendgroup": "",
         "marker": {
          "color": "#86c5da",
          "pattern": {
           "shape": ""
          }
         },
         "name": "",
         "nbinsx": 50,
         "offsetgroup": "",
         "orientation": "v",
         "showlegend": false,
         "type": "histogram",
         "x": [
          1,
          2170,
          7257,
          3,
          45023,
          12922,
          3,
          1079,
          94,
          55,
          436,
          76,
          60,
          64,
          147,
          433,
          63,
          74,
          138,
          95,
          70,
          84,
          67,
          102,
          1894,
          65,
          63,
          60,
          74,
          169,
          63,
          99,
          111,
          71,
          287,
          500,
          350,
          103,
          4916,
          982,
          1028,
          4241,
          90,
          84,
          2710,
          78,
          1697,
          900,
          113,
          73,
          141,
          123,
          211,
          2836,
          2241,
          106,
          230,
          2669,
          195,
          72,
          86,
          165,
          80,
          640,
          302,
          151,
          105,
          128,
          86,
          667,
          218,
          147,
          9,
          3832,
          201,
          72,
          445,
          115,
          96,
          142,
          544,
          144,
          462,
          66,
          1486,
          71,
          4644,
          68,
          83,
          94,
          231,
          4004,
          234,
          71,
          1910,
          671,
          141,
          122,
          1593,
          865,
          94,
          317,
          128,
          280,
          145,
          83,
          80,
          79,
          83,
          84,
          83,
          1063,
          165,
          71,
          1316,
          118,
          437,
          294,
          82,
          1138,
          93,
          121,
          736,
          412,
          97,
          106,
          224,
          287,
          351,
          919,
          394,
          309,
          78,
          171,
          781,
          119,
          177,
          645,
          72,
          772,
          145,
          649,
          958,
          1487,
          266,
          205,
          98,
          126,
          132,
          457,
          79,
          95,
          784,
          114,
          114,
          443,
          145,
          240,
          80,
          86,
          84,
          6015,
          137,
          1171,
          451,
          84,
          2450,
          85,
          95,
          66,
          1810,
          109,
          106,
          67,
          257,
          471,
          602,
          83,
          859,
          79,
          339,
          2522,
          159,
          71,
          156,
          647,
          1872,
          87,
          70,
          138,
          529,
          124,
          67,
          72,
          173,
          267,
          86,
          4964,
          352,
          149,
          135,
          82,
          72,
          94,
          98,
          233,
          3075,
          104,
          74,
          294,
          120,
          105,
          68,
          1434,
          75,
          126,
          110,
          101,
          581,
          182,
          82,
          149,
          93,
          120,
          5063,
          72,
          70,
          84,
          94,
          322,
          1677,
          107,
          187,
          157,
          73,
          143,
          103,
          767,
          515,
          104,
          310,
          79,
          13917,
          130,
          80,
          68,
          908,
          77,
          102,
          578,
          814,
          583,
          152,
          68,
          238,
          2211,
          138,
          80,
          1756,
          310,
          92,
          147,
          3902,
          133,
          526,
          81,
          425,
          444,
          226,
          90,
          1876,
          111,
          73,
          912,
          258,
          66,
          528,
          110,
          588,
          73,
          1670,
          176,
          1215,
          140,
          97,
          684,
          8558,
          409,
          88,
          85,
          1409,
          209,
          157,
          142,
          217,
          724,
          72,
          903,
          89,
          293,
          36,
          66,
          160,
          131,
          46,
          84,
          41,
          59,
          41,
          87,
          42,
          65,
          52,
          82,
          45,
          203,
          83,
          48,
          47,
          42,
          47,
          41,
          53,
          37,
          4297,
          52,
          66,
          971,
          97,
          61,
          100,
          54,
          51,
          41,
          48,
          131,
          2016,
          502,
          74,
          89,
          6019,
          52,
          273,
          7320,
          305,
          231,
          52,
          292,
          37,
          756,
          204,
          52,
          193,
          47,
          52,
          99,
          41,
          1285,
          1385,
          1647,
          40,
          48,
          36,
          876,
          59,
          4608,
          79,
          38,
          354,
          102,
          353,
          154,
          250,
          3459,
          1166,
          79,
          51,
          1595,
          2994,
          2260,
          71,
          2373,
          112,
          1778,
          68,
          36,
          2794,
          7,
          85,
          14,
          46,
          32,
          33,
          27,
          29,
          12,
          170,
          13,
          32,
          14,
          50,
          12,
          105,
          29,
          12,
          1526,
          1606,
          250,
          12,
          35,
          56,
          12,
          26,
          40,
          12,
          43,
          1927,
          62,
          29,
          91,
          118,
          12,
          12,
          1254,
          1939,
          12,
          12,
          49,
          23,
          41,
          377,
          12,
          107,
          31,
          12,
          12,
          1712,
          12,
          13,
          779,
          14,
          97,
          12,
          12,
          34,
          2921,
          12,
          43,
          27,
          95,
          12,
          22,
          12,
          13,
          12,
          35,
          12,
          60,
          12,
          12,
          123,
          23,
          13,
          18,
          121,
          12,
          144,
          12,
          12,
          64,
          12,
          42,
          32,
          12,
          12,
          21,
          4232,
          12,
          12,
          12,
          724,
          12,
          1269,
          12,
          12,
          102,
          29,
          12,
          12,
          14,
          36,
          43,
          12,
          37,
          12,
          12,
          12,
          37,
          96,
          12,
          12,
          27,
          12,
          12,
          12,
          29,
          12,
          35,
          52,
          32,
          12,
          12,
          27,
          44,
          12,
          13,
          48,
          12,
          59,
          12,
          19,
          31,
          19,
          12,
          18,
          12,
          12,
          12,
          23,
          21,
          49,
          29,
          12,
          12,
          16,
          12,
          12,
          104,
          24,
          20,
          12,
          12,
          12,
          12,
          97,
          71,
          12,
          12,
          38,
          12,
          30,
          61,
          12,
          61,
          14,
          33,
          12,
          29,
          12,
          12,
          31,
          35,
          32,
          3345,
          22,
          24,
          12,
          12,
          12,
          12,
          25,
          13,
          12,
          12,
          20,
          12,
          12,
          10533,
          19,
          12,
          34,
          12,
          3857,
          32,
          14,
          12,
          12,
          1532,
          12,
          112,
          1537,
          41,
          12,
          12,
          47,
          12,
          12,
          12,
          27,
          38,
          12,
          12,
          12,
          6461,
          83,
          20,
          12,
          304,
          39,
          12,
          22,
          1613,
          13,
          30,
          22,
          15,
          13,
          13,
          12,
          12,
          12,
          12,
          12,
          27,
          12,
          13,
          23,
          82,
          760,
          12,
          15,
          12,
          12,
          12,
          12,
          12,
          12,
          12,
          19,
          12,
          12,
          12,
          23,
          12,
          12,
          12,
          124,
          12,
          12,
          12,
          34,
          22,
          91,
          12,
          23,
          45,
          12,
          14,
          42,
          12,
          12,
          12,
          12,
          45,
          12,
          12,
          27,
          12,
          18,
          12,
          12,
          12,
          69,
          15,
          12,
          12,
          14,
          12,
          18,
          130,
          12,
          12,
          2080,
          12,
          43,
          12,
          12,
          12,
          25,
          13,
          13,
          12,
          12,
          12,
          12,
          12,
          21,
          12,
          12,
          12,
          12,
          17,
          41,
          16,
          12,
          12,
          12,
          13,
          25,
          26,
          64,
          12,
          14,
          13,
          33,
          20,
          12,
          102,
          16,
          183,
          25,
          12,
          69,
          18,
          12,
          136,
          47,
          12,
          25,
          54,
          52,
          13,
          12,
          46,
          87,
          11,
          14,
          34,
          4220,
          33,
          84,
          31,
          11,
          145,
          64,
          28,
          103,
          21,
          61,
          11,
          50,
          11,
          780,
          188,
          68,
          896,
          86,
          11,
          11,
          11,
          35,
          43,
          84,
          11,
          93,
          11,
          47,
          13,
          11,
          12,
          11,
          1006,
          12,
          2608,
          11,
          11,
          46,
          11,
          11,
          13,
          14,
          31,
          3692,
          11,
          11,
          956,
          11,
          13,
          13,
          16,
          930,
          29,
          83,
          15,
          22,
          41,
          13,
          1822,
          34,
          13,
          11,
          11,
          11,
          57,
          11,
          19,
          11,
          13,
          11,
          139,
          29,
          45,
          11,
          40,
          54,
          11,
          11,
          11,
          11,
          11,
          13,
          38,
          19,
          12,
          23,
          11,
          60,
          11,
          11,
          11,
          24,
          14,
          11,
          13,
          84,
          11,
          19,
          11,
          1980,
          176,
          86,
          11,
          2792,
          44,
          41,
          49,
          11,
          25,
          11,
          11,
          20,
          11,
          81,
          11,
          11,
          11,
          11,
          22,
          28,
          11,
          18,
          1785,
          2863,
          54,
          11,
          132,
          28,
          11,
          11,
          57,
          11,
          11,
          11,
          14,
          52,
          3725,
          11,
          16,
          11,
          12,
          22,
          29,
          11,
          43,
          53,
          53,
          22,
          13,
          14,
          66,
          11,
          28,
          35,
          29,
          11,
          13,
          11,
          11,
          11,
          52,
          25,
          11,
          11,
          11,
          29,
          11,
          38,
          63,
          11,
          26,
          132,
          14,
          11,
          10696,
          540,
          43,
          11,
          27,
          92,
          11,
          650,
          11,
          32,
          11,
          11,
          19,
          1686,
          40,
          11,
          11,
          11,
          11,
          11,
          11,
          11,
          54,
          34,
          142,
          11,
          73,
          11,
          139,
          28,
          11,
          11,
          11,
          11,
          17,
          11,
          22,
          11,
          17,
          11,
          25,
          15,
          21,
          12,
          11,
          11,
          11,
          13,
          11,
          11,
          11,
          14,
          11,
          15,
          27,
          10,
          10,
          10,
          10,
          22,
          10,
          10,
          10,
          10,
          10,
          10,
          10,
          10,
          10,
          14,
          25,
          35,
          1529,
          70,
          106,
          19,
          13,
          10,
          10,
          10,
          10,
          10,
          55,
          10,
          47,
          31,
          10,
          68,
          24,
          33,
          24,
          12,
          10,
          36,
          10,
          10,
          10,
          10,
          28,
          26,
          10,
          10,
          907,
          9,
          9,
          9,
          9,
          9,
          3404,
          9,
          1625,
          37,
          65,
          9,
          9,
          9,
          9,
          9,
          9,
          9,
          12,
          9,
          9,
          11,
          177,
          9,
          9,
          9,
          9,
          9,
          77,
          30,
          9,
          12,
          9,
          9
         ],
         "xaxis": "x",
         "yaxis": "y"
        }
       ],
       "layout": {
        "barmode": "relative",
        "legend": {
         "tracegroupgap": 0
        },
        "template": {
         "data": {
          "bar": [
           {
            "error_x": {
             "color": "#2a3f5f"
            },
            "error_y": {
             "color": "#2a3f5f"
            },
            "marker": {
             "line": {
              "color": "white",
              "width": 0.5
             },
             "pattern": {
              "fillmode": "overlay",
              "size": 10,
              "solidity": 0.2
             }
            },
            "type": "bar"
           }
          ],
          "barpolar": [
           {
            "marker": {
             "line": {
              "color": "white",
              "width": 0.5
             },
             "pattern": {
              "fillmode": "overlay",
              "size": 10,
              "solidity": 0.2
             }
            },
            "type": "barpolar"
           }
          ],
          "carpet": [
           {
            "aaxis": {
             "endlinecolor": "#2a3f5f",
             "gridcolor": "#C8D4E3",
             "linecolor": "#C8D4E3",
             "minorgridcolor": "#C8D4E3",
             "startlinecolor": "#2a3f5f"
            },
            "baxis": {
             "endlinecolor": "#2a3f5f",
             "gridcolor": "#C8D4E3",
             "linecolor": "#C8D4E3",
             "minorgridcolor": "#C8D4E3",
             "startlinecolor": "#2a3f5f"
            },
            "type": "carpet"
           }
          ],
          "choropleth": [
           {
            "colorbar": {
             "outlinewidth": 0,
             "ticks": ""
            },
            "type": "choropleth"
           }
          ],
          "contour": [
           {
            "colorbar": {
             "outlinewidth": 0,
             "ticks": ""
            },
            "colorscale": [
             [
              0,
              "#0d0887"
             ],
             [
              0.1111111111111111,
              "#46039f"
             ],
             [
              0.2222222222222222,
              "#7201a8"
             ],
             [
              0.3333333333333333,
              "#9c179e"
             ],
             [
              0.4444444444444444,
              "#bd3786"
             ],
             [
              0.5555555555555556,
              "#d8576b"
             ],
             [
              0.6666666666666666,
              "#ed7953"
             ],
             [
              0.7777777777777778,
              "#fb9f3a"
             ],
             [
              0.8888888888888888,
              "#fdca26"
             ],
             [
              1,
              "#f0f921"
             ]
            ],
            "type": "contour"
           }
          ],
          "contourcarpet": [
           {
            "colorbar": {
             "outlinewidth": 0,
             "ticks": ""
            },
            "type": "contourcarpet"
           }
          ],
          "heatmap": [
           {
            "colorbar": {
             "outlinewidth": 0,
             "ticks": ""
            },
            "colorscale": [
             [
              0,
              "#0d0887"
             ],
             [
              0.1111111111111111,
              "#46039f"
             ],
             [
              0.2222222222222222,
              "#7201a8"
             ],
             [
              0.3333333333333333,
              "#9c179e"
             ],
             [
              0.4444444444444444,
              "#bd3786"
             ],
             [
              0.5555555555555556,
              "#d8576b"
             ],
             [
              0.6666666666666666,
              "#ed7953"
             ],
             [
              0.7777777777777778,
              "#fb9f3a"
             ],
             [
              0.8888888888888888,
              "#fdca26"
             ],
             [
              1,
              "#f0f921"
             ]
            ],
            "type": "heatmap"
           }
          ],
          "heatmapgl": [
           {
            "colorbar": {
             "outlinewidth": 0,
             "ticks": ""
            },
            "colorscale": [
             [
              0,
              "#0d0887"
             ],
             [
              0.1111111111111111,
              "#46039f"
             ],
             [
              0.2222222222222222,
              "#7201a8"
             ],
             [
              0.3333333333333333,
              "#9c179e"
             ],
             [
              0.4444444444444444,
              "#bd3786"
             ],
             [
              0.5555555555555556,
              "#d8576b"
             ],
             [
              0.6666666666666666,
              "#ed7953"
             ],
             [
              0.7777777777777778,
              "#fb9f3a"
             ],
             [
              0.8888888888888888,
              "#fdca26"
             ],
             [
              1,
              "#f0f921"
             ]
            ],
            "type": "heatmapgl"
           }
          ],
          "histogram": [
           {
            "marker": {
             "pattern": {
              "fillmode": "overlay",
              "size": 10,
              "solidity": 0.2
             }
            },
            "type": "histogram"
           }
          ],
          "histogram2d": [
           {
            "colorbar": {
             "outlinewidth": 0,
             "ticks": ""
            },
            "colorscale": [
             [
              0,
              "#0d0887"
             ],
             [
              0.1111111111111111,
              "#46039f"
             ],
             [
              0.2222222222222222,
              "#7201a8"
             ],
             [
              0.3333333333333333,
              "#9c179e"
             ],
             [
              0.4444444444444444,
              "#bd3786"
             ],
             [
              0.5555555555555556,
              "#d8576b"
             ],
             [
              0.6666666666666666,
              "#ed7953"
             ],
             [
              0.7777777777777778,
              "#fb9f3a"
             ],
             [
              0.8888888888888888,
              "#fdca26"
             ],
             [
              1,
              "#f0f921"
             ]
            ],
            "type": "histogram2d"
           }
          ],
          "histogram2dcontour": [
           {
            "colorbar": {
             "outlinewidth": 0,
             "ticks": ""
            },
            "colorscale": [
             [
              0,
              "#0d0887"
             ],
             [
              0.1111111111111111,
              "#46039f"
             ],
             [
              0.2222222222222222,
              "#7201a8"
             ],
             [
              0.3333333333333333,
              "#9c179e"
             ],
             [
              0.4444444444444444,
              "#bd3786"
             ],
             [
              0.5555555555555556,
              "#d8576b"
             ],
             [
              0.6666666666666666,
              "#ed7953"
             ],
             [
              0.7777777777777778,
              "#fb9f3a"
             ],
             [
              0.8888888888888888,
              "#fdca26"
             ],
             [
              1,
              "#f0f921"
             ]
            ],
            "type": "histogram2dcontour"
           }
          ],
          "mesh3d": [
           {
            "colorbar": {
             "outlinewidth": 0,
             "ticks": ""
            },
            "type": "mesh3d"
           }
          ],
          "parcoords": [
           {
            "line": {
             "colorbar": {
              "outlinewidth": 0,
              "ticks": ""
             }
            },
            "type": "parcoords"
           }
          ],
          "pie": [
           {
            "automargin": true,
            "type": "pie"
           }
          ],
          "scatter": [
           {
            "fillpattern": {
             "fillmode": "overlay",
             "size": 10,
             "solidity": 0.2
            },
            "type": "scatter"
           }
          ],
          "scatter3d": [
           {
            "line": {
             "colorbar": {
              "outlinewidth": 0,
              "ticks": ""
             }
            },
            "marker": {
             "colorbar": {
              "outlinewidth": 0,
              "ticks": ""
             }
            },
            "type": "scatter3d"
           }
          ],
          "scattercarpet": [
           {
            "marker": {
             "colorbar": {
              "outlinewidth": 0,
              "ticks": ""
             }
            },
            "type": "scattercarpet"
           }
          ],
          "scattergeo": [
           {
            "marker": {
             "colorbar": {
              "outlinewidth": 0,
              "ticks": ""
             }
            },
            "type": "scattergeo"
           }
          ],
          "scattergl": [
           {
            "marker": {
             "colorbar": {
              "outlinewidth": 0,
              "ticks": ""
             }
            },
            "type": "scattergl"
           }
          ],
          "scattermapbox": [
           {
            "marker": {
             "colorbar": {
              "outlinewidth": 0,
              "ticks": ""
             }
            },
            "type": "scattermapbox"
           }
          ],
          "scatterpolar": [
           {
            "marker": {
             "colorbar": {
              "outlinewidth": 0,
              "ticks": ""
             }
            },
            "type": "scatterpolar"
           }
          ],
          "scatterpolargl": [
           {
            "marker": {
             "colorbar": {
              "outlinewidth": 0,
              "ticks": ""
             }
            },
            "type": "scatterpolargl"
           }
          ],
          "scatterternary": [
           {
            "marker": {
             "colorbar": {
              "outlinewidth": 0,
              "ticks": ""
             }
            },
            "type": "scatterternary"
           }
          ],
          "surface": [
           {
            "colorbar": {
             "outlinewidth": 0,
             "ticks": ""
            },
            "colorscale": [
             [
              0,
              "#0d0887"
             ],
             [
              0.1111111111111111,
              "#46039f"
             ],
             [
              0.2222222222222222,
              "#7201a8"
             ],
             [
              0.3333333333333333,
              "#9c179e"
             ],
             [
              0.4444444444444444,
              "#bd3786"
             ],
             [
              0.5555555555555556,
              "#d8576b"
             ],
             [
              0.6666666666666666,
              "#ed7953"
             ],
             [
              0.7777777777777778,
              "#fb9f3a"
             ],
             [
              0.8888888888888888,
              "#fdca26"
             ],
             [
              1,
              "#f0f921"
             ]
            ],
            "type": "surface"
           }
          ],
          "table": [
           {
            "cells": {
             "fill": {
              "color": "#EBF0F8"
             },
             "line": {
              "color": "white"
             }
            },
            "header": {
             "fill": {
              "color": "#C8D4E3"
             },
             "line": {
              "color": "white"
             }
            },
            "type": "table"
           }
          ]
         },
         "layout": {
          "annotationdefaults": {
           "arrowcolor": "#2a3f5f",
           "arrowhead": 0,
           "arrowwidth": 1
          },
          "autotypenumbers": "strict",
          "coloraxis": {
           "colorbar": {
            "outlinewidth": 0,
            "ticks": ""
           }
          },
          "colorscale": {
           "diverging": [
            [
             0,
             "#8e0152"
            ],
            [
             0.1,
             "#c51b7d"
            ],
            [
             0.2,
             "#de77ae"
            ],
            [
             0.3,
             "#f1b6da"
            ],
            [
             0.4,
             "#fde0ef"
            ],
            [
             0.5,
             "#f7f7f7"
            ],
            [
             0.6,
             "#e6f5d0"
            ],
            [
             0.7,
             "#b8e186"
            ],
            [
             0.8,
             "#7fbc41"
            ],
            [
             0.9,
             "#4d9221"
            ],
            [
             1,
             "#276419"
            ]
           ],
           "sequential": [
            [
             0,
             "#0d0887"
            ],
            [
             0.1111111111111111,
             "#46039f"
            ],
            [
             0.2222222222222222,
             "#7201a8"
            ],
            [
             0.3333333333333333,
             "#9c179e"
            ],
            [
             0.4444444444444444,
             "#bd3786"
            ],
            [
             0.5555555555555556,
             "#d8576b"
            ],
            [
             0.6666666666666666,
             "#ed7953"
            ],
            [
             0.7777777777777778,
             "#fb9f3a"
            ],
            [
             0.8888888888888888,
             "#fdca26"
            ],
            [
             1,
             "#f0f921"
            ]
           ],
           "sequentialminus": [
            [
             0,
             "#0d0887"
            ],
            [
             0.1111111111111111,
             "#46039f"
            ],
            [
             0.2222222222222222,
             "#7201a8"
            ],
            [
             0.3333333333333333,
             "#9c179e"
            ],
            [
             0.4444444444444444,
             "#bd3786"
            ],
            [
             0.5555555555555556,
             "#d8576b"
            ],
            [
             0.6666666666666666,
             "#ed7953"
            ],
            [
             0.7777777777777778,
             "#fb9f3a"
            ],
            [
             0.8888888888888888,
             "#fdca26"
            ],
            [
             1,
             "#f0f921"
            ]
           ]
          },
          "colorway": [
           "#636efa",
           "#EF553B",
           "#00cc96",
           "#ab63fa",
           "#FFA15A",
           "#19d3f3",
           "#FF6692",
           "#B6E880",
           "#FF97FF",
           "#FECB52"
          ],
          "font": {
           "color": "#2a3f5f"
          },
          "geo": {
           "bgcolor": "white",
           "lakecolor": "white",
           "landcolor": "white",
           "showlakes": true,
           "showland": true,
           "subunitcolor": "#C8D4E3"
          },
          "hoverlabel": {
           "align": "left"
          },
          "hovermode": "closest",
          "mapbox": {
           "style": "light"
          },
          "paper_bgcolor": "white",
          "plot_bgcolor": "white",
          "polar": {
           "angularaxis": {
            "gridcolor": "#EBF0F8",
            "linecolor": "#EBF0F8",
            "ticks": ""
           },
           "bgcolor": "white",
           "radialaxis": {
            "gridcolor": "#EBF0F8",
            "linecolor": "#EBF0F8",
            "ticks": ""
           }
          },
          "scene": {
           "xaxis": {
            "backgroundcolor": "white",
            "gridcolor": "#DFE8F3",
            "gridwidth": 2,
            "linecolor": "#EBF0F8",
            "showbackground": true,
            "ticks": "",
            "zerolinecolor": "#EBF0F8"
           },
           "yaxis": {
            "backgroundcolor": "white",
            "gridcolor": "#DFE8F3",
            "gridwidth": 2,
            "linecolor": "#EBF0F8",
            "showbackground": true,
            "ticks": "",
            "zerolinecolor": "#EBF0F8"
           },
           "zaxis": {
            "backgroundcolor": "white",
            "gridcolor": "#DFE8F3",
            "gridwidth": 2,
            "linecolor": "#EBF0F8",
            "showbackground": true,
            "ticks": "",
            "zerolinecolor": "#EBF0F8"
           }
          },
          "shapedefaults": {
           "line": {
            "color": "#2a3f5f"
           }
          },
          "ternary": {
           "aaxis": {
            "gridcolor": "#DFE8F3",
            "linecolor": "#A2B1C6",
            "ticks": ""
           },
           "baxis": {
            "gridcolor": "#DFE8F3",
            "linecolor": "#A2B1C6",
            "ticks": ""
           },
           "bgcolor": "white",
           "caxis": {
            "gridcolor": "#DFE8F3",
            "linecolor": "#A2B1C6",
            "ticks": ""
           }
          },
          "title": {
           "x": 0.05
          },
          "xaxis": {
           "automargin": true,
           "gridcolor": "#EBF0F8",
           "linecolor": "#EBF0F8",
           "ticks": "",
           "title": {
            "standoff": 15
           },
           "zerolinecolor": "#EBF0F8",
           "zerolinewidth": 2
          },
          "yaxis": {
           "automargin": true,
           "gridcolor": "#EBF0F8",
           "linecolor": "#EBF0F8",
           "ticks": "",
           "title": {
            "standoff": 15
           },
           "zerolinecolor": "#EBF0F8",
           "zerolinewidth": 2
          }
         }
        },
        "title": {
         "text": "Distribution of Activity Counts"
        },
        "xaxis": {
         "anchor": "y",
         "domain": [
          0,
          1
         ],
         "title": {
          "text": "Activity Count"
         }
        },
        "yaxis": {
         "anchor": "x",
         "domain": [
          0,
          1
         ],
         "title": {
          "text": "Frequency"
         }
        }
       }
      }
     },
     "metadata": {},
     "output_type": "display_data"
    }
   ],
   "source": [
    "fig_hist = px.histogram(\n",
    "    df,\n",
    "    x=\"activity_count\",\n",
    "    nbins=50,\n",
    "    title=\"Distribution of Activity Counts\",\n",
    "    labels={\"activity_count\": \"Activity Count\"},\n",
    "    template=\"plotly_white\"\n",
    ")\n",
    "fig_hist.update_traces(marker_color=\"#86c5da\")\n",
    "fig_hist.update_layout(xaxis_title=\"Activity Count\", yaxis_title=\"Frequency\")\n",
    "fig_hist.show()"
   ]
  },
  {
   "cell_type": "markdown",
   "id": "a1e4d798",
   "metadata": {},
   "source": [
    "The histogram clearly demonstrates a heavy right skew in **activity_count**, suggesting that while most learners have moderate activity, a small number show extremely high activity levels."
   ]
  },
  {
   "cell_type": "markdown",
   "id": "ebab2cd4",
   "metadata": {},
   "source": [
    "### **Performance Brackets**\n"
   ]
  },
  {
   "cell_type": "code",
   "execution_count": 8,
   "id": "8a961339",
   "metadata": {},
   "outputs": [
    {
     "data": {
      "application/vnd.plotly.v1+json": {
       "config": {
        "plotlyServerURL": "https://plot.ly"
       },
       "data": [
        {
         "alignmentgroup": "True",
         "hovertemplate": "Performance Bracket=%{x}<br>Number of Learners=%{y}<extra></extra>",
         "legendgroup": "others",
         "marker": {
          "color": "#636efa",
          "pattern": {
           "shape": ""
          }
         },
         "name": "others",
         "offsetgroup": "others",
         "orientation": "v",
         "showlegend": true,
         "textposition": "auto",
         "type": "bar",
         "x": [
          "others"
         ],
         "xaxis": "x",
         "y": [
          734
         ],
         "yaxis": "y"
        },
        {
         "alignmentgroup": "True",
         "hovertemplate": "Performance Bracket=%{x}<br>Number of Learners=%{y}<extra></extra>",
         "legendgroup": "top 25%",
         "marker": {
          "color": "#EF553B",
          "pattern": {
           "shape": ""
          }
         },
         "name": "top 25%",
         "offsetgroup": "top 25%",
         "orientation": "v",
         "showlegend": true,
         "textposition": "auto",
         "type": "bar",
         "x": [
          "top 25%"
         ],
         "xaxis": "x",
         "y": [
          164
         ],
         "yaxis": "y"
        },
        {
         "alignmentgroup": "True",
         "hovertemplate": "Performance Bracket=%{x}<br>Number of Learners=%{y}<extra></extra>",
         "legendgroup": "top 10%",
         "marker": {
          "color": "#00cc96",
          "pattern": {
           "shape": ""
          }
         },
         "name": "top 10%",
         "offsetgroup": "top 10%",
         "orientation": "v",
         "showlegend": true,
         "textposition": "auto",
         "type": "bar",
         "x": [
          "top 10%"
         ],
         "xaxis": "x",
         "y": [
          96
         ],
         "yaxis": "y"
        },
        {
         "alignmentgroup": "True",
         "hovertemplate": "Performance Bracket=%{x}<br>Number of Learners=%{y}<extra></extra>",
         "legendgroup": "top 1%",
         "marker": {
          "color": "#ab63fa",
          "pattern": {
           "shape": ""
          }
         },
         "name": "top 1%",
         "offsetgroup": "top 1%",
         "orientation": "v",
         "showlegend": true,
         "textposition": "auto",
         "type": "bar",
         "x": [
          "top 1%"
         ],
         "xaxis": "x",
         "y": [
          28
         ],
         "yaxis": "y"
        },
        {
         "alignmentgroup": "True",
         "hovertemplate": "Performance Bracket=%{x}<br>Number of Learners=%{y}<extra></extra>",
         "legendgroup": "top 5%",
         "marker": {
          "color": "#FFA15A",
          "pattern": {
           "shape": ""
          }
         },
         "name": "top 5%",
         "offsetgroup": "top 5%",
         "orientation": "v",
         "showlegend": true,
         "textposition": "auto",
         "type": "bar",
         "x": [
          "top 5%"
         ],
         "xaxis": "x",
         "y": [
          27
         ],
         "yaxis": "y"
        }
       ],
       "layout": {
        "barmode": "relative",
        "legend": {
         "title": {
          "text": "Performance Bracket"
         },
         "tracegroupgap": 0
        },
        "template": {
         "data": {
          "bar": [
           {
            "error_x": {
             "color": "#2a3f5f"
            },
            "error_y": {
             "color": "#2a3f5f"
            },
            "marker": {
             "line": {
              "color": "white",
              "width": 0.5
             },
             "pattern": {
              "fillmode": "overlay",
              "size": 10,
              "solidity": 0.2
             }
            },
            "type": "bar"
           }
          ],
          "barpolar": [
           {
            "marker": {
             "line": {
              "color": "white",
              "width": 0.5
             },
             "pattern": {
              "fillmode": "overlay",
              "size": 10,
              "solidity": 0.2
             }
            },
            "type": "barpolar"
           }
          ],
          "carpet": [
           {
            "aaxis": {
             "endlinecolor": "#2a3f5f",
             "gridcolor": "#C8D4E3",
             "linecolor": "#C8D4E3",
             "minorgridcolor": "#C8D4E3",
             "startlinecolor": "#2a3f5f"
            },
            "baxis": {
             "endlinecolor": "#2a3f5f",
             "gridcolor": "#C8D4E3",
             "linecolor": "#C8D4E3",
             "minorgridcolor": "#C8D4E3",
             "startlinecolor": "#2a3f5f"
            },
            "type": "carpet"
           }
          ],
          "choropleth": [
           {
            "colorbar": {
             "outlinewidth": 0,
             "ticks": ""
            },
            "type": "choropleth"
           }
          ],
          "contour": [
           {
            "colorbar": {
             "outlinewidth": 0,
             "ticks": ""
            },
            "colorscale": [
             [
              0,
              "#0d0887"
             ],
             [
              0.1111111111111111,
              "#46039f"
             ],
             [
              0.2222222222222222,
              "#7201a8"
             ],
             [
              0.3333333333333333,
              "#9c179e"
             ],
             [
              0.4444444444444444,
              "#bd3786"
             ],
             [
              0.5555555555555556,
              "#d8576b"
             ],
             [
              0.6666666666666666,
              "#ed7953"
             ],
             [
              0.7777777777777778,
              "#fb9f3a"
             ],
             [
              0.8888888888888888,
              "#fdca26"
             ],
             [
              1,
              "#f0f921"
             ]
            ],
            "type": "contour"
           }
          ],
          "contourcarpet": [
           {
            "colorbar": {
             "outlinewidth": 0,
             "ticks": ""
            },
            "type": "contourcarpet"
           }
          ],
          "heatmap": [
           {
            "colorbar": {
             "outlinewidth": 0,
             "ticks": ""
            },
            "colorscale": [
             [
              0,
              "#0d0887"
             ],
             [
              0.1111111111111111,
              "#46039f"
             ],
             [
              0.2222222222222222,
              "#7201a8"
             ],
             [
              0.3333333333333333,
              "#9c179e"
             ],
             [
              0.4444444444444444,
              "#bd3786"
             ],
             [
              0.5555555555555556,
              "#d8576b"
             ],
             [
              0.6666666666666666,
              "#ed7953"
             ],
             [
              0.7777777777777778,
              "#fb9f3a"
             ],
             [
              0.8888888888888888,
              "#fdca26"
             ],
             [
              1,
              "#f0f921"
             ]
            ],
            "type": "heatmap"
           }
          ],
          "heatmapgl": [
           {
            "colorbar": {
             "outlinewidth": 0,
             "ticks": ""
            },
            "colorscale": [
             [
              0,
              "#0d0887"
             ],
             [
              0.1111111111111111,
              "#46039f"
             ],
             [
              0.2222222222222222,
              "#7201a8"
             ],
             [
              0.3333333333333333,
              "#9c179e"
             ],
             [
              0.4444444444444444,
              "#bd3786"
             ],
             [
              0.5555555555555556,
              "#d8576b"
             ],
             [
              0.6666666666666666,
              "#ed7953"
             ],
             [
              0.7777777777777778,
              "#fb9f3a"
             ],
             [
              0.8888888888888888,
              "#fdca26"
             ],
             [
              1,
              "#f0f921"
             ]
            ],
            "type": "heatmapgl"
           }
          ],
          "histogram": [
           {
            "marker": {
             "pattern": {
              "fillmode": "overlay",
              "size": 10,
              "solidity": 0.2
             }
            },
            "type": "histogram"
           }
          ],
          "histogram2d": [
           {
            "colorbar": {
             "outlinewidth": 0,
             "ticks": ""
            },
            "colorscale": [
             [
              0,
              "#0d0887"
             ],
             [
              0.1111111111111111,
              "#46039f"
             ],
             [
              0.2222222222222222,
              "#7201a8"
             ],
             [
              0.3333333333333333,
              "#9c179e"
             ],
             [
              0.4444444444444444,
              "#bd3786"
             ],
             [
              0.5555555555555556,
              "#d8576b"
             ],
             [
              0.6666666666666666,
              "#ed7953"
             ],
             [
              0.7777777777777778,
              "#fb9f3a"
             ],
             [
              0.8888888888888888,
              "#fdca26"
             ],
             [
              1,
              "#f0f921"
             ]
            ],
            "type": "histogram2d"
           }
          ],
          "histogram2dcontour": [
           {
            "colorbar": {
             "outlinewidth": 0,
             "ticks": ""
            },
            "colorscale": [
             [
              0,
              "#0d0887"
             ],
             [
              0.1111111111111111,
              "#46039f"
             ],
             [
              0.2222222222222222,
              "#7201a8"
             ],
             [
              0.3333333333333333,
              "#9c179e"
             ],
             [
              0.4444444444444444,
              "#bd3786"
             ],
             [
              0.5555555555555556,
              "#d8576b"
             ],
             [
              0.6666666666666666,
              "#ed7953"
             ],
             [
              0.7777777777777778,
              "#fb9f3a"
             ],
             [
              0.8888888888888888,
              "#fdca26"
             ],
             [
              1,
              "#f0f921"
             ]
            ],
            "type": "histogram2dcontour"
           }
          ],
          "mesh3d": [
           {
            "colorbar": {
             "outlinewidth": 0,
             "ticks": ""
            },
            "type": "mesh3d"
           }
          ],
          "parcoords": [
           {
            "line": {
             "colorbar": {
              "outlinewidth": 0,
              "ticks": ""
             }
            },
            "type": "parcoords"
           }
          ],
          "pie": [
           {
            "automargin": true,
            "type": "pie"
           }
          ],
          "scatter": [
           {
            "fillpattern": {
             "fillmode": "overlay",
             "size": 10,
             "solidity": 0.2
            },
            "type": "scatter"
           }
          ],
          "scatter3d": [
           {
            "line": {
             "colorbar": {
              "outlinewidth": 0,
              "ticks": ""
             }
            },
            "marker": {
             "colorbar": {
              "outlinewidth": 0,
              "ticks": ""
             }
            },
            "type": "scatter3d"
           }
          ],
          "scattercarpet": [
           {
            "marker": {
             "colorbar": {
              "outlinewidth": 0,
              "ticks": ""
             }
            },
            "type": "scattercarpet"
           }
          ],
          "scattergeo": [
           {
            "marker": {
             "colorbar": {
              "outlinewidth": 0,
              "ticks": ""
             }
            },
            "type": "scattergeo"
           }
          ],
          "scattergl": [
           {
            "marker": {
             "colorbar": {
              "outlinewidth": 0,
              "ticks": ""
             }
            },
            "type": "scattergl"
           }
          ],
          "scattermapbox": [
           {
            "marker": {
             "colorbar": {
              "outlinewidth": 0,
              "ticks": ""
             }
            },
            "type": "scattermapbox"
           }
          ],
          "scatterpolar": [
           {
            "marker": {
             "colorbar": {
              "outlinewidth": 0,
              "ticks": ""
             }
            },
            "type": "scatterpolar"
           }
          ],
          "scatterpolargl": [
           {
            "marker": {
             "colorbar": {
              "outlinewidth": 0,
              "ticks": ""
             }
            },
            "type": "scatterpolargl"
           }
          ],
          "scatterternary": [
           {
            "marker": {
             "colorbar": {
              "outlinewidth": 0,
              "ticks": ""
             }
            },
            "type": "scatterternary"
           }
          ],
          "surface": [
           {
            "colorbar": {
             "outlinewidth": 0,
             "ticks": ""
            },
            "colorscale": [
             [
              0,
              "#0d0887"
             ],
             [
              0.1111111111111111,
              "#46039f"
             ],
             [
              0.2222222222222222,
              "#7201a8"
             ],
             [
              0.3333333333333333,
              "#9c179e"
             ],
             [
              0.4444444444444444,
              "#bd3786"
             ],
             [
              0.5555555555555556,
              "#d8576b"
             ],
             [
              0.6666666666666666,
              "#ed7953"
             ],
             [
              0.7777777777777778,
              "#fb9f3a"
             ],
             [
              0.8888888888888888,
              "#fdca26"
             ],
             [
              1,
              "#f0f921"
             ]
            ],
            "type": "surface"
           }
          ],
          "table": [
           {
            "cells": {
             "fill": {
              "color": "#EBF0F8"
             },
             "line": {
              "color": "white"
             }
            },
            "header": {
             "fill": {
              "color": "#C8D4E3"
             },
             "line": {
              "color": "white"
             }
            },
            "type": "table"
           }
          ]
         },
         "layout": {
          "annotationdefaults": {
           "arrowcolor": "#2a3f5f",
           "arrowhead": 0,
           "arrowwidth": 1
          },
          "autotypenumbers": "strict",
          "coloraxis": {
           "colorbar": {
            "outlinewidth": 0,
            "ticks": ""
           }
          },
          "colorscale": {
           "diverging": [
            [
             0,
             "#8e0152"
            ],
            [
             0.1,
             "#c51b7d"
            ],
            [
             0.2,
             "#de77ae"
            ],
            [
             0.3,
             "#f1b6da"
            ],
            [
             0.4,
             "#fde0ef"
            ],
            [
             0.5,
             "#f7f7f7"
            ],
            [
             0.6,
             "#e6f5d0"
            ],
            [
             0.7,
             "#b8e186"
            ],
            [
             0.8,
             "#7fbc41"
            ],
            [
             0.9,
             "#4d9221"
            ],
            [
             1,
             "#276419"
            ]
           ],
           "sequential": [
            [
             0,
             "#0d0887"
            ],
            [
             0.1111111111111111,
             "#46039f"
            ],
            [
             0.2222222222222222,
             "#7201a8"
            ],
            [
             0.3333333333333333,
             "#9c179e"
            ],
            [
             0.4444444444444444,
             "#bd3786"
            ],
            [
             0.5555555555555556,
             "#d8576b"
            ],
            [
             0.6666666666666666,
             "#ed7953"
            ],
            [
             0.7777777777777778,
             "#fb9f3a"
            ],
            [
             0.8888888888888888,
             "#fdca26"
            ],
            [
             1,
             "#f0f921"
            ]
           ],
           "sequentialminus": [
            [
             0,
             "#0d0887"
            ],
            [
             0.1111111111111111,
             "#46039f"
            ],
            [
             0.2222222222222222,
             "#7201a8"
            ],
            [
             0.3333333333333333,
             "#9c179e"
            ],
            [
             0.4444444444444444,
             "#bd3786"
            ],
            [
             0.5555555555555556,
             "#d8576b"
            ],
            [
             0.6666666666666666,
             "#ed7953"
            ],
            [
             0.7777777777777778,
             "#fb9f3a"
            ],
            [
             0.8888888888888888,
             "#fdca26"
            ],
            [
             1,
             "#f0f921"
            ]
           ]
          },
          "colorway": [
           "#636efa",
           "#EF553B",
           "#00cc96",
           "#ab63fa",
           "#FFA15A",
           "#19d3f3",
           "#FF6692",
           "#B6E880",
           "#FF97FF",
           "#FECB52"
          ],
          "font": {
           "color": "#2a3f5f"
          },
          "geo": {
           "bgcolor": "white",
           "lakecolor": "white",
           "landcolor": "white",
           "showlakes": true,
           "showland": true,
           "subunitcolor": "#C8D4E3"
          },
          "hoverlabel": {
           "align": "left"
          },
          "hovermode": "closest",
          "mapbox": {
           "style": "light"
          },
          "paper_bgcolor": "white",
          "plot_bgcolor": "white",
          "polar": {
           "angularaxis": {
            "gridcolor": "#EBF0F8",
            "linecolor": "#EBF0F8",
            "ticks": ""
           },
           "bgcolor": "white",
           "radialaxis": {
            "gridcolor": "#EBF0F8",
            "linecolor": "#EBF0F8",
            "ticks": ""
           }
          },
          "scene": {
           "xaxis": {
            "backgroundcolor": "white",
            "gridcolor": "#DFE8F3",
            "gridwidth": 2,
            "linecolor": "#EBF0F8",
            "showbackground": true,
            "ticks": "",
            "zerolinecolor": "#EBF0F8"
           },
           "yaxis": {
            "backgroundcolor": "white",
            "gridcolor": "#DFE8F3",
            "gridwidth": 2,
            "linecolor": "#EBF0F8",
            "showbackground": true,
            "ticks": "",
            "zerolinecolor": "#EBF0F8"
           },
           "zaxis": {
            "backgroundcolor": "white",
            "gridcolor": "#DFE8F3",
            "gridwidth": 2,
            "linecolor": "#EBF0F8",
            "showbackground": true,
            "ticks": "",
            "zerolinecolor": "#EBF0F8"
           }
          },
          "shapedefaults": {
           "line": {
            "color": "#2a3f5f"
           }
          },
          "ternary": {
           "aaxis": {
            "gridcolor": "#DFE8F3",
            "linecolor": "#A2B1C6",
            "ticks": ""
           },
           "baxis": {
            "gridcolor": "#DFE8F3",
            "linecolor": "#A2B1C6",
            "ticks": ""
           },
           "bgcolor": "white",
           "caxis": {
            "gridcolor": "#DFE8F3",
            "linecolor": "#A2B1C6",
            "ticks": ""
           }
          },
          "title": {
           "x": 0.05
          },
          "xaxis": {
           "automargin": true,
           "gridcolor": "#EBF0F8",
           "linecolor": "#EBF0F8",
           "ticks": "",
           "title": {
            "standoff": 15
           },
           "zerolinecolor": "#EBF0F8",
           "zerolinewidth": 2
          },
          "yaxis": {
           "automargin": true,
           "gridcolor": "#EBF0F8",
           "linecolor": "#EBF0F8",
           "ticks": "",
           "title": {
            "standoff": 15
           },
           "zerolinecolor": "#EBF0F8",
           "zerolinewidth": 2
          }
         }
        },
        "title": {
         "text": "Learners by Performance Bracket"
        },
        "xaxis": {
         "anchor": "y",
         "categoryarray": [
          "top 1%",
          "top 5%",
          "top 10%",
          "top 25%",
          "others"
         ],
         "categoryorder": "array",
         "domain": [
          0,
          1
         ],
         "title": {
          "text": "Performance Bracket"
         }
        },
        "yaxis": {
         "anchor": "x",
         "domain": [
          0,
          1
         ],
         "title": {
          "text": "Number of Learners"
         }
        }
       }
      }
     },
     "metadata": {},
     "output_type": "display_data"
    }
   ],
   "source": [
    "perf_counts = df[\"performance_bracket\"].value_counts().reset_index()\n",
    "perf_counts.columns = [\"performance_bracket\", \"num_learners\"]\n",
    "\n",
    "fig_bar = px.bar(\n",
    "    perf_counts,\n",
    "    x=\"performance_bracket\",\n",
    "    y=\"num_learners\",\n",
    "    title=\"Learners by Performance Bracket\",\n",
    "    labels={\"performance_bracket\": \"Performance Bracket\", \"num_learners\": \"Number of Learners\"},\n",
    "    template=\"plotly_white\",\n",
    "    color=\"performance_bracket\"\n",
    ")\n",
    "fig_bar.update_layout(xaxis={'categoryorder':'array', 'categoryarray':['top 1%','top 5%','top 10%','top 25%', 'others']})\n",
    "fig_bar.show()"
   ]
  },
  {
   "cell_type": "markdown",
   "id": "fe11d497",
   "metadata": {},
   "source": [
    "The bar chart shows that the majority of learners are classified in the \"others\" performance bracket, with fewer learners in higher performance groups. This suggests a generally moderate level of performance across the dataset."
   ]
  },
  {
   "cell_type": "markdown",
   "id": "de360de0",
   "metadata": {},
   "source": [
    "### **Average Activity vs. Login Count**\n"
   ]
  },
  {
   "cell_type": "code",
   "execution_count": 9,
   "id": "bf363c28",
   "metadata": {},
   "outputs": [
    {
     "data": {
      "application/vnd.plotly.v1+json": {
       "config": {
        "plotlyServerURL": "https://plot.ly"
       },
       "data": [
        {
         "hovertemplate": "performance_bracket=top 1%<br>Login Count=%{x}<br>Average Activity=%{y}<extra></extra>",
         "legendgroup": "top 1%",
         "marker": {
          "color": "#636efa",
          "line": {
           "color": "white",
           "width": 1
          },
          "size": 8,
          "symbol": "circle"
         },
         "mode": "markers",
         "name": "top 1%",
         "showlegend": true,
         "type": "scattergl",
         "x": [
          null,
          1,
          null,
          null,
          1,
          null,
          null,
          null,
          null,
          null,
          null,
          null,
          null,
          null,
          null,
          null,
          null,
          null,
          null,
          null,
          null,
          null,
          null,
          null,
          null,
          null,
          null,
          null
         ],
         "xaxis": "x",
         "y": [
          null,
          3,
          null,
          null,
          7,
          null,
          null,
          null,
          null,
          null,
          null,
          null,
          null,
          null,
          null,
          null,
          null,
          null,
          null,
          null,
          null,
          null,
          null,
          null,
          null,
          null,
          null,
          null
         ],
         "yaxis": "y"
        },
        {
         "hovertemplate": "performance_bracket=others<br>Login Count=%{x}<br>Average Activity=%{y}<extra></extra>",
         "legendgroup": "others",
         "marker": {
          "color": "#EF553B",
          "line": {
           "color": "white",
           "width": 1
          },
          "size": 8,
          "symbol": "circle"
         },
         "mode": "markers",
         "name": "others",
         "showlegend": true,
         "type": "scattergl",
         "x": [
          null,
          null,
          169,
          107,
          54,
          3,
          2,
          13,
          null,
          null,
          null,
          5,
          5,
          null,
          null,
          2,
          2,
          null,
          1,
          null,
          3,
          46,
          null,
          null,
          null,
          null,
          4,
          null,
          4,
          3,
          null,
          7,
          4,
          19,
          1,
          21,
          12,
          23,
          63,
          2,
          3,
          32,
          null,
          33,
          17,
          2,
          null,
          6,
          2,
          2,
          41,
          15,
          2,
          9,
          19,
          12,
          null,
          2,
          8,
          null,
          12,
          7,
          3,
          5,
          2,
          1,
          8,
          4,
          4,
          7,
          1,
          null,
          9,
          2,
          1,
          2,
          15,
          3,
          2,
          null,
          7,
          null,
          57,
          null,
          1,
          2,
          3,
          37,
          5,
          null,
          27,
          15,
          5,
          1,
          8,
          19,
          1,
          18,
          6,
          4,
          2,
          null,
          2,
          null,
          1,
          2,
          null,
          17,
          3,
          null,
          26,
          3,
          6,
          4,
          null,
          18,
          1,
          4,
          13,
          5,
          1,
          3,
          4,
          10,
          9,
          20,
          1,
          14,
          null,
          3,
          12,
          2,
          4,
          6,
          null,
          18,
          6,
          14,
          14,
          19,
          7,
          6,
          2,
          2,
          8,
          5,
          null,
          1,
          15,
          2,
          4,
          5,
          2,
          5,
          1,
          1,
          1,
          91,
          5,
          17,
          6,
          2,
          55,
          3,
          1,
          null,
          13,
          5,
          3,
          null,
          4,
          16,
          8,
          null,
          5,
          null,
          3,
          19,
          5,
          null,
          4,
          4,
          50,
          null,
          null,
          4,
          3,
          1,
          null,
          null,
          4,
          11,
          null,
          23,
          3,
          4,
          4,
          1,
          null,
          1,
          2,
          8,
          13,
          1,
          null,
          7,
          3,
          3,
          null,
          11,
          null,
          3,
          2,
          3,
          13,
          2,
          null,
          5,
          1,
          4,
          23,
          null,
          null,
          1,
          1,
          5,
          24,
          2,
          3,
          3,
          1,
          4,
          1,
          5,
          9,
          1,
          6,
          null,
          113,
          2,
          null,
          null,
          20,
          1,
          3,
          8,
          19,
          2,
          2,
          null,
          7,
          36,
          4,
          2,
          14,
          2,
          1,
          4,
          64,
          7,
          16,
          2,
          4,
          18,
          7,
          4,
          26,
          3,
          null,
          46,
          6,
          null,
          5,
          2,
          6,
          null,
          30,
          3,
          33,
          7,
          2,
          18,
          73,
          2,
          1,
          3,
          31,
          3,
          7,
          1,
          4,
          8,
          null,
          8,
          1,
          17,
          null,
          3,
          7,
          2,
          1,
          3,
          null,
          3,
          null,
          2,
          null,
          2,
          null,
          3,
          2,
          9,
          2,
          null,
          1,
          null,
          null,
          null,
          null,
          null,
          21,
          null,
          2,
          10,
          3,
          1,
          8,
          null,
          null,
          null,
          null,
          4,
          10,
          24,
          3,
          5,
          68,
          null,
          12,
          26,
          7,
          4,
          1,
          6,
          null,
          20,
          8,
          null,
          2,
          1,
          null,
          3,
          null,
          7,
          40,
          20,
          null,
          null,
          null,
          5,
          null,
          100,
          1,
          null,
          7,
          1,
          11,
          1,
          5,
          13,
          16,
          1,
          null,
          23,
          23,
          42,
          2,
          24,
          3,
          6,
          1,
          null,
          10,
          2,
          null,
          2,
          1,
          2,
          2,
          2,
          14,
          null,
          2,
          null,
          2,
          5,
          1,
          38,
          11,
          9,
          1,
          1,
          2,
          2,
          2,
          16,
          3,
          1,
          6,
          6,
          3,
          16,
          2,
          1,
          2,
          21,
          4,
          3,
          5,
          null,
          2,
          null,
          7,
          1,
          26,
          1,
          1,
          2,
          2,
          null,
          1,
          4,
          13,
          1,
          null,
          1,
          3,
          6,
          5,
          2,
          2,
          1,
          19,
          2,
          9,
          6,
          1,
          null,
          1,
          1,
          3,
          1,
          2,
          2,
          1,
          2,
          3,
          1,
          1,
          2,
          null,
          1,
          2,
          1,
          2,
          1,
          1,
          1,
          1,
          1,
          1,
          null,
          2,
          1,
          1,
          2,
          3,
          1,
          1,
          1,
          5,
          null,
          2,
          1,
          2,
          2,
          1,
          10,
          1,
          1,
          1,
          null,
          2,
          51,
          1,
          1,
          36,
          1,
          null,
          9,
          2,
          19,
          1,
          2,
          1,
          1,
          37,
          6,
          1,
          5,
          1,
          1,
          2,
          null,
          1,
          1,
          null,
          1,
          null,
          2,
          null,
          1,
          5,
          1,
          null,
          1,
          1,
          8,
          1,
          2,
          6,
          1,
          2,
          null,
          1,
          1,
          1,
          1,
          2,
          null,
          null,
          1,
          5,
          29,
          4,
          3,
          1,
          null,
          1,
          null,
          2,
          null,
          null,
          1,
          1,
          2,
          null,
          null,
          2,
          null,
          2,
          null,
          4,
          1,
          2,
          1,
          9,
          1,
          1,
          2,
          1,
          null,
          1,
          1,
          1,
          1,
          10,
          1,
          1,
          1,
          5,
          5,
          3,
          2,
          1,
          1,
          2,
          1,
          4,
          2,
          2,
          3,
          1,
          2,
          6,
          1,
          1,
          null,
          3,
          1,
          3,
          null,
          1,
          3,
          2,
          2,
          1,
          null,
          1,
          2,
          2,
          7,
          null,
          3,
          1,
          null,
          2,
          2,
          null,
          2,
          1,
          null,
          1,
          1,
          3,
          1,
          2,
          null,
          1,
          2,
          1,
          2,
          1,
          null,
          null,
          2,
          1,
          8,
          5,
          3,
          6,
          2,
          1,
          1,
          2,
          1,
          5,
          1,
          1,
          1,
          27,
          7,
          3,
          16,
          2,
          5,
          null,
          2,
          4,
          1,
          null,
          1,
          1,
          1,
          1,
          1,
          1,
          1,
          1,
          1,
          1,
          2,
          null,
          2,
          1,
          2,
          1,
          2,
          1,
          1,
          null,
          47,
          8,
          1,
          1,
          2,
          14,
          1,
          1,
          16,
          1,
          2,
          1,
          5,
          6,
          4,
          2,
          1,
          1,
          null,
          1,
          null,
          2,
          1,
          null,
          null,
          null,
          1,
          null,
          1,
          1,
          13,
          2,
          4,
          1,
          null,
          2,
          1,
          2,
          3,
          1,
          1,
          2,
          3,
          1,
          1,
          14,
          4,
          13,
          2,
          1,
          2,
          6,
          1
         ],
         "xaxis": "x",
         "y": [
          null,
          null,
          266.4082840236686,
          120.76635514018692,
          19.98148148148148,
          31.33333333333333,
          27.5,
          33.53846153846154,
          null,
          null,
          null,
          29.4,
          86.6,
          null,
          null,
          69,
          47.5,
          null,
          84,
          null,
          34,
          41.17391304347826,
          null,
          null,
          null,
          null,
          42.25,
          null,
          24.75,
          37,
          null,
          41,
          125,
          18.42105263157895,
          103,
          234.0952380952381,
          81.83333333333333,
          44.69565217391305,
          67.31746031746032,
          45,
          28,
          84.6875,
          null,
          51.42424242424242,
          52.94117647058823,
          56.5,
          null,
          23.5,
          61.5,
          105.5,
          69.17073170731707,
          149.4,
          53,
          25.55555555555556,
          140.47368421052633,
          16.25,
          null,
          43,
          20.625,
          null,
          53.333333333333336,
          43.142857142857146,
          50.333333333333336,
          21,
          64,
          86,
          83.375,
          54.5,
          36.75,
          547.4285714285714,
          201,
          null,
          49.44444444444444,
          57.5,
          96,
          71,
          36.266666666666666,
          48,
          231,
          null,
          212.28571428571428,
          null,
          81.47368421052632,
          null,
          83,
          47,
          77,
          108.2162162162162,
          46.8,
          null,
          70.74074074074075,
          44.73333333333333,
          28.2,
          122,
          199.125,
          45.526315789473685,
          94,
          17.61111111111111,
          21.33333333333333,
          70,
          72.5,
          null,
          40,
          null,
          83,
          42,
          null,
          62.52941176470589,
          55,
          null,
          50.61538461538461,
          39.333333333333336,
          72.83333333333333,
          73.5,
          null,
          63.22222222222222,
          93,
          30.25,
          56.61538461538461,
          82.4,
          97,
          35.333333333333336,
          56,
          28.7,
          39,
          45.95,
          394,
          22.071428571428573,
          null,
          57,
          65.08333333333333,
          59.5,
          44.25,
          107.5,
          null,
          42.888888888888886,
          24.166666666666668,
          46.35714285714285,
          68.42857142857143,
          78.26315789473684,
          38,
          34.166666666666664,
          49,
          63,
          16.5,
          91.4,
          null,
          95,
          52.266666666666666,
          57,
          28.5,
          88.6,
          72.5,
          48,
          80,
          86,
          84,
          66.0989010989011,
          27.4,
          68.88235294117646,
          75.16666666666667,
          42,
          44.54545454545455,
          28.33333333333333,
          95,
          null,
          139.23076923076923,
          21.8,
          35.333333333333336,
          null,
          64.25,
          29.4375,
          75.25,
          null,
          171.8,
          null,
          113,
          132.73684210526315,
          31.8,
          null,
          39,
          161.75,
          37.44,
          null,
          null,
          34.5,
          176.33333333333334,
          124,
          null,
          null,
          43.25,
          24.272727272727277,
          null,
          215.82608695652172,
          117.33333333333331,
          37.25,
          33.75,
          82,
          null,
          94,
          49,
          29.125,
          236.53846153846155,
          104,
          null,
          42,
          40,
          35,
          null,
          130.36363636363637,
          null,
          42,
          55,
          33.666666666666664,
          44.69230769230769,
          91,
          null,
          29.8,
          93,
          30,
          220.1304347826087,
          null,
          null,
          84,
          94,
          64.4,
          69.875,
          53.5,
          62.333333333333336,
          52.333333333333336,
          73,
          35.75,
          103,
          153.4,
          57.22222222222222,
          104,
          51.66666666666666,
          null,
          123.15929203539822,
          65,
          null,
          null,
          45.4,
          77,
          34,
          72.25,
          42.8421052631579,
          291.5,
          76,
          null,
          34,
          61.41666666666666,
          34.5,
          40,
          125.42857142857144,
          155,
          92,
          36.75,
          60.96875,
          19,
          32.875,
          40.5,
          106.25,
          24.666666666666668,
          32.285714285714285,
          22.5,
          72.15384615384616,
          37,
          null,
          19.82608695652174,
          43,
          null,
          105.6,
          55,
          98,
          null,
          55.66666666666666,
          58.66666666666666,
          36.81818181818182,
          20,
          48.5,
          38,
          117.23287671232876,
          204.5,
          88,
          28.33333333333333,
          45.45161290322581,
          69.66666666666667,
          22.428571428571427,
          142,
          54.25,
          90.5,
          null,
          112.875,
          89,
          17.235294117647058,
          null,
          22,
          22.857142857142858,
          65.5,
          46,
          28,
          null,
          19.666666666666668,
          null,
          43.5,
          null,
          32.5,
          null,
          27.33333333333333,
          22.5,
          22.55555555555556,
          41.5,
          null,
          47,
          null,
          null,
          null,
          null,
          null,
          204.6190476190476,
          null,
          33,
          97.1,
          32.333333333333336,
          61,
          12.5,
          null,
          null,
          null,
          null,
          32.75,
          201.6,
          20.916666666666668,
          24.666666666666668,
          17.8,
          88.51470588235294,
          null,
          22.75,
          281.53846153846155,
          43.57142857142857,
          57.75,
          52,
          48.66666666666666,
          null,
          37.8,
          25.5,
          null,
          96.5,
          47,
          null,
          33,
          null,
          183.57142857142856,
          34.625,
          82.35,
          null,
          null,
          null,
          175.2,
          null,
          46.08,
          79,
          null,
          50.57142857142857,
          102,
          32.09090909090909,
          154,
          50,
          266.0769230769231,
          72.875,
          79,
          null,
          69.34782608695652,
          130.17391304347825,
          53.80952380952381,
          35.5,
          98.875,
          37.333333333333336,
          296.3333333333333,
          68,
          null,
          279.4,
          42.5,
          null,
          23,
          32,
          16.5,
          13.5,
          14.5,
          12.142857142857142,
          null,
          16,
          null,
          25,
          21,
          29,
          40.1578947368421,
          146,
          27.77777777777778,
          35,
          56,
          13,
          20,
          21.5,
          120.4375,
          20.666666666666668,
          29,
          15.166666666666666,
          19.666666666666668,
          418,
          121.1875,
          24.5,
          23,
          20.5,
          17.952380952380953,
          26.75,
          10.333333333333334,
          342.4,
          null,
          389.5,
          null,
          13.857142857142858,
          34,
          112.34615384615384,
          43,
          27,
          47.5,
          11,
          null,
          35,
          15,
          9.461538461538462,
          23,
          null,
          18,
          40.333333333333336,
          24,
          12.8,
          21,
          16,
          21,
          222.73684210526315,
          362,
          141,
          17,
          29,
          null,
          36,
          43,
          12.333333333333334,
          37,
          48,
          13.5,
          29,
          17.5,
          17.333333333333332,
          32,
          27,
          22,
          null,
          48,
          29.5,
          19,
          15.5,
          19,
          18,
          23,
          21,
          49,
          29,
          null,
          52,
          24,
          20,
          48.5,
          23.666666666666668,
          38,
          30,
          61,
          12.2,
          null,
          16.5,
          29,
          15.5,
          17.5,
          32,
          334.5,
          22,
          24,
          25,
          null,
          10,
          206.52941176470588,
          19,
          34,
          107.13888888888889,
          32,
          null,
          170.22222222222223,
          56,
          80.89473684210526,
          41,
          23.5,
          27,
          38,
          174.6216216216216,
          13.833333333333334,
          20,
          60.8,
          39,
          22,
          806.5,
          null,
          30,
          22,
          null,
          13,
          null,
          13.5,
          null,
          23,
          16.4,
          760,
          null,
          19,
          23,
          15.5,
          34,
          11,
          15.166666666666666,
          23,
          22.5,
          null,
          42,
          45,
          27,
          18,
          34.5,
          null,
          null,
          18,
          26,
          71.72413793103448,
          10.75,
          8.333333333333334,
          13,
          null,
          21,
          null,
          20.5,
          null,
          null,
          25,
          26,
          32,
          null,
          null,
          16.5,
          null,
          51,
          null,
          45.75,
          25,
          34.5,
          18,
          15.11111111111111,
          47,
          25,
          27,
          52,
          null,
          46,
          87,
          14,
          34,
          422,
          33,
          84,
          31,
          29,
          12.8,
          9.333333333333334,
          51.5,
          21,
          61,
          25,
          780,
          47,
          34,
          448,
          28.666666666666668,
          35,
          21.5,
          14,
          93,
          47,
          null,
          335.3333333333333,
          2608,
          15.333333333333334,
          null,
          14,
          10.333333333333334,
          1846,
          478,
          13,
          null,
          16,
          465,
          14.5,
          11.857142857142858,
          null,
          7.333333333333333,
          41,
          null,
          911,
          17,
          null,
          28.5,
          19,
          null,
          139,
          29,
          15,
          40,
          27,
          null,
          38,
          9.5,
          23,
          30,
          24,
          null,
          null,
          42,
          19,
          247.5,
          35.2,
          28.666666666666668,
          465.3333333333333,
          22,
          41,
          49,
          12.5,
          20,
          16.2,
          22,
          28,
          18,
          66.11111111111111,
          409,
          18,
          8.25,
          14,
          11.4,
          null,
          26,
          931.25,
          16,
          null,
          29,
          43,
          53,
          53,
          22,
          13,
          14,
          66,
          28,
          35,
          14.5,
          null,
          26,
          25,
          14.5,
          38,
          31.5,
          26,
          132,
          null,
          227.5744680851064,
          67.5,
          43,
          27,
          46,
          46.42857142857143,
          32,
          19,
          105.375,
          40,
          27,
          34,
          28.4,
          12.166666666666666,
          34.75,
          14,
          17,
          22,
          null,
          25,
          null,
          10.5,
          13,
          null,
          null,
          null,
          22,
          null,
          25,
          35,
          117.6153846153846,
          35,
          26.5,
          19,
          null,
          27.5,
          47,
          15.5,
          22.666666666666668,
          24,
          33,
          12,
          12,
          28,
          26,
          64.78571428571429,
          851,
          125,
          18.5,
          65,
          88.5,
          12.833333333333334,
          30
         ],
         "yaxis": "y"
        },
        {
         "hovertemplate": "performance_bracket=top 25%<br>Login Count=%{x}<br>Average Activity=%{y}<extra></extra>",
         "legendgroup": "top 25%",
         "marker": {
          "color": "#00cc96",
          "line": {
           "color": "white",
           "width": 1
          },
          "size": 8,
          "symbol": "circle"
         },
         "mode": "markers",
         "name": "top 25%",
         "showlegend": true,
         "type": "scattergl",
         "x": [
          null,
          null,
          null,
          null,
          null,
          null,
          null,
          null,
          null,
          null,
          null,
          null,
          null,
          null,
          null,
          null,
          null,
          null,
          null,
          null,
          null,
          null,
          null,
          null,
          null,
          null,
          null,
          null,
          null,
          null,
          null,
          null,
          null,
          null,
          null,
          null,
          null,
          null,
          null,
          null,
          null,
          null,
          null,
          null,
          null,
          null,
          null,
          null,
          null,
          null,
          null,
          null,
          null,
          null,
          null,
          null,
          null,
          null,
          null,
          null,
          null,
          null,
          null,
          null,
          null,
          null,
          null,
          null,
          null,
          null,
          null,
          null,
          null,
          null,
          null,
          null,
          null,
          null,
          null,
          null,
          null,
          null,
          null,
          null,
          null,
          null,
          null,
          null,
          null,
          null,
          null,
          null,
          null,
          null,
          null,
          null,
          null,
          null,
          null,
          null,
          null,
          null,
          null,
          null,
          null,
          null,
          null,
          null,
          null,
          null,
          null,
          null,
          null,
          null,
          null,
          null,
          null,
          null,
          null,
          null,
          null,
          null,
          null,
          null,
          null,
          null,
          null,
          null,
          null,
          null,
          null,
          null,
          null,
          null,
          null,
          null,
          null,
          null,
          null,
          null,
          null,
          null,
          null,
          null,
          null,
          null,
          null,
          null,
          null,
          null,
          null,
          null,
          null,
          null,
          null,
          null,
          null,
          null,
          null,
          null,
          null,
          null,
          null,
          null
         ],
         "xaxis": "x",
         "y": [
          null,
          null,
          null,
          null,
          null,
          null,
          null,
          null,
          null,
          null,
          null,
          null,
          null,
          null,
          null,
          null,
          null,
          null,
          null,
          null,
          null,
          null,
          null,
          null,
          null,
          null,
          null,
          null,
          null,
          null,
          null,
          null,
          null,
          null,
          null,
          null,
          null,
          null,
          null,
          null,
          null,
          null,
          null,
          null,
          null,
          null,
          null,
          null,
          null,
          null,
          null,
          null,
          null,
          null,
          null,
          null,
          null,
          null,
          null,
          null,
          null,
          null,
          null,
          null,
          null,
          null,
          null,
          null,
          null,
          null,
          null,
          null,
          null,
          null,
          null,
          null,
          null,
          null,
          null,
          null,
          null,
          null,
          null,
          null,
          null,
          null,
          null,
          null,
          null,
          null,
          null,
          null,
          null,
          null,
          null,
          null,
          null,
          null,
          null,
          null,
          null,
          null,
          null,
          null,
          null,
          null,
          null,
          null,
          null,
          null,
          null,
          null,
          null,
          null,
          null,
          null,
          null,
          null,
          null,
          null,
          null,
          null,
          null,
          null,
          null,
          null,
          null,
          null,
          null,
          null,
          null,
          null,
          null,
          null,
          null,
          null,
          null,
          null,
          null,
          null,
          null,
          null,
          null,
          null,
          null,
          null,
          null,
          null,
          null,
          null,
          null,
          null,
          null,
          null,
          null,
          null,
          null,
          null,
          null,
          null,
          null,
          null,
          null,
          null
         ],
         "yaxis": "y"
        },
        {
         "hovertemplate": "performance_bracket=top 10%<br>Login Count=%{x}<br>Average Activity=%{y}<extra></extra>",
         "legendgroup": "top 10%",
         "marker": {
          "color": "#ab63fa",
          "line": {
           "color": "white",
           "width": 1
          },
          "size": 8,
          "symbol": "circle"
         },
         "mode": "markers",
         "name": "top 10%",
         "showlegend": true,
         "type": "scattergl",
         "x": [
          null,
          null,
          null,
          null,
          null,
          null,
          null,
          null,
          null,
          null,
          null,
          null,
          null,
          null,
          null,
          null,
          null,
          null,
          null,
          null,
          null,
          null,
          null,
          null,
          null,
          null,
          null,
          null,
          null,
          null,
          null,
          null,
          null,
          null,
          null,
          null,
          null,
          null,
          null,
          null,
          null,
          null,
          null,
          null,
          null,
          null,
          null,
          null,
          null,
          null,
          null,
          null,
          null,
          null,
          null,
          null,
          null,
          null,
          null,
          null,
          null,
          null,
          null,
          null,
          null,
          null,
          null,
          null,
          null,
          null,
          null,
          null,
          null,
          null,
          null,
          null,
          null,
          null,
          null,
          null,
          null,
          null,
          null,
          null,
          null,
          null,
          null,
          null,
          null,
          null,
          null,
          null,
          null,
          null,
          null,
          null
         ],
         "xaxis": "x",
         "y": [
          null,
          null,
          null,
          null,
          null,
          null,
          null,
          null,
          null,
          null,
          null,
          null,
          null,
          null,
          null,
          null,
          null,
          null,
          null,
          null,
          null,
          null,
          null,
          null,
          null,
          null,
          null,
          null,
          null,
          null,
          null,
          null,
          null,
          null,
          null,
          null,
          null,
          null,
          null,
          null,
          null,
          null,
          null,
          null,
          null,
          null,
          null,
          null,
          null,
          null,
          null,
          null,
          null,
          null,
          null,
          null,
          null,
          null,
          null,
          null,
          null,
          null,
          null,
          null,
          null,
          null,
          null,
          null,
          null,
          null,
          null,
          null,
          null,
          null,
          null,
          null,
          null,
          null,
          null,
          null,
          null,
          null,
          null,
          null,
          null,
          null,
          null,
          null,
          null,
          null,
          null,
          null,
          null,
          null,
          null,
          null
         ],
         "yaxis": "y"
        },
        {
         "hovertemplate": "performance_bracket=top 5%<br>Login Count=%{x}<br>Average Activity=%{y}<extra></extra>",
         "legendgroup": "top 5%",
         "marker": {
          "color": "#FFA15A",
          "line": {
           "color": "white",
           "width": 1
          },
          "size": 8,
          "symbol": "circle"
         },
         "mode": "markers",
         "name": "top 5%",
         "showlegend": true,
         "type": "scattergl",
         "x": [
          null,
          null,
          null,
          null,
          null,
          null,
          null,
          null,
          null,
          null,
          null,
          null,
          null,
          null,
          null,
          null,
          null,
          null,
          null,
          null,
          null,
          null,
          null,
          null,
          null,
          null,
          null
         ],
         "xaxis": "x",
         "y": [
          null,
          null,
          null,
          null,
          null,
          null,
          null,
          null,
          null,
          null,
          null,
          null,
          null,
          null,
          null,
          null,
          null,
          null,
          null,
          null,
          null,
          null,
          null,
          null,
          null,
          null,
          null
         ],
         "yaxis": "y"
        }
       ],
       "layout": {
        "legend": {
         "title": {
          "text": "performance_bracket"
         },
         "tracegroupgap": 0
        },
        "template": {
         "data": {
          "bar": [
           {
            "error_x": {
             "color": "#2a3f5f"
            },
            "error_y": {
             "color": "#2a3f5f"
            },
            "marker": {
             "line": {
              "color": "white",
              "width": 0.5
             },
             "pattern": {
              "fillmode": "overlay",
              "size": 10,
              "solidity": 0.2
             }
            },
            "type": "bar"
           }
          ],
          "barpolar": [
           {
            "marker": {
             "line": {
              "color": "white",
              "width": 0.5
             },
             "pattern": {
              "fillmode": "overlay",
              "size": 10,
              "solidity": 0.2
             }
            },
            "type": "barpolar"
           }
          ],
          "carpet": [
           {
            "aaxis": {
             "endlinecolor": "#2a3f5f",
             "gridcolor": "#C8D4E3",
             "linecolor": "#C8D4E3",
             "minorgridcolor": "#C8D4E3",
             "startlinecolor": "#2a3f5f"
            },
            "baxis": {
             "endlinecolor": "#2a3f5f",
             "gridcolor": "#C8D4E3",
             "linecolor": "#C8D4E3",
             "minorgridcolor": "#C8D4E3",
             "startlinecolor": "#2a3f5f"
            },
            "type": "carpet"
           }
          ],
          "choropleth": [
           {
            "colorbar": {
             "outlinewidth": 0,
             "ticks": ""
            },
            "type": "choropleth"
           }
          ],
          "contour": [
           {
            "colorbar": {
             "outlinewidth": 0,
             "ticks": ""
            },
            "colorscale": [
             [
              0,
              "#0d0887"
             ],
             [
              0.1111111111111111,
              "#46039f"
             ],
             [
              0.2222222222222222,
              "#7201a8"
             ],
             [
              0.3333333333333333,
              "#9c179e"
             ],
             [
              0.4444444444444444,
              "#bd3786"
             ],
             [
              0.5555555555555556,
              "#d8576b"
             ],
             [
              0.6666666666666666,
              "#ed7953"
             ],
             [
              0.7777777777777778,
              "#fb9f3a"
             ],
             [
              0.8888888888888888,
              "#fdca26"
             ],
             [
              1,
              "#f0f921"
             ]
            ],
            "type": "contour"
           }
          ],
          "contourcarpet": [
           {
            "colorbar": {
             "outlinewidth": 0,
             "ticks": ""
            },
            "type": "contourcarpet"
           }
          ],
          "heatmap": [
           {
            "colorbar": {
             "outlinewidth": 0,
             "ticks": ""
            },
            "colorscale": [
             [
              0,
              "#0d0887"
             ],
             [
              0.1111111111111111,
              "#46039f"
             ],
             [
              0.2222222222222222,
              "#7201a8"
             ],
             [
              0.3333333333333333,
              "#9c179e"
             ],
             [
              0.4444444444444444,
              "#bd3786"
             ],
             [
              0.5555555555555556,
              "#d8576b"
             ],
             [
              0.6666666666666666,
              "#ed7953"
             ],
             [
              0.7777777777777778,
              "#fb9f3a"
             ],
             [
              0.8888888888888888,
              "#fdca26"
             ],
             [
              1,
              "#f0f921"
             ]
            ],
            "type": "heatmap"
           }
          ],
          "heatmapgl": [
           {
            "colorbar": {
             "outlinewidth": 0,
             "ticks": ""
            },
            "colorscale": [
             [
              0,
              "#0d0887"
             ],
             [
              0.1111111111111111,
              "#46039f"
             ],
             [
              0.2222222222222222,
              "#7201a8"
             ],
             [
              0.3333333333333333,
              "#9c179e"
             ],
             [
              0.4444444444444444,
              "#bd3786"
             ],
             [
              0.5555555555555556,
              "#d8576b"
             ],
             [
              0.6666666666666666,
              "#ed7953"
             ],
             [
              0.7777777777777778,
              "#fb9f3a"
             ],
             [
              0.8888888888888888,
              "#fdca26"
             ],
             [
              1,
              "#f0f921"
             ]
            ],
            "type": "heatmapgl"
           }
          ],
          "histogram": [
           {
            "marker": {
             "pattern": {
              "fillmode": "overlay",
              "size": 10,
              "solidity": 0.2
             }
            },
            "type": "histogram"
           }
          ],
          "histogram2d": [
           {
            "colorbar": {
             "outlinewidth": 0,
             "ticks": ""
            },
            "colorscale": [
             [
              0,
              "#0d0887"
             ],
             [
              0.1111111111111111,
              "#46039f"
             ],
             [
              0.2222222222222222,
              "#7201a8"
             ],
             [
              0.3333333333333333,
              "#9c179e"
             ],
             [
              0.4444444444444444,
              "#bd3786"
             ],
             [
              0.5555555555555556,
              "#d8576b"
             ],
             [
              0.6666666666666666,
              "#ed7953"
             ],
             [
              0.7777777777777778,
              "#fb9f3a"
             ],
             [
              0.8888888888888888,
              "#fdca26"
             ],
             [
              1,
              "#f0f921"
             ]
            ],
            "type": "histogram2d"
           }
          ],
          "histogram2dcontour": [
           {
            "colorbar": {
             "outlinewidth": 0,
             "ticks": ""
            },
            "colorscale": [
             [
              0,
              "#0d0887"
             ],
             [
              0.1111111111111111,
              "#46039f"
             ],
             [
              0.2222222222222222,
              "#7201a8"
             ],
             [
              0.3333333333333333,
              "#9c179e"
             ],
             [
              0.4444444444444444,
              "#bd3786"
             ],
             [
              0.5555555555555556,
              "#d8576b"
             ],
             [
              0.6666666666666666,
              "#ed7953"
             ],
             [
              0.7777777777777778,
              "#fb9f3a"
             ],
             [
              0.8888888888888888,
              "#fdca26"
             ],
             [
              1,
              "#f0f921"
             ]
            ],
            "type": "histogram2dcontour"
           }
          ],
          "mesh3d": [
           {
            "colorbar": {
             "outlinewidth": 0,
             "ticks": ""
            },
            "type": "mesh3d"
           }
          ],
          "parcoords": [
           {
            "line": {
             "colorbar": {
              "outlinewidth": 0,
              "ticks": ""
             }
            },
            "type": "parcoords"
           }
          ],
          "pie": [
           {
            "automargin": true,
            "type": "pie"
           }
          ],
          "scatter": [
           {
            "fillpattern": {
             "fillmode": "overlay",
             "size": 10,
             "solidity": 0.2
            },
            "type": "scatter"
           }
          ],
          "scatter3d": [
           {
            "line": {
             "colorbar": {
              "outlinewidth": 0,
              "ticks": ""
             }
            },
            "marker": {
             "colorbar": {
              "outlinewidth": 0,
              "ticks": ""
             }
            },
            "type": "scatter3d"
           }
          ],
          "scattercarpet": [
           {
            "marker": {
             "colorbar": {
              "outlinewidth": 0,
              "ticks": ""
             }
            },
            "type": "scattercarpet"
           }
          ],
          "scattergeo": [
           {
            "marker": {
             "colorbar": {
              "outlinewidth": 0,
              "ticks": ""
             }
            },
            "type": "scattergeo"
           }
          ],
          "scattergl": [
           {
            "marker": {
             "colorbar": {
              "outlinewidth": 0,
              "ticks": ""
             }
            },
            "type": "scattergl"
           }
          ],
          "scattermapbox": [
           {
            "marker": {
             "colorbar": {
              "outlinewidth": 0,
              "ticks": ""
             }
            },
            "type": "scattermapbox"
           }
          ],
          "scatterpolar": [
           {
            "marker": {
             "colorbar": {
              "outlinewidth": 0,
              "ticks": ""
             }
            },
            "type": "scatterpolar"
           }
          ],
          "scatterpolargl": [
           {
            "marker": {
             "colorbar": {
              "outlinewidth": 0,
              "ticks": ""
             }
            },
            "type": "scatterpolargl"
           }
          ],
          "scatterternary": [
           {
            "marker": {
             "colorbar": {
              "outlinewidth": 0,
              "ticks": ""
             }
            },
            "type": "scatterternary"
           }
          ],
          "surface": [
           {
            "colorbar": {
             "outlinewidth": 0,
             "ticks": ""
            },
            "colorscale": [
             [
              0,
              "#0d0887"
             ],
             [
              0.1111111111111111,
              "#46039f"
             ],
             [
              0.2222222222222222,
              "#7201a8"
             ],
             [
              0.3333333333333333,
              "#9c179e"
             ],
             [
              0.4444444444444444,
              "#bd3786"
             ],
             [
              0.5555555555555556,
              "#d8576b"
             ],
             [
              0.6666666666666666,
              "#ed7953"
             ],
             [
              0.7777777777777778,
              "#fb9f3a"
             ],
             [
              0.8888888888888888,
              "#fdca26"
             ],
             [
              1,
              "#f0f921"
             ]
            ],
            "type": "surface"
           }
          ],
          "table": [
           {
            "cells": {
             "fill": {
              "color": "#EBF0F8"
             },
             "line": {
              "color": "white"
             }
            },
            "header": {
             "fill": {
              "color": "#C8D4E3"
             },
             "line": {
              "color": "white"
             }
            },
            "type": "table"
           }
          ]
         },
         "layout": {
          "annotationdefaults": {
           "arrowcolor": "#2a3f5f",
           "arrowhead": 0,
           "arrowwidth": 1
          },
          "autotypenumbers": "strict",
          "coloraxis": {
           "colorbar": {
            "outlinewidth": 0,
            "ticks": ""
           }
          },
          "colorscale": {
           "diverging": [
            [
             0,
             "#8e0152"
            ],
            [
             0.1,
             "#c51b7d"
            ],
            [
             0.2,
             "#de77ae"
            ],
            [
             0.3,
             "#f1b6da"
            ],
            [
             0.4,
             "#fde0ef"
            ],
            [
             0.5,
             "#f7f7f7"
            ],
            [
             0.6,
             "#e6f5d0"
            ],
            [
             0.7,
             "#b8e186"
            ],
            [
             0.8,
             "#7fbc41"
            ],
            [
             0.9,
             "#4d9221"
            ],
            [
             1,
             "#276419"
            ]
           ],
           "sequential": [
            [
             0,
             "#0d0887"
            ],
            [
             0.1111111111111111,
             "#46039f"
            ],
            [
             0.2222222222222222,
             "#7201a8"
            ],
            [
             0.3333333333333333,
             "#9c179e"
            ],
            [
             0.4444444444444444,
             "#bd3786"
            ],
            [
             0.5555555555555556,
             "#d8576b"
            ],
            [
             0.6666666666666666,
             "#ed7953"
            ],
            [
             0.7777777777777778,
             "#fb9f3a"
            ],
            [
             0.8888888888888888,
             "#fdca26"
            ],
            [
             1,
             "#f0f921"
            ]
           ],
           "sequentialminus": [
            [
             0,
             "#0d0887"
            ],
            [
             0.1111111111111111,
             "#46039f"
            ],
            [
             0.2222222222222222,
             "#7201a8"
            ],
            [
             0.3333333333333333,
             "#9c179e"
            ],
            [
             0.4444444444444444,
             "#bd3786"
            ],
            [
             0.5555555555555556,
             "#d8576b"
            ],
            [
             0.6666666666666666,
             "#ed7953"
            ],
            [
             0.7777777777777778,
             "#fb9f3a"
            ],
            [
             0.8888888888888888,
             "#fdca26"
            ],
            [
             1,
             "#f0f921"
            ]
           ]
          },
          "colorway": [
           "#636efa",
           "#EF553B",
           "#00cc96",
           "#ab63fa",
           "#FFA15A",
           "#19d3f3",
           "#FF6692",
           "#B6E880",
           "#FF97FF",
           "#FECB52"
          ],
          "font": {
           "color": "#2a3f5f"
          },
          "geo": {
           "bgcolor": "white",
           "lakecolor": "white",
           "landcolor": "white",
           "showlakes": true,
           "showland": true,
           "subunitcolor": "#C8D4E3"
          },
          "hoverlabel": {
           "align": "left"
          },
          "hovermode": "closest",
          "mapbox": {
           "style": "light"
          },
          "paper_bgcolor": "white",
          "plot_bgcolor": "white",
          "polar": {
           "angularaxis": {
            "gridcolor": "#EBF0F8",
            "linecolor": "#EBF0F8",
            "ticks": ""
           },
           "bgcolor": "white",
           "radialaxis": {
            "gridcolor": "#EBF0F8",
            "linecolor": "#EBF0F8",
            "ticks": ""
           }
          },
          "scene": {
           "xaxis": {
            "backgroundcolor": "white",
            "gridcolor": "#DFE8F3",
            "gridwidth": 2,
            "linecolor": "#EBF0F8",
            "showbackground": true,
            "ticks": "",
            "zerolinecolor": "#EBF0F8"
           },
           "yaxis": {
            "backgroundcolor": "white",
            "gridcolor": "#DFE8F3",
            "gridwidth": 2,
            "linecolor": "#EBF0F8",
            "showbackground": true,
            "ticks": "",
            "zerolinecolor": "#EBF0F8"
           },
           "zaxis": {
            "backgroundcolor": "white",
            "gridcolor": "#DFE8F3",
            "gridwidth": 2,
            "linecolor": "#EBF0F8",
            "showbackground": true,
            "ticks": "",
            "zerolinecolor": "#EBF0F8"
           }
          },
          "shapedefaults": {
           "line": {
            "color": "#2a3f5f"
           }
          },
          "ternary": {
           "aaxis": {
            "gridcolor": "#DFE8F3",
            "linecolor": "#A2B1C6",
            "ticks": ""
           },
           "baxis": {
            "gridcolor": "#DFE8F3",
            "linecolor": "#A2B1C6",
            "ticks": ""
           },
           "bgcolor": "white",
           "caxis": {
            "gridcolor": "#DFE8F3",
            "linecolor": "#A2B1C6",
            "ticks": ""
           }
          },
          "title": {
           "x": 0.05
          },
          "xaxis": {
           "automargin": true,
           "gridcolor": "#EBF0F8",
           "linecolor": "#EBF0F8",
           "ticks": "",
           "title": {
            "standoff": 15
           },
           "zerolinecolor": "#EBF0F8",
           "zerolinewidth": 2
          },
          "yaxis": {
           "automargin": true,
           "gridcolor": "#EBF0F8",
           "linecolor": "#EBF0F8",
           "ticks": "",
           "title": {
            "standoff": 15
           },
           "zerolinecolor": "#EBF0F8",
           "zerolinewidth": 2
          }
         }
        },
        "title": {
         "text": "Average Activity per Login vs. Login Count"
        },
        "xaxis": {
         "anchor": "y",
         "domain": [
          0,
          1
         ],
         "title": {
          "text": "Login Count"
         }
        },
        "yaxis": {
         "anchor": "x",
         "domain": [
          0,
          1
         ],
         "title": {
          "text": "Average Activity"
         }
        }
       }
      }
     },
     "metadata": {},
     "output_type": "display_data"
    }
   ],
   "source": [
    "fig_scatter = px.scatter(\n",
    "    df,\n",
    "    x=\"login_count\",\n",
    "    y=\"average_activity\",\n",
    "    color=\"performance_bracket\",\n",
    "    title=\"Average Activity per Login vs. Login Count\",\n",
    "    labels={\"login_count\": \"Login Count\", \"average_activity\": \"Average Activity\"},\n",
    "    template=\"plotly_white\"\n",
    ")\n",
    "fig_scatter.update_traces(marker=dict(size=8, line=dict(width=1, color='white')))\n",
    "fig_scatter.show()"
   ]
  },
  {
   "cell_type": "markdown",
   "id": "d1499804",
   "metadata": {},
   "source": [
    "The scatter plot demonstrates a positive correlation between **login_count** and **average_activity**, although there is notable variability. This suggests that while increased logins are generally associated with higher activity per login, other factors and outliers may be influencing this relationship."
   ]
  },
  {
   "cell_type": "markdown",
   "id": "bd3adad9",
   "metadata": {},
   "source": [
    "### **Activity Count**"
   ]
  },
  {
   "cell_type": "code",
   "execution_count": 10,
   "id": "10f4981c",
   "metadata": {},
   "outputs": [
    {
     "data": {
      "application/vnd.plotly.v1+json": {
       "config": {
        "plotlyServerURL": "https://plot.ly"
       },
       "data": [
        {
         "alignmentgroup": "True",
         "boxpoints": "all",
         "hovertemplate": "Activity Count=%{y}<extra></extra>",
         "legendgroup": "",
         "marker": {
          "color": "#636efa"
         },
         "name": "",
         "notched": false,
         "offsetgroup": "",
         "orientation": "v",
         "showlegend": false,
         "type": "box",
         "x0": " ",
         "xaxis": "x",
         "y": [
          1,
          2170,
          7257,
          3,
          45023,
          12922,
          3,
          1079,
          94,
          55,
          436,
          76,
          60,
          64,
          147,
          433,
          63,
          74,
          138,
          95,
          70,
          84,
          67,
          102,
          1894,
          65,
          63,
          60,
          74,
          169,
          63,
          99,
          111,
          71,
          287,
          500,
          350,
          103,
          4916,
          982,
          1028,
          4241,
          90,
          84,
          2710,
          78,
          1697,
          900,
          113,
          73,
          141,
          123,
          211,
          2836,
          2241,
          106,
          230,
          2669,
          195,
          72,
          86,
          165,
          80,
          640,
          302,
          151,
          105,
          128,
          86,
          667,
          218,
          147,
          9,
          3832,
          201,
          72,
          445,
          115,
          96,
          142,
          544,
          144,
          462,
          66,
          1486,
          71,
          4644,
          68,
          83,
          94,
          231,
          4004,
          234,
          71,
          1910,
          671,
          141,
          122,
          1593,
          865,
          94,
          317,
          128,
          280,
          145,
          83,
          80,
          79,
          83,
          84,
          83,
          1063,
          165,
          71,
          1316,
          118,
          437,
          294,
          82,
          1138,
          93,
          121,
          736,
          412,
          97,
          106,
          224,
          287,
          351,
          919,
          394,
          309,
          78,
          171,
          781,
          119,
          177,
          645,
          72,
          772,
          145,
          649,
          958,
          1487,
          266,
          205,
          98,
          126,
          132,
          457,
          79,
          95,
          784,
          114,
          114,
          443,
          145,
          240,
          80,
          86,
          84,
          6015,
          137,
          1171,
          451,
          84,
          2450,
          85,
          95,
          66,
          1810,
          109,
          106,
          67,
          257,
          471,
          602,
          83,
          859,
          79,
          339,
          2522,
          159,
          71,
          156,
          647,
          1872,
          87,
          70,
          138,
          529,
          124,
          67,
          72,
          173,
          267,
          86,
          4964,
          352,
          149,
          135,
          82,
          72,
          94,
          98,
          233,
          3075,
          104,
          74,
          294,
          120,
          105,
          68,
          1434,
          75,
          126,
          110,
          101,
          581,
          182,
          82,
          149,
          93,
          120,
          5063,
          72,
          70,
          84,
          94,
          322,
          1677,
          107,
          187,
          157,
          73,
          143,
          103,
          767,
          515,
          104,
          310,
          79,
          13917,
          130,
          80,
          68,
          908,
          77,
          102,
          578,
          814,
          583,
          152,
          68,
          238,
          2211,
          138,
          80,
          1756,
          310,
          92,
          147,
          3902,
          133,
          526,
          81,
          425,
          444,
          226,
          90,
          1876,
          111,
          73,
          912,
          258,
          66,
          528,
          110,
          588,
          73,
          1670,
          176,
          1215,
          140,
          97,
          684,
          8558,
          409,
          88,
          85,
          1409,
          209,
          157,
          142,
          217,
          724,
          72,
          903,
          89,
          293,
          36,
          66,
          160,
          131,
          46,
          84,
          41,
          59,
          41,
          87,
          42,
          65,
          52,
          82,
          45,
          203,
          83,
          48,
          47,
          42,
          47,
          41,
          53,
          37,
          4297,
          52,
          66,
          971,
          97,
          61,
          100,
          54,
          51,
          41,
          48,
          131,
          2016,
          502,
          74,
          89,
          6019,
          52,
          273,
          7320,
          305,
          231,
          52,
          292,
          37,
          756,
          204,
          52,
          193,
          47,
          52,
          99,
          41,
          1285,
          1385,
          1647,
          40,
          48,
          36,
          876,
          59,
          4608,
          79,
          38,
          354,
          102,
          353,
          154,
          250,
          3459,
          1166,
          79,
          51,
          1595,
          2994,
          2260,
          71,
          2373,
          112,
          1778,
          68,
          36,
          2794,
          7,
          85,
          14,
          46,
          32,
          33,
          27,
          29,
          12,
          170,
          13,
          32,
          14,
          50,
          12,
          105,
          29,
          12,
          1526,
          1606,
          250,
          12,
          35,
          56,
          12,
          26,
          40,
          12,
          43,
          1927,
          62,
          29,
          91,
          118,
          12,
          12,
          1254,
          1939,
          12,
          12,
          49,
          23,
          41,
          377,
          12,
          107,
          31,
          12,
          12,
          1712,
          12,
          13,
          779,
          14,
          97,
          12,
          12,
          34,
          2921,
          12,
          43,
          27,
          95,
          12,
          22,
          12,
          13,
          12,
          35,
          12,
          60,
          12,
          12,
          123,
          23,
          13,
          18,
          121,
          12,
          144,
          12,
          12,
          64,
          12,
          42,
          32,
          12,
          12,
          21,
          4232,
          12,
          12,
          12,
          724,
          12,
          1269,
          12,
          12,
          102,
          29,
          12,
          12,
          14,
          36,
          43,
          12,
          37,
          12,
          12,
          12,
          37,
          96,
          12,
          12,
          27,
          12,
          12,
          12,
          29,
          12,
          35,
          52,
          32,
          12,
          12,
          27,
          44,
          12,
          13,
          48,
          12,
          59,
          12,
          19,
          31,
          19,
          12,
          18,
          12,
          12,
          12,
          23,
          21,
          49,
          29,
          12,
          12,
          16,
          12,
          12,
          104,
          24,
          20,
          12,
          12,
          12,
          12,
          97,
          71,
          12,
          12,
          38,
          12,
          30,
          61,
          12,
          61,
          14,
          33,
          12,
          29,
          12,
          12,
          31,
          35,
          32,
          3345,
          22,
          24,
          12,
          12,
          12,
          12,
          25,
          13,
          12,
          12,
          20,
          12,
          12,
          10533,
          19,
          12,
          34,
          12,
          3857,
          32,
          14,
          12,
          12,
          1532,
          12,
          112,
          1537,
          41,
          12,
          12,
          47,
          12,
          12,
          12,
          27,
          38,
          12,
          12,
          12,
          6461,
          83,
          20,
          12,
          304,
          39,
          12,
          22,
          1613,
          13,
          30,
          22,
          15,
          13,
          13,
          12,
          12,
          12,
          12,
          12,
          27,
          12,
          13,
          23,
          82,
          760,
          12,
          15,
          12,
          12,
          12,
          12,
          12,
          12,
          12,
          19,
          12,
          12,
          12,
          23,
          12,
          12,
          12,
          124,
          12,
          12,
          12,
          34,
          22,
          91,
          12,
          23,
          45,
          12,
          14,
          42,
          12,
          12,
          12,
          12,
          45,
          12,
          12,
          27,
          12,
          18,
          12,
          12,
          12,
          69,
          15,
          12,
          12,
          14,
          12,
          18,
          130,
          12,
          12,
          2080,
          12,
          43,
          12,
          12,
          12,
          25,
          13,
          13,
          12,
          12,
          12,
          12,
          12,
          21,
          12,
          12,
          12,
          12,
          17,
          41,
          16,
          12,
          12,
          12,
          13,
          25,
          26,
          64,
          12,
          14,
          13,
          33,
          20,
          12,
          102,
          16,
          183,
          25,
          12,
          69,
          18,
          12,
          136,
          47,
          12,
          25,
          54,
          52,
          13,
          12,
          46,
          87,
          11,
          14,
          34,
          4220,
          33,
          84,
          31,
          11,
          145,
          64,
          28,
          103,
          21,
          61,
          11,
          50,
          11,
          780,
          188,
          68,
          896,
          86,
          11,
          11,
          11,
          35,
          43,
          84,
          11,
          93,
          11,
          47,
          13,
          11,
          12,
          11,
          1006,
          12,
          2608,
          11,
          11,
          46,
          11,
          11,
          13,
          14,
          31,
          3692,
          11,
          11,
          956,
          11,
          13,
          13,
          16,
          930,
          29,
          83,
          15,
          22,
          41,
          13,
          1822,
          34,
          13,
          11,
          11,
          11,
          57,
          11,
          19,
          11,
          13,
          11,
          139,
          29,
          45,
          11,
          40,
          54,
          11,
          11,
          11,
          11,
          11,
          13,
          38,
          19,
          12,
          23,
          11,
          60,
          11,
          11,
          11,
          24,
          14,
          11,
          13,
          84,
          11,
          19,
          11,
          1980,
          176,
          86,
          11,
          2792,
          44,
          41,
          49,
          11,
          25,
          11,
          11,
          20,
          11,
          81,
          11,
          11,
          11,
          11,
          22,
          28,
          11,
          18,
          1785,
          2863,
          54,
          11,
          132,
          28,
          11,
          11,
          57,
          11,
          11,
          11,
          14,
          52,
          3725,
          11,
          16,
          11,
          12,
          22,
          29,
          11,
          43,
          53,
          53,
          22,
          13,
          14,
          66,
          11,
          28,
          35,
          29,
          11,
          13,
          11,
          11,
          11,
          52,
          25,
          11,
          11,
          11,
          29,
          11,
          38,
          63,
          11,
          26,
          132,
          14,
          11,
          10696,
          540,
          43,
          11,
          27,
          92,
          11,
          650,
          11,
          32,
          11,
          11,
          19,
          1686,
          40,
          11,
          11,
          11,
          11,
          11,
          11,
          11,
          54,
          34,
          142,
          11,
          73,
          11,
          139,
          28,
          11,
          11,
          11,
          11,
          17,
          11,
          22,
          11,
          17,
          11,
          25,
          15,
          21,
          12,
          11,
          11,
          11,
          13,
          11,
          11,
          11,
          14,
          11,
          15,
          27,
          10,
          10,
          10,
          10,
          22,
          10,
          10,
          10,
          10,
          10,
          10,
          10,
          10,
          10,
          14,
          25,
          35,
          1529,
          70,
          106,
          19,
          13,
          10,
          10,
          10,
          10,
          10,
          55,
          10,
          47,
          31,
          10,
          68,
          24,
          33,
          24,
          12,
          10,
          36,
          10,
          10,
          10,
          10,
          28,
          26,
          10,
          10,
          907,
          9,
          9,
          9,
          9,
          9,
          3404,
          9,
          1625,
          37,
          65,
          9,
          9,
          9,
          9,
          9,
          9,
          9,
          12,
          9,
          9,
          11,
          177,
          9,
          9,
          9,
          9,
          9,
          77,
          30,
          9,
          12,
          9,
          9
         ],
         "y0": " ",
         "yaxis": "y"
        }
       ],
       "layout": {
        "boxmode": "group",
        "legend": {
         "tracegroupgap": 0
        },
        "template": {
         "data": {
          "bar": [
           {
            "error_x": {
             "color": "#2a3f5f"
            },
            "error_y": {
             "color": "#2a3f5f"
            },
            "marker": {
             "line": {
              "color": "white",
              "width": 0.5
             },
             "pattern": {
              "fillmode": "overlay",
              "size": 10,
              "solidity": 0.2
             }
            },
            "type": "bar"
           }
          ],
          "barpolar": [
           {
            "marker": {
             "line": {
              "color": "white",
              "width": 0.5
             },
             "pattern": {
              "fillmode": "overlay",
              "size": 10,
              "solidity": 0.2
             }
            },
            "type": "barpolar"
           }
          ],
          "carpet": [
           {
            "aaxis": {
             "endlinecolor": "#2a3f5f",
             "gridcolor": "#C8D4E3",
             "linecolor": "#C8D4E3",
             "minorgridcolor": "#C8D4E3",
             "startlinecolor": "#2a3f5f"
            },
            "baxis": {
             "endlinecolor": "#2a3f5f",
             "gridcolor": "#C8D4E3",
             "linecolor": "#C8D4E3",
             "minorgridcolor": "#C8D4E3",
             "startlinecolor": "#2a3f5f"
            },
            "type": "carpet"
           }
          ],
          "choropleth": [
           {
            "colorbar": {
             "outlinewidth": 0,
             "ticks": ""
            },
            "type": "choropleth"
           }
          ],
          "contour": [
           {
            "colorbar": {
             "outlinewidth": 0,
             "ticks": ""
            },
            "colorscale": [
             [
              0,
              "#0d0887"
             ],
             [
              0.1111111111111111,
              "#46039f"
             ],
             [
              0.2222222222222222,
              "#7201a8"
             ],
             [
              0.3333333333333333,
              "#9c179e"
             ],
             [
              0.4444444444444444,
              "#bd3786"
             ],
             [
              0.5555555555555556,
              "#d8576b"
             ],
             [
              0.6666666666666666,
              "#ed7953"
             ],
             [
              0.7777777777777778,
              "#fb9f3a"
             ],
             [
              0.8888888888888888,
              "#fdca26"
             ],
             [
              1,
              "#f0f921"
             ]
            ],
            "type": "contour"
           }
          ],
          "contourcarpet": [
           {
            "colorbar": {
             "outlinewidth": 0,
             "ticks": ""
            },
            "type": "contourcarpet"
           }
          ],
          "heatmap": [
           {
            "colorbar": {
             "outlinewidth": 0,
             "ticks": ""
            },
            "colorscale": [
             [
              0,
              "#0d0887"
             ],
             [
              0.1111111111111111,
              "#46039f"
             ],
             [
              0.2222222222222222,
              "#7201a8"
             ],
             [
              0.3333333333333333,
              "#9c179e"
             ],
             [
              0.4444444444444444,
              "#bd3786"
             ],
             [
              0.5555555555555556,
              "#d8576b"
             ],
             [
              0.6666666666666666,
              "#ed7953"
             ],
             [
              0.7777777777777778,
              "#fb9f3a"
             ],
             [
              0.8888888888888888,
              "#fdca26"
             ],
             [
              1,
              "#f0f921"
             ]
            ],
            "type": "heatmap"
           }
          ],
          "heatmapgl": [
           {
            "colorbar": {
             "outlinewidth": 0,
             "ticks": ""
            },
            "colorscale": [
             [
              0,
              "#0d0887"
             ],
             [
              0.1111111111111111,
              "#46039f"
             ],
             [
              0.2222222222222222,
              "#7201a8"
             ],
             [
              0.3333333333333333,
              "#9c179e"
             ],
             [
              0.4444444444444444,
              "#bd3786"
             ],
             [
              0.5555555555555556,
              "#d8576b"
             ],
             [
              0.6666666666666666,
              "#ed7953"
             ],
             [
              0.7777777777777778,
              "#fb9f3a"
             ],
             [
              0.8888888888888888,
              "#fdca26"
             ],
             [
              1,
              "#f0f921"
             ]
            ],
            "type": "heatmapgl"
           }
          ],
          "histogram": [
           {
            "marker": {
             "pattern": {
              "fillmode": "overlay",
              "size": 10,
              "solidity": 0.2
             }
            },
            "type": "histogram"
           }
          ],
          "histogram2d": [
           {
            "colorbar": {
             "outlinewidth": 0,
             "ticks": ""
            },
            "colorscale": [
             [
              0,
              "#0d0887"
             ],
             [
              0.1111111111111111,
              "#46039f"
             ],
             [
              0.2222222222222222,
              "#7201a8"
             ],
             [
              0.3333333333333333,
              "#9c179e"
             ],
             [
              0.4444444444444444,
              "#bd3786"
             ],
             [
              0.5555555555555556,
              "#d8576b"
             ],
             [
              0.6666666666666666,
              "#ed7953"
             ],
             [
              0.7777777777777778,
              "#fb9f3a"
             ],
             [
              0.8888888888888888,
              "#fdca26"
             ],
             [
              1,
              "#f0f921"
             ]
            ],
            "type": "histogram2d"
           }
          ],
          "histogram2dcontour": [
           {
            "colorbar": {
             "outlinewidth": 0,
             "ticks": ""
            },
            "colorscale": [
             [
              0,
              "#0d0887"
             ],
             [
              0.1111111111111111,
              "#46039f"
             ],
             [
              0.2222222222222222,
              "#7201a8"
             ],
             [
              0.3333333333333333,
              "#9c179e"
             ],
             [
              0.4444444444444444,
              "#bd3786"
             ],
             [
              0.5555555555555556,
              "#d8576b"
             ],
             [
              0.6666666666666666,
              "#ed7953"
             ],
             [
              0.7777777777777778,
              "#fb9f3a"
             ],
             [
              0.8888888888888888,
              "#fdca26"
             ],
             [
              1,
              "#f0f921"
             ]
            ],
            "type": "histogram2dcontour"
           }
          ],
          "mesh3d": [
           {
            "colorbar": {
             "outlinewidth": 0,
             "ticks": ""
            },
            "type": "mesh3d"
           }
          ],
          "parcoords": [
           {
            "line": {
             "colorbar": {
              "outlinewidth": 0,
              "ticks": ""
             }
            },
            "type": "parcoords"
           }
          ],
          "pie": [
           {
            "automargin": true,
            "type": "pie"
           }
          ],
          "scatter": [
           {
            "fillpattern": {
             "fillmode": "overlay",
             "size": 10,
             "solidity": 0.2
            },
            "type": "scatter"
           }
          ],
          "scatter3d": [
           {
            "line": {
             "colorbar": {
              "outlinewidth": 0,
              "ticks": ""
             }
            },
            "marker": {
             "colorbar": {
              "outlinewidth": 0,
              "ticks": ""
             }
            },
            "type": "scatter3d"
           }
          ],
          "scattercarpet": [
           {
            "marker": {
             "colorbar": {
              "outlinewidth": 0,
              "ticks": ""
             }
            },
            "type": "scattercarpet"
           }
          ],
          "scattergeo": [
           {
            "marker": {
             "colorbar": {
              "outlinewidth": 0,
              "ticks": ""
             }
            },
            "type": "scattergeo"
           }
          ],
          "scattergl": [
           {
            "marker": {
             "colorbar": {
              "outlinewidth": 0,
              "ticks": ""
             }
            },
            "type": "scattergl"
           }
          ],
          "scattermapbox": [
           {
            "marker": {
             "colorbar": {
              "outlinewidth": 0,
              "ticks": ""
             }
            },
            "type": "scattermapbox"
           }
          ],
          "scatterpolar": [
           {
            "marker": {
             "colorbar": {
              "outlinewidth": 0,
              "ticks": ""
             }
            },
            "type": "scatterpolar"
           }
          ],
          "scatterpolargl": [
           {
            "marker": {
             "colorbar": {
              "outlinewidth": 0,
              "ticks": ""
             }
            },
            "type": "scatterpolargl"
           }
          ],
          "scatterternary": [
           {
            "marker": {
             "colorbar": {
              "outlinewidth": 0,
              "ticks": ""
             }
            },
            "type": "scatterternary"
           }
          ],
          "surface": [
           {
            "colorbar": {
             "outlinewidth": 0,
             "ticks": ""
            },
            "colorscale": [
             [
              0,
              "#0d0887"
             ],
             [
              0.1111111111111111,
              "#46039f"
             ],
             [
              0.2222222222222222,
              "#7201a8"
             ],
             [
              0.3333333333333333,
              "#9c179e"
             ],
             [
              0.4444444444444444,
              "#bd3786"
             ],
             [
              0.5555555555555556,
              "#d8576b"
             ],
             [
              0.6666666666666666,
              "#ed7953"
             ],
             [
              0.7777777777777778,
              "#fb9f3a"
             ],
             [
              0.8888888888888888,
              "#fdca26"
             ],
             [
              1,
              "#f0f921"
             ]
            ],
            "type": "surface"
           }
          ],
          "table": [
           {
            "cells": {
             "fill": {
              "color": "#EBF0F8"
             },
             "line": {
              "color": "white"
             }
            },
            "header": {
             "fill": {
              "color": "#C8D4E3"
             },
             "line": {
              "color": "white"
             }
            },
            "type": "table"
           }
          ]
         },
         "layout": {
          "annotationdefaults": {
           "arrowcolor": "#2a3f5f",
           "arrowhead": 0,
           "arrowwidth": 1
          },
          "autotypenumbers": "strict",
          "coloraxis": {
           "colorbar": {
            "outlinewidth": 0,
            "ticks": ""
           }
          },
          "colorscale": {
           "diverging": [
            [
             0,
             "#8e0152"
            ],
            [
             0.1,
             "#c51b7d"
            ],
            [
             0.2,
             "#de77ae"
            ],
            [
             0.3,
             "#f1b6da"
            ],
            [
             0.4,
             "#fde0ef"
            ],
            [
             0.5,
             "#f7f7f7"
            ],
            [
             0.6,
             "#e6f5d0"
            ],
            [
             0.7,
             "#b8e186"
            ],
            [
             0.8,
             "#7fbc41"
            ],
            [
             0.9,
             "#4d9221"
            ],
            [
             1,
             "#276419"
            ]
           ],
           "sequential": [
            [
             0,
             "#0d0887"
            ],
            [
             0.1111111111111111,
             "#46039f"
            ],
            [
             0.2222222222222222,
             "#7201a8"
            ],
            [
             0.3333333333333333,
             "#9c179e"
            ],
            [
             0.4444444444444444,
             "#bd3786"
            ],
            [
             0.5555555555555556,
             "#d8576b"
            ],
            [
             0.6666666666666666,
             "#ed7953"
            ],
            [
             0.7777777777777778,
             "#fb9f3a"
            ],
            [
             0.8888888888888888,
             "#fdca26"
            ],
            [
             1,
             "#f0f921"
            ]
           ],
           "sequentialminus": [
            [
             0,
             "#0d0887"
            ],
            [
             0.1111111111111111,
             "#46039f"
            ],
            [
             0.2222222222222222,
             "#7201a8"
            ],
            [
             0.3333333333333333,
             "#9c179e"
            ],
            [
             0.4444444444444444,
             "#bd3786"
            ],
            [
             0.5555555555555556,
             "#d8576b"
            ],
            [
             0.6666666666666666,
             "#ed7953"
            ],
            [
             0.7777777777777778,
             "#fb9f3a"
            ],
            [
             0.8888888888888888,
             "#fdca26"
            ],
            [
             1,
             "#f0f921"
            ]
           ]
          },
          "colorway": [
           "#636efa",
           "#EF553B",
           "#00cc96",
           "#ab63fa",
           "#FFA15A",
           "#19d3f3",
           "#FF6692",
           "#B6E880",
           "#FF97FF",
           "#FECB52"
          ],
          "font": {
           "color": "#2a3f5f"
          },
          "geo": {
           "bgcolor": "white",
           "lakecolor": "white",
           "landcolor": "white",
           "showlakes": true,
           "showland": true,
           "subunitcolor": "#C8D4E3"
          },
          "hoverlabel": {
           "align": "left"
          },
          "hovermode": "closest",
          "mapbox": {
           "style": "light"
          },
          "paper_bgcolor": "white",
          "plot_bgcolor": "white",
          "polar": {
           "angularaxis": {
            "gridcolor": "#EBF0F8",
            "linecolor": "#EBF0F8",
            "ticks": ""
           },
           "bgcolor": "white",
           "radialaxis": {
            "gridcolor": "#EBF0F8",
            "linecolor": "#EBF0F8",
            "ticks": ""
           }
          },
          "scene": {
           "xaxis": {
            "backgroundcolor": "white",
            "gridcolor": "#DFE8F3",
            "gridwidth": 2,
            "linecolor": "#EBF0F8",
            "showbackground": true,
            "ticks": "",
            "zerolinecolor": "#EBF0F8"
           },
           "yaxis": {
            "backgroundcolor": "white",
            "gridcolor": "#DFE8F3",
            "gridwidth": 2,
            "linecolor": "#EBF0F8",
            "showbackground": true,
            "ticks": "",
            "zerolinecolor": "#EBF0F8"
           },
           "zaxis": {
            "backgroundcolor": "white",
            "gridcolor": "#DFE8F3",
            "gridwidth": 2,
            "linecolor": "#EBF0F8",
            "showbackground": true,
            "ticks": "",
            "zerolinecolor": "#EBF0F8"
           }
          },
          "shapedefaults": {
           "line": {
            "color": "#2a3f5f"
           }
          },
          "ternary": {
           "aaxis": {
            "gridcolor": "#DFE8F3",
            "linecolor": "#A2B1C6",
            "ticks": ""
           },
           "baxis": {
            "gridcolor": "#DFE8F3",
            "linecolor": "#A2B1C6",
            "ticks": ""
           },
           "bgcolor": "white",
           "caxis": {
            "gridcolor": "#DFE8F3",
            "linecolor": "#A2B1C6",
            "ticks": ""
           }
          },
          "title": {
           "x": 0.05
          },
          "xaxis": {
           "automargin": true,
           "gridcolor": "#EBF0F8",
           "linecolor": "#EBF0F8",
           "ticks": "",
           "title": {
            "standoff": 15
           },
           "zerolinecolor": "#EBF0F8",
           "zerolinewidth": 2
          },
          "yaxis": {
           "automargin": true,
           "gridcolor": "#EBF0F8",
           "linecolor": "#EBF0F8",
           "ticks": "",
           "title": {
            "standoff": 15
           },
           "zerolinecolor": "#EBF0F8",
           "zerolinewidth": 2
          }
         }
        },
        "title": {
         "text": "Box Plot of Activity Count"
        },
        "xaxis": {
         "anchor": "y",
         "domain": [
          0,
          1
         ]
        },
        "yaxis": {
         "anchor": "x",
         "domain": [
          0,
          1
         ],
         "title": {
          "text": "Activity Count"
         }
        }
       }
      }
     },
     "metadata": {},
     "output_type": "display_data"
    }
   ],
   "source": [
    "fig_box = px.box(\n",
    "    df,\n",
    "    y=\"activity_count\",\n",
    "    points=\"all\",\n",
    "    title=\"Box Plot of Activity Count\",\n",
    "    labels={\"activity_count\": \"Activity Count\"},\n",
    "    template=\"plotly_white\"\n",
    ")\n",
    "fig_box.show()"
   ]
  },
  {
   "cell_type": "markdown",
   "id": "cc7e38e8",
   "metadata": {},
   "source": [
    "### **Login Count**"
   ]
  },
  {
   "cell_type": "code",
   "execution_count": 11,
   "id": "b8fd227d",
   "metadata": {},
   "outputs": [
    {
     "data": {
      "application/vnd.plotly.v1+json": {
       "config": {
        "plotlyServerURL": "https://plot.ly"
       },
       "data": [
        {
         "alignmentgroup": "True",
         "box": {
          "visible": true
         },
         "hovertemplate": "Login Count=%{y}<extra></extra>",
         "legendgroup": "",
         "marker": {
          "color": "#636efa"
         },
         "name": "",
         "offsetgroup": "",
         "orientation": "v",
         "points": "all",
         "scalegroup": "True",
         "showlegend": false,
         "type": "violin",
         "x0": " ",
         "xaxis": "x",
         "y": [
          null,
          null,
          null,
          1,
          169,
          107,
          null,
          54,
          3,
          2,
          13,
          null,
          null,
          null,
          5,
          5,
          null,
          null,
          2,
          2,
          null,
          1,
          null,
          3,
          46,
          null,
          null,
          null,
          null,
          4,
          null,
          4,
          3,
          null,
          7,
          4,
          19,
          1,
          21,
          12,
          23,
          63,
          2,
          3,
          32,
          null,
          33,
          17,
          2,
          null,
          6,
          2,
          2,
          41,
          15,
          2,
          9,
          19,
          12,
          null,
          2,
          8,
          null,
          12,
          7,
          3,
          5,
          2,
          1,
          8,
          4,
          4,
          null,
          7,
          1,
          null,
          9,
          2,
          1,
          2,
          15,
          3,
          2,
          null,
          7,
          null,
          57,
          null,
          1,
          2,
          3,
          37,
          5,
          null,
          27,
          15,
          5,
          1,
          8,
          19,
          1,
          18,
          6,
          4,
          2,
          null,
          2,
          null,
          1,
          2,
          null,
          17,
          3,
          null,
          26,
          3,
          6,
          4,
          null,
          18,
          1,
          4,
          13,
          5,
          1,
          3,
          4,
          10,
          9,
          20,
          1,
          14,
          null,
          3,
          12,
          2,
          4,
          6,
          null,
          18,
          6,
          14,
          14,
          19,
          7,
          6,
          2,
          2,
          8,
          5,
          null,
          1,
          15,
          2,
          4,
          5,
          2,
          5,
          1,
          1,
          1,
          91,
          5,
          17,
          6,
          2,
          55,
          3,
          1,
          null,
          13,
          5,
          3,
          null,
          4,
          16,
          8,
          null,
          5,
          null,
          3,
          19,
          5,
          null,
          4,
          4,
          50,
          null,
          null,
          4,
          3,
          1,
          null,
          null,
          4,
          11,
          null,
          23,
          3,
          4,
          4,
          1,
          null,
          1,
          2,
          8,
          13,
          1,
          null,
          7,
          3,
          3,
          null,
          11,
          null,
          3,
          2,
          3,
          13,
          2,
          null,
          5,
          1,
          4,
          23,
          null,
          null,
          1,
          1,
          5,
          24,
          2,
          3,
          3,
          1,
          4,
          1,
          5,
          9,
          1,
          6,
          null,
          113,
          2,
          null,
          null,
          20,
          1,
          3,
          8,
          19,
          2,
          2,
          null,
          7,
          36,
          4,
          2,
          14,
          2,
          1,
          4,
          64,
          7,
          16,
          2,
          4,
          18,
          7,
          4,
          26,
          3,
          null,
          46,
          6,
          null,
          5,
          2,
          6,
          null,
          30,
          3,
          33,
          7,
          2,
          18,
          73,
          2,
          1,
          3,
          31,
          3,
          7,
          1,
          4,
          8,
          null,
          8,
          1,
          17,
          null,
          3,
          7,
          2,
          1,
          3,
          null,
          3,
          null,
          2,
          null,
          2,
          null,
          3,
          2,
          9,
          2,
          null,
          1,
          null,
          null,
          null,
          null,
          null,
          21,
          null,
          2,
          10,
          3,
          1,
          8,
          null,
          null,
          null,
          null,
          4,
          10,
          24,
          3,
          5,
          68,
          null,
          12,
          26,
          7,
          4,
          1,
          6,
          null,
          20,
          8,
          null,
          2,
          1,
          null,
          3,
          null,
          7,
          40,
          20,
          null,
          null,
          null,
          5,
          null,
          100,
          1,
          null,
          7,
          1,
          11,
          1,
          5,
          13,
          16,
          1,
          null,
          23,
          23,
          42,
          2,
          24,
          3,
          6,
          1,
          null,
          10,
          1,
          2,
          null,
          2,
          1,
          2,
          2,
          2,
          null,
          14,
          null,
          2,
          null,
          2,
          null,
          5,
          1,
          null,
          38,
          11,
          9,
          null,
          1,
          1,
          null,
          2,
          2,
          null,
          2,
          16,
          3,
          1,
          6,
          6,
          null,
          null,
          3,
          16,
          null,
          null,
          2,
          1,
          2,
          21,
          null,
          4,
          3,
          null,
          null,
          5,
          null,
          null,
          2,
          null,
          7,
          null,
          null,
          1,
          26,
          null,
          1,
          1,
          2,
          null,
          2,
          null,
          null,
          null,
          1,
          null,
          4,
          null,
          null,
          13,
          1,
          null,
          1,
          3,
          null,
          6,
          null,
          null,
          5,
          null,
          2,
          2,
          null,
          null,
          1,
          19,
          null,
          null,
          null,
          2,
          null,
          9,
          null,
          null,
          6,
          1,
          null,
          null,
          null,
          1,
          1,
          null,
          3,
          null,
          null,
          null,
          1,
          2,
          null,
          null,
          2,
          null,
          null,
          null,
          1,
          null,
          2,
          3,
          1,
          null,
          null,
          1,
          2,
          null,
          null,
          1,
          null,
          2,
          null,
          1,
          2,
          1,
          null,
          1,
          null,
          null,
          null,
          1,
          1,
          1,
          1,
          null,
          null,
          null,
          null,
          null,
          2,
          1,
          1,
          null,
          null,
          null,
          null,
          2,
          3,
          null,
          null,
          1,
          null,
          1,
          1,
          null,
          5,
          null,
          2,
          null,
          1,
          null,
          null,
          2,
          2,
          1,
          10,
          1,
          1,
          null,
          null,
          null,
          null,
          1,
          null,
          null,
          null,
          2,
          null,
          null,
          51,
          1,
          null,
          1,
          null,
          36,
          1,
          null,
          null,
          null,
          9,
          null,
          2,
          19,
          1,
          null,
          null,
          2,
          null,
          null,
          null,
          1,
          1,
          null,
          null,
          null,
          37,
          6,
          1,
          null,
          5,
          1,
          null,
          1,
          2,
          null,
          1,
          1,
          null,
          1,
          null,
          null,
          null,
          null,
          null,
          null,
          2,
          null,
          null,
          1,
          5,
          1,
          null,
          null,
          null,
          null,
          null,
          null,
          null,
          null,
          null,
          1,
          null,
          null,
          null,
          1,
          null,
          null,
          null,
          8,
          null,
          null,
          null,
          1,
          2,
          6,
          null,
          1,
          2,
          null,
          null,
          1,
          null,
          null,
          null,
          null,
          1,
          null,
          null,
          1,
          null,
          1,
          null,
          null,
          null,
          2,
          null,
          null,
          null,
          null,
          null,
          1,
          5,
          null,
          null,
          29,
          null,
          4,
          null,
          null,
          null,
          3,
          1,
          null,
          null,
          null,
          null,
          null,
          null,
          1,
          null,
          null,
          null,
          null,
          null,
          2,
          null,
          null,
          null,
          null,
          null,
          1,
          1,
          2,
          null,
          null,
          null,
          2,
          null,
          null,
          2,
          null,
          4,
          1,
          null,
          2,
          1,
          null,
          9,
          1,
          null,
          1,
          2,
          1,
          null,
          null,
          1,
          1,
          null,
          1,
          1,
          10,
          1,
          1,
          1,
          null,
          5,
          5,
          3,
          2,
          1,
          1,
          null,
          2,
          null,
          1,
          4,
          2,
          2,
          3,
          null,
          null,
          null,
          1,
          2,
          6,
          null,
          1,
          null,
          1,
          null,
          null,
          null,
          null,
          3,
          null,
          1,
          null,
          null,
          3,
          null,
          null,
          null,
          1,
          3,
          2,
          null,
          null,
          2,
          null,
          1,
          null,
          1,
          2,
          2,
          7,
          null,
          3,
          1,
          null,
          2,
          2,
          null,
          null,
          null,
          null,
          2,
          null,
          1,
          null,
          null,
          null,
          1,
          1,
          3,
          null,
          1,
          2,
          null,
          null,
          null,
          null,
          null,
          null,
          1,
          2,
          null,
          1,
          null,
          2,
          null,
          null,
          null,
          1,
          null,
          null,
          null,
          2,
          null,
          1,
          null,
          8,
          5,
          3,
          null,
          6,
          2,
          1,
          1,
          null,
          2,
          null,
          null,
          1,
          null,
          5,
          null,
          null,
          null,
          null,
          1,
          1,
          null,
          1,
          27,
          7,
          3,
          null,
          16,
          2,
          null,
          null,
          5,
          null,
          null,
          null,
          null,
          2,
          4,
          null,
          1,
          null,
          null,
          null,
          1,
          null,
          1,
          1,
          1,
          1,
          1,
          1,
          1,
          null,
          1,
          1,
          2,
          null,
          null,
          null,
          null,
          null,
          2,
          1,
          null,
          null,
          null,
          2,
          null,
          1,
          2,
          null,
          1,
          1,
          null,
          null,
          47,
          8,
          1,
          null,
          1,
          2,
          null,
          14,
          null,
          1,
          null,
          null,
          1,
          16,
          1,
          null,
          null,
          null,
          null,
          null,
          null,
          null,
          2,
          1,
          5,
          null,
          6,
          null,
          4,
          2,
          null,
          null,
          null,
          null,
          1,
          null,
          1,
          null,
          null,
          null,
          1,
          null,
          2,
          null,
          null,
          null,
          null,
          1,
          null,
          null,
          null,
          null,
          null,
          null,
          null,
          null,
          null,
          null,
          null,
          1,
          null,
          null,
          null,
          null,
          null,
          null,
          null,
          null,
          null,
          null,
          1,
          1,
          13,
          2,
          4,
          1,
          null,
          null,
          null,
          null,
          null,
          null,
          2,
          null,
          1,
          2,
          null,
          3,
          1,
          1,
          2,
          null,
          null,
          3,
          null,
          null,
          null,
          null,
          1,
          1,
          null,
          null,
          14,
          null,
          null,
          null,
          null,
          null,
          4,
          null,
          13,
          2,
          1,
          null,
          null,
          null,
          null,
          null,
          null,
          null,
          null,
          null,
          null,
          null,
          2,
          null,
          null,
          null,
          null,
          null,
          6,
          1,
          null,
          null,
          null,
          null
         ],
         "y0": " ",
         "yaxis": "y"
        }
       ],
       "layout": {
        "legend": {
         "tracegroupgap": 0
        },
        "template": {
         "data": {
          "bar": [
           {
            "error_x": {
             "color": "#2a3f5f"
            },
            "error_y": {
             "color": "#2a3f5f"
            },
            "marker": {
             "line": {
              "color": "white",
              "width": 0.5
             },
             "pattern": {
              "fillmode": "overlay",
              "size": 10,
              "solidity": 0.2
             }
            },
            "type": "bar"
           }
          ],
          "barpolar": [
           {
            "marker": {
             "line": {
              "color": "white",
              "width": 0.5
             },
             "pattern": {
              "fillmode": "overlay",
              "size": 10,
              "solidity": 0.2
             }
            },
            "type": "barpolar"
           }
          ],
          "carpet": [
           {
            "aaxis": {
             "endlinecolor": "#2a3f5f",
             "gridcolor": "#C8D4E3",
             "linecolor": "#C8D4E3",
             "minorgridcolor": "#C8D4E3",
             "startlinecolor": "#2a3f5f"
            },
            "baxis": {
             "endlinecolor": "#2a3f5f",
             "gridcolor": "#C8D4E3",
             "linecolor": "#C8D4E3",
             "minorgridcolor": "#C8D4E3",
             "startlinecolor": "#2a3f5f"
            },
            "type": "carpet"
           }
          ],
          "choropleth": [
           {
            "colorbar": {
             "outlinewidth": 0,
             "ticks": ""
            },
            "type": "choropleth"
           }
          ],
          "contour": [
           {
            "colorbar": {
             "outlinewidth": 0,
             "ticks": ""
            },
            "colorscale": [
             [
              0,
              "#0d0887"
             ],
             [
              0.1111111111111111,
              "#46039f"
             ],
             [
              0.2222222222222222,
              "#7201a8"
             ],
             [
              0.3333333333333333,
              "#9c179e"
             ],
             [
              0.4444444444444444,
              "#bd3786"
             ],
             [
              0.5555555555555556,
              "#d8576b"
             ],
             [
              0.6666666666666666,
              "#ed7953"
             ],
             [
              0.7777777777777778,
              "#fb9f3a"
             ],
             [
              0.8888888888888888,
              "#fdca26"
             ],
             [
              1,
              "#f0f921"
             ]
            ],
            "type": "contour"
           }
          ],
          "contourcarpet": [
           {
            "colorbar": {
             "outlinewidth": 0,
             "ticks": ""
            },
            "type": "contourcarpet"
           }
          ],
          "heatmap": [
           {
            "colorbar": {
             "outlinewidth": 0,
             "ticks": ""
            },
            "colorscale": [
             [
              0,
              "#0d0887"
             ],
             [
              0.1111111111111111,
              "#46039f"
             ],
             [
              0.2222222222222222,
              "#7201a8"
             ],
             [
              0.3333333333333333,
              "#9c179e"
             ],
             [
              0.4444444444444444,
              "#bd3786"
             ],
             [
              0.5555555555555556,
              "#d8576b"
             ],
             [
              0.6666666666666666,
              "#ed7953"
             ],
             [
              0.7777777777777778,
              "#fb9f3a"
             ],
             [
              0.8888888888888888,
              "#fdca26"
             ],
             [
              1,
              "#f0f921"
             ]
            ],
            "type": "heatmap"
           }
          ],
          "heatmapgl": [
           {
            "colorbar": {
             "outlinewidth": 0,
             "ticks": ""
            },
            "colorscale": [
             [
              0,
              "#0d0887"
             ],
             [
              0.1111111111111111,
              "#46039f"
             ],
             [
              0.2222222222222222,
              "#7201a8"
             ],
             [
              0.3333333333333333,
              "#9c179e"
             ],
             [
              0.4444444444444444,
              "#bd3786"
             ],
             [
              0.5555555555555556,
              "#d8576b"
             ],
             [
              0.6666666666666666,
              "#ed7953"
             ],
             [
              0.7777777777777778,
              "#fb9f3a"
             ],
             [
              0.8888888888888888,
              "#fdca26"
             ],
             [
              1,
              "#f0f921"
             ]
            ],
            "type": "heatmapgl"
           }
          ],
          "histogram": [
           {
            "marker": {
             "pattern": {
              "fillmode": "overlay",
              "size": 10,
              "solidity": 0.2
             }
            },
            "type": "histogram"
           }
          ],
          "histogram2d": [
           {
            "colorbar": {
             "outlinewidth": 0,
             "ticks": ""
            },
            "colorscale": [
             [
              0,
              "#0d0887"
             ],
             [
              0.1111111111111111,
              "#46039f"
             ],
             [
              0.2222222222222222,
              "#7201a8"
             ],
             [
              0.3333333333333333,
              "#9c179e"
             ],
             [
              0.4444444444444444,
              "#bd3786"
             ],
             [
              0.5555555555555556,
              "#d8576b"
             ],
             [
              0.6666666666666666,
              "#ed7953"
             ],
             [
              0.7777777777777778,
              "#fb9f3a"
             ],
             [
              0.8888888888888888,
              "#fdca26"
             ],
             [
              1,
              "#f0f921"
             ]
            ],
            "type": "histogram2d"
           }
          ],
          "histogram2dcontour": [
           {
            "colorbar": {
             "outlinewidth": 0,
             "ticks": ""
            },
            "colorscale": [
             [
              0,
              "#0d0887"
             ],
             [
              0.1111111111111111,
              "#46039f"
             ],
             [
              0.2222222222222222,
              "#7201a8"
             ],
             [
              0.3333333333333333,
              "#9c179e"
             ],
             [
              0.4444444444444444,
              "#bd3786"
             ],
             [
              0.5555555555555556,
              "#d8576b"
             ],
             [
              0.6666666666666666,
              "#ed7953"
             ],
             [
              0.7777777777777778,
              "#fb9f3a"
             ],
             [
              0.8888888888888888,
              "#fdca26"
             ],
             [
              1,
              "#f0f921"
             ]
            ],
            "type": "histogram2dcontour"
           }
          ],
          "mesh3d": [
           {
            "colorbar": {
             "outlinewidth": 0,
             "ticks": ""
            },
            "type": "mesh3d"
           }
          ],
          "parcoords": [
           {
            "line": {
             "colorbar": {
              "outlinewidth": 0,
              "ticks": ""
             }
            },
            "type": "parcoords"
           }
          ],
          "pie": [
           {
            "automargin": true,
            "type": "pie"
           }
          ],
          "scatter": [
           {
            "fillpattern": {
             "fillmode": "overlay",
             "size": 10,
             "solidity": 0.2
            },
            "type": "scatter"
           }
          ],
          "scatter3d": [
           {
            "line": {
             "colorbar": {
              "outlinewidth": 0,
              "ticks": ""
             }
            },
            "marker": {
             "colorbar": {
              "outlinewidth": 0,
              "ticks": ""
             }
            },
            "type": "scatter3d"
           }
          ],
          "scattercarpet": [
           {
            "marker": {
             "colorbar": {
              "outlinewidth": 0,
              "ticks": ""
             }
            },
            "type": "scattercarpet"
           }
          ],
          "scattergeo": [
           {
            "marker": {
             "colorbar": {
              "outlinewidth": 0,
              "ticks": ""
             }
            },
            "type": "scattergeo"
           }
          ],
          "scattergl": [
           {
            "marker": {
             "colorbar": {
              "outlinewidth": 0,
              "ticks": ""
             }
            },
            "type": "scattergl"
           }
          ],
          "scattermapbox": [
           {
            "marker": {
             "colorbar": {
              "outlinewidth": 0,
              "ticks": ""
             }
            },
            "type": "scattermapbox"
           }
          ],
          "scatterpolar": [
           {
            "marker": {
             "colorbar": {
              "outlinewidth": 0,
              "ticks": ""
             }
            },
            "type": "scatterpolar"
           }
          ],
          "scatterpolargl": [
           {
            "marker": {
             "colorbar": {
              "outlinewidth": 0,
              "ticks": ""
             }
            },
            "type": "scatterpolargl"
           }
          ],
          "scatterternary": [
           {
            "marker": {
             "colorbar": {
              "outlinewidth": 0,
              "ticks": ""
             }
            },
            "type": "scatterternary"
           }
          ],
          "surface": [
           {
            "colorbar": {
             "outlinewidth": 0,
             "ticks": ""
            },
            "colorscale": [
             [
              0,
              "#0d0887"
             ],
             [
              0.1111111111111111,
              "#46039f"
             ],
             [
              0.2222222222222222,
              "#7201a8"
             ],
             [
              0.3333333333333333,
              "#9c179e"
             ],
             [
              0.4444444444444444,
              "#bd3786"
             ],
             [
              0.5555555555555556,
              "#d8576b"
             ],
             [
              0.6666666666666666,
              "#ed7953"
             ],
             [
              0.7777777777777778,
              "#fb9f3a"
             ],
             [
              0.8888888888888888,
              "#fdca26"
             ],
             [
              1,
              "#f0f921"
             ]
            ],
            "type": "surface"
           }
          ],
          "table": [
           {
            "cells": {
             "fill": {
              "color": "#EBF0F8"
             },
             "line": {
              "color": "white"
             }
            },
            "header": {
             "fill": {
              "color": "#C8D4E3"
             },
             "line": {
              "color": "white"
             }
            },
            "type": "table"
           }
          ]
         },
         "layout": {
          "annotationdefaults": {
           "arrowcolor": "#2a3f5f",
           "arrowhead": 0,
           "arrowwidth": 1
          },
          "autotypenumbers": "strict",
          "coloraxis": {
           "colorbar": {
            "outlinewidth": 0,
            "ticks": ""
           }
          },
          "colorscale": {
           "diverging": [
            [
             0,
             "#8e0152"
            ],
            [
             0.1,
             "#c51b7d"
            ],
            [
             0.2,
             "#de77ae"
            ],
            [
             0.3,
             "#f1b6da"
            ],
            [
             0.4,
             "#fde0ef"
            ],
            [
             0.5,
             "#f7f7f7"
            ],
            [
             0.6,
             "#e6f5d0"
            ],
            [
             0.7,
             "#b8e186"
            ],
            [
             0.8,
             "#7fbc41"
            ],
            [
             0.9,
             "#4d9221"
            ],
            [
             1,
             "#276419"
            ]
           ],
           "sequential": [
            [
             0,
             "#0d0887"
            ],
            [
             0.1111111111111111,
             "#46039f"
            ],
            [
             0.2222222222222222,
             "#7201a8"
            ],
            [
             0.3333333333333333,
             "#9c179e"
            ],
            [
             0.4444444444444444,
             "#bd3786"
            ],
            [
             0.5555555555555556,
             "#d8576b"
            ],
            [
             0.6666666666666666,
             "#ed7953"
            ],
            [
             0.7777777777777778,
             "#fb9f3a"
            ],
            [
             0.8888888888888888,
             "#fdca26"
            ],
            [
             1,
             "#f0f921"
            ]
           ],
           "sequentialminus": [
            [
             0,
             "#0d0887"
            ],
            [
             0.1111111111111111,
             "#46039f"
            ],
            [
             0.2222222222222222,
             "#7201a8"
            ],
            [
             0.3333333333333333,
             "#9c179e"
            ],
            [
             0.4444444444444444,
             "#bd3786"
            ],
            [
             0.5555555555555556,
             "#d8576b"
            ],
            [
             0.6666666666666666,
             "#ed7953"
            ],
            [
             0.7777777777777778,
             "#fb9f3a"
            ],
            [
             0.8888888888888888,
             "#fdca26"
            ],
            [
             1,
             "#f0f921"
            ]
           ]
          },
          "colorway": [
           "#636efa",
           "#EF553B",
           "#00cc96",
           "#ab63fa",
           "#FFA15A",
           "#19d3f3",
           "#FF6692",
           "#B6E880",
           "#FF97FF",
           "#FECB52"
          ],
          "font": {
           "color": "#2a3f5f"
          },
          "geo": {
           "bgcolor": "white",
           "lakecolor": "white",
           "landcolor": "white",
           "showlakes": true,
           "showland": true,
           "subunitcolor": "#C8D4E3"
          },
          "hoverlabel": {
           "align": "left"
          },
          "hovermode": "closest",
          "mapbox": {
           "style": "light"
          },
          "paper_bgcolor": "white",
          "plot_bgcolor": "white",
          "polar": {
           "angularaxis": {
            "gridcolor": "#EBF0F8",
            "linecolor": "#EBF0F8",
            "ticks": ""
           },
           "bgcolor": "white",
           "radialaxis": {
            "gridcolor": "#EBF0F8",
            "linecolor": "#EBF0F8",
            "ticks": ""
           }
          },
          "scene": {
           "xaxis": {
            "backgroundcolor": "white",
            "gridcolor": "#DFE8F3",
            "gridwidth": 2,
            "linecolor": "#EBF0F8",
            "showbackground": true,
            "ticks": "",
            "zerolinecolor": "#EBF0F8"
           },
           "yaxis": {
            "backgroundcolor": "white",
            "gridcolor": "#DFE8F3",
            "gridwidth": 2,
            "linecolor": "#EBF0F8",
            "showbackground": true,
            "ticks": "",
            "zerolinecolor": "#EBF0F8"
           },
           "zaxis": {
            "backgroundcolor": "white",
            "gridcolor": "#DFE8F3",
            "gridwidth": 2,
            "linecolor": "#EBF0F8",
            "showbackground": true,
            "ticks": "",
            "zerolinecolor": "#EBF0F8"
           }
          },
          "shapedefaults": {
           "line": {
            "color": "#2a3f5f"
           }
          },
          "ternary": {
           "aaxis": {
            "gridcolor": "#DFE8F3",
            "linecolor": "#A2B1C6",
            "ticks": ""
           },
           "baxis": {
            "gridcolor": "#DFE8F3",
            "linecolor": "#A2B1C6",
            "ticks": ""
           },
           "bgcolor": "white",
           "caxis": {
            "gridcolor": "#DFE8F3",
            "linecolor": "#A2B1C6",
            "ticks": ""
           }
          },
          "title": {
           "x": 0.05
          },
          "xaxis": {
           "automargin": true,
           "gridcolor": "#EBF0F8",
           "linecolor": "#EBF0F8",
           "ticks": "",
           "title": {
            "standoff": 15
           },
           "zerolinecolor": "#EBF0F8",
           "zerolinewidth": 2
          },
          "yaxis": {
           "automargin": true,
           "gridcolor": "#EBF0F8",
           "linecolor": "#EBF0F8",
           "ticks": "",
           "title": {
            "standoff": 15
           },
           "zerolinecolor": "#EBF0F8",
           "zerolinewidth": 2
          }
         }
        },
        "title": {
         "text": "Violin Plot of Login Count"
        },
        "violinmode": "group",
        "xaxis": {
         "anchor": "y",
         "domain": [
          0,
          1
         ]
        },
        "yaxis": {
         "anchor": "x",
         "domain": [
          0,
          1
         ],
         "title": {
          "text": "Login Count"
         }
        }
       }
      }
     },
     "metadata": {},
     "output_type": "display_data"
    }
   ],
   "source": [
    "\n",
    "fig_violin = px.violin(\n",
    "    df,\n",
    "    y=\"login_count\",\n",
    "    box=True,\n",
    "    points=\"all\",\n",
    "    title=\"Violin Plot of Login Count\",\n",
    "    labels={\"login_count\": \"Login Count\"},\n",
    "    template=\"plotly_white\"\n",
    ")\n",
    "fig_violin.show()"
   ]
  },
  {
   "cell_type": "markdown",
   "id": "f5ab04f6",
   "metadata": {},
   "source": [
    "Box and violin plots provide additional evidence of wide data dispersion and the presence of outliers in both **activity_count** and **login_count**."
   ]
  },
  {
   "cell_type": "markdown",
   "id": "43584aed",
   "metadata": {},
   "source": [
    "##  **Outlier Analysis**\n",
    "\n",
    "This section focuses on detecting outliers in **activity_count** using the Interquartile Range (IQR) method. Learners with **activity_count** values below or above the range [Q1 - 1.5×IQR, Q3 + 1.5×IQR] are flagged as outliers. Additionally, learners with values above the 95th percentile are considered high-activity and are analyzed further."
   ]
  },
  {
   "cell_type": "markdown",
   "id": "be0c2560",
   "metadata": {},
   "source": [
    "### **IQR-Based Outlier Detection**"
   ]
  },
  {
   "cell_type": "code",
   "execution_count": 12,
   "id": "281b6d27",
   "metadata": {},
   "outputs": [
    {
     "name": "stdout",
     "output_type": "stream",
     "text": [
      "Outliers in activity_count: 172\n"
     ]
    },
    {
     "data": {
      "text/html": [
       "<div>\n",
       "<style scoped>\n",
       "    .dataframe tbody tr th:only-of-type {\n",
       "        vertical-align: middle;\n",
       "    }\n",
       "\n",
       "    .dataframe tbody tr th {\n",
       "        vertical-align: top;\n",
       "    }\n",
       "\n",
       "    .dataframe thead th {\n",
       "        text-align: right;\n",
       "    }\n",
       "</style>\n",
       "<table border=\"1\" class=\"dataframe\">\n",
       "  <thead>\n",
       "    <tr style=\"text-align: right;\">\n",
       "      <th></th>\n",
       "      <th>user_id</th>\n",
       "      <th>activity_count</th>\n",
       "    </tr>\n",
       "  </thead>\n",
       "  <tbody>\n",
       "    <tr>\n",
       "      <th>1</th>\n",
       "      <td>-1</td>\n",
       "      <td>2170</td>\n",
       "    </tr>\n",
       "    <tr>\n",
       "      <th>2</th>\n",
       "      <td>0</td>\n",
       "      <td>7257</td>\n",
       "    </tr>\n",
       "    <tr>\n",
       "      <th>4</th>\n",
       "      <td>2</td>\n",
       "      <td>45023</td>\n",
       "    </tr>\n",
       "    <tr>\n",
       "      <th>5</th>\n",
       "      <td>3</td>\n",
       "      <td>12922</td>\n",
       "    </tr>\n",
       "    <tr>\n",
       "      <th>7</th>\n",
       "      <td>5</td>\n",
       "      <td>1079</td>\n",
       "    </tr>\n",
       "    <tr>\n",
       "      <th>10</th>\n",
       "      <td>9</td>\n",
       "      <td>436</td>\n",
       "    </tr>\n",
       "    <tr>\n",
       "      <th>15</th>\n",
       "      <td>16</td>\n",
       "      <td>433</td>\n",
       "    </tr>\n",
       "    <tr>\n",
       "      <th>24</th>\n",
       "      <td>25</td>\n",
       "      <td>1894</td>\n",
       "    </tr>\n",
       "    <tr>\n",
       "      <th>35</th>\n",
       "      <td>39</td>\n",
       "      <td>500</td>\n",
       "    </tr>\n",
       "    <tr>\n",
       "      <th>36</th>\n",
       "      <td>40</td>\n",
       "      <td>350</td>\n",
       "    </tr>\n",
       "  </tbody>\n",
       "</table>\n",
       "</div>"
      ],
      "text/plain": [
       "    user_id  activity_count\n",
       "1        -1            2170\n",
       "2         0            7257\n",
       "4         2           45023\n",
       "5         3           12922\n",
       "7         5            1079\n",
       "10        9             436\n",
       "15       16             433\n",
       "24       25            1894\n",
       "35       39             500\n",
       "36       40             350"
      ]
     },
     "metadata": {},
     "output_type": "display_data"
    }
   ],
   "source": [
    "\n",
    "Q1 = df['activity_count'].quantile(0.25)\n",
    "Q3 = df['activity_count'].quantile(0.75)\n",
    "IQR = Q3 - Q1\n",
    "lower_bound = Q1 - 1.5 * IQR\n",
    "upper_bound = Q3 + 1.5 * IQR\n",
    "\n",
    "outliers = df[(df['activity_count'] < lower_bound) | (df['activity_count'] > upper_bound)]\n",
    "print(f\"Outliers in activity_count: {len(outliers)}\")\n",
    "display(outliers[['user_id', 'activity_count']].head(10))"
   ]
  },
  {
   "cell_type": "markdown",
   "id": "57d056e0",
   "metadata": {},
   "source": [
    "The output quantifies the number of outliers, underscoring the variability in learner engagement and suggesting that some values may be extreme or anomalous."
   ]
  },
  {
   "cell_type": "markdown",
   "id": "4c82e5f4",
   "metadata": {},
   "source": [
    "###  **High-Activity Learners**\n",
    "\n",
    "Learners with an **activity_count** above the 95th percentile are extracted for additional review. This group represents those learners who are exceptionally active and may either be highly engaged or indicate potential data anomalies."
   ]
  },
  {
   "cell_type": "code",
   "execution_count": 13,
   "id": "4a135e4e",
   "metadata": {},
   "outputs": [
    {
     "name": "stdout",
     "output_type": "stream",
     "text": [
      "Number of high-activity learners: 53\n"
     ]
    },
    {
     "data": {
      "text/html": [
       "<div>\n",
       "<style scoped>\n",
       "    .dataframe tbody tr th:only-of-type {\n",
       "        vertical-align: middle;\n",
       "    }\n",
       "\n",
       "    .dataframe tbody tr th {\n",
       "        vertical-align: top;\n",
       "    }\n",
       "\n",
       "    .dataframe thead th {\n",
       "        text-align: right;\n",
       "    }\n",
       "</style>\n",
       "<table border=\"1\" class=\"dataframe\">\n",
       "  <thead>\n",
       "    <tr style=\"text-align: right;\">\n",
       "      <th></th>\n",
       "      <th>user_id</th>\n",
       "      <th>activity_count</th>\n",
       "    </tr>\n",
       "  </thead>\n",
       "  <tbody>\n",
       "    <tr>\n",
       "      <th>1</th>\n",
       "      <td>-1</td>\n",
       "      <td>2170</td>\n",
       "    </tr>\n",
       "    <tr>\n",
       "      <th>2</th>\n",
       "      <td>0</td>\n",
       "      <td>7257</td>\n",
       "    </tr>\n",
       "    <tr>\n",
       "      <th>4</th>\n",
       "      <td>2</td>\n",
       "      <td>45023</td>\n",
       "    </tr>\n",
       "    <tr>\n",
       "      <th>5</th>\n",
       "      <td>3</td>\n",
       "      <td>12922</td>\n",
       "    </tr>\n",
       "    <tr>\n",
       "      <th>24</th>\n",
       "      <td>25</td>\n",
       "      <td>1894</td>\n",
       "    </tr>\n",
       "    <tr>\n",
       "      <th>38</th>\n",
       "      <td>42</td>\n",
       "      <td>4916</td>\n",
       "    </tr>\n",
       "    <tr>\n",
       "      <th>41</th>\n",
       "      <td>45</td>\n",
       "      <td>4241</td>\n",
       "    </tr>\n",
       "    <tr>\n",
       "      <th>44</th>\n",
       "      <td>48</td>\n",
       "      <td>2710</td>\n",
       "    </tr>\n",
       "    <tr>\n",
       "      <th>53</th>\n",
       "      <td>57</td>\n",
       "      <td>2836</td>\n",
       "    </tr>\n",
       "    <tr>\n",
       "      <th>54</th>\n",
       "      <td>58</td>\n",
       "      <td>2241</td>\n",
       "    </tr>\n",
       "  </tbody>\n",
       "</table>\n",
       "</div>"
      ],
      "text/plain": [
       "    user_id  activity_count\n",
       "1        -1            2170\n",
       "2         0            7257\n",
       "4         2           45023\n",
       "5         3           12922\n",
       "24       25            1894\n",
       "38       42            4916\n",
       "41       45            4241\n",
       "44       48            2710\n",
       "53       57            2836\n",
       "54       58            2241"
      ]
     },
     "metadata": {},
     "output_type": "display_data"
    }
   ],
   "source": [
    "high_threshold = df['activity_count'].quantile(0.95)\n",
    "high_activity_learners = df[df['activity_count'] > high_threshold]\n",
    "print(f\"Number of high-activity learners: {len(high_activity_learners)}\")\n",
    "display(high_activity_learners[['user_id', 'activity_count']].head(10))"
   ]
  },
  {
   "cell_type": "markdown",
   "id": "1b1a01cd",
   "metadata": {},
   "source": [
    "The analysis shows that many outliers exist, indicating large variability in engagement levels among learners. The high-activity subset, often with values above 40,000 in **activity_count**, requires careful interpretation to differentiate between genuinely high engagement and potential data errors."
   ]
  },
  {
   "cell_type": "markdown",
   "id": "6c6ae435",
   "metadata": {},
   "source": [
    "## **At Risk Column Creation**\n",
    "\n",
    "A new **at_risk** column is generated to flag learners who might be struggling. This heuristic flags learners whose **average_activity** is below the median while their **login_count** is above the median, suggesting that they log in frequently but do not engage deeply in each session. This dual condition helps identify learners who may need additional support."
   ]
  },
  {
   "cell_type": "code",
   "execution_count": 14,
   "id": "be30c3cb",
   "metadata": {},
   "outputs": [
    {
     "name": "stdout",
     "output_type": "stream",
     "text": [
      "At Risk Column Distribution:\n",
      "at_risk\n",
      "0    918\n",
      "1    131\n",
      "Name: count, dtype: int64\n"
     ]
    }
   ],
   "source": [
    "threshold_avg_activity = df['average_activity'].median()\n",
    "threshold_login = df['login_count'].median()\n",
    "\n",
    "df['at_risk'] = np.where((df['average_activity'] < threshold_avg_activity) & (df['login_count'] > threshold_login), 1, 0)\n",
    "\n",
    "print(\"At Risk Column Distribution:\")\n",
    "print(pd.Series(df['at_risk']).value_counts())"
   ]
  },
  {
   "cell_type": "markdown",
   "id": "7ec74a4a",
   "metadata": {},
   "source": [
    "## **Predictive Modeling**\n",
    "\n",
    "Two predictive modeling approaches are implemented:\n",
    "\n",
    "1. **Performance Bracket Classification**\n",
    "\n",
    "    This model uses the observed **performance_bracket** (after label encoding) as the target variable. Engagement metrics (such as **activity_count**, **login_count**, **time**, and **average_activity**) are used as features to predict which performance group a learner belongs to.\n",
    "\n",
    "2. **At Risk Classification**\n",
    "\n",
    "    A second model is built using the newly created **at_risk** label as the target. This model aims to identify learners who, based on their engagement data, are likely to be struggling.\n",
    "\n",
    "Both models are evaluated using standard metrics such as classification reports and confusion matrices, and further refined using hyperparameter tuning with GridSearchCV and cross-validation."
   ]
  },
  {
   "cell_type": "markdown",
   "id": "efef898e",
   "metadata": {},
   "source": [
    "###  **Performance Bracket Classification**\n",
    "\n",
    "The **performance_bracket** model first encodes the target variable using LabelEncoder. The data is then split into training and test sets before training a Random Forest Classifier."
   ]
  },
  {
   "cell_type": "code",
   "execution_count": 15,
   "id": "5a115966",
   "metadata": {},
   "outputs": [
    {
     "name": "stdout",
     "output_type": "stream",
     "text": [
      "Distribution of performance_bracket (encoded):\n",
      "performance_bracket\n",
      "0    734\n",
      "3    164\n",
      "2     96\n",
      "1     28\n",
      "4     27\n",
      "Name: count, dtype: int64\n"
     ]
    }
   ],
   "source": [
    "features = ['activity_count', 'login_count', 'time', 'average_activity']\n",
    "target = 'performance_bracket'\n",
    "\n",
    "df_mod = df.dropna(subset=[target])\n",
    "le = LabelEncoder()\n",
    "df_mod[target] = le.fit_transform(df_mod[target])\n",
    "\n",
    "print(\"Distribution of performance_bracket (encoded):\")\n",
    "print(pd.Series(df_mod[target]).value_counts())"
   ]
  },
  {
   "cell_type": "markdown",
   "id": "506e9413",
   "metadata": {},
   "source": [
    "Next, the data is split into training and testing sets, and a Random Forest Classifier is trained. The model's performance is evaluated using the classification report and confusion matrix."
   ]
  },
  {
   "cell_type": "code",
   "execution_count": 16,
   "id": "9081f2b8",
   "metadata": {},
   "outputs": [
    {
     "name": "stdout",
     "output_type": "stream",
     "text": [
      "Classification Report (Performance Bracket):\n",
      "              precision    recall  f1-score   support\n",
      "\n",
      "           0       1.00      1.00      1.00       222\n",
      "           1       1.00      1.00      1.00        10\n",
      "           2       1.00      1.00      1.00        29\n",
      "           3       1.00      1.00      1.00        46\n",
      "           4       1.00      1.00      1.00         8\n",
      "\n",
      "    accuracy                           1.00       315\n",
      "   macro avg       1.00      1.00      1.00       315\n",
      "weighted avg       1.00      1.00      1.00       315\n",
      "\n",
      "Confusion Matrix (Performance Bracket):\n",
      "[[222   0   0   0   0]\n",
      " [  0  10   0   0   0]\n",
      " [  0   0  29   0   0]\n",
      " [  0   0   0  46   0]\n",
      " [  0   0   0   0   8]]\n"
     ]
    }
   ],
   "source": [
    "X_train, X_test, y_train, y_test = train_test_split(df_mod[features].fillna(0), df_mod[target], test_size=0.3, random_state=42)\n",
    "\n",
    "model = RandomForestClassifier(n_estimators=100, random_state=42)\n",
    "model.fit(X_train, y_train)\n",
    "predictions = model.predict(X_test)\n",
    "\n",
    "print(\"Classification Report (Performance Bracket):\")\n",
    "print(classification_report(y_test, predictions))\n",
    "\n",
    "print(\"Confusion Matrix (Performance Bracket):\")\n",
    "print(confusion_matrix(y_test, predictions))"
   ]
  },
  {
   "cell_type": "markdown",
   "id": "2e30d026",
   "metadata": {},
   "source": [
    "### **At Risk Classification**\n",
    "\n",
    "In addition to the performance bracket model, a model is built to predict the newly created **at_risk** label. This model follows the same procedure, with the target variable now representing whether or not a learner is flagged as at risk."
   ]
  },
  {
   "cell_type": "code",
   "execution_count": 17,
   "id": "0b080b9d",
   "metadata": {},
   "outputs": [
    {
     "name": "stdout",
     "output_type": "stream",
     "text": [
      "Classification Report (At Risk):\n",
      "              precision    recall  f1-score   support\n",
      "\n",
      "           0       1.00      1.00      1.00       272\n",
      "           1       1.00      1.00      1.00        43\n",
      "\n",
      "    accuracy                           1.00       315\n",
      "   macro avg       1.00      1.00      1.00       315\n",
      "weighted avg       1.00      1.00      1.00       315\n",
      "\n",
      "Confusion Matrix (At Risk):\n",
      "[[272   0]\n",
      " [  0  43]]\n"
     ]
    }
   ],
   "source": [
    "target_at_risk = 'at_risk'\n",
    "\n",
    "df_mod2 = df.dropna(subset=[target_at_risk])\n",
    "\n",
    "X_train2, X_test2, y_train2, y_test2 = train_test_split(df_mod2[features].fillna(0), df_mod2[target_at_risk], test_size=0.3, random_state=42)\n",
    "\n",
    "model_at_risk = RandomForestClassifier(n_estimators=100, random_state=42)\n",
    "model_at_risk.fit(X_train2, y_train2)\n",
    "predictions_at_risk = model_at_risk.predict(X_test2)\n",
    "\n",
    "print(\"Classification Report (At Risk):\")\n",
    "print(classification_report(y_test2, predictions_at_risk))\n",
    "\n",
    "print(\"Confusion Matrix (At Risk):\")\n",
    "print(confusion_matrix(y_test2, predictions_at_risk))"
   ]
  },
  {
   "cell_type": "markdown",
   "id": "22a6b350",
   "metadata": {},
   "source": [
    "### **Model Refinement with Hyperparameter Tuning**\n",
    "\n",
    "To improve model robustness, hyperparameter tuning is performed using GridSearchCV. This approach searches over a specified grid of parameters and uses cross-validation to find the best model settings for the Random Forest Classifier."
   ]
  },
  {
   "cell_type": "code",
   "execution_count": 18,
   "id": "1c2b9d7c",
   "metadata": {},
   "outputs": [
    {
     "name": "stdout",
     "output_type": "stream",
     "text": [
      "Best Parameters (Performance Bracket): {'max_depth': None, 'min_samples_split': 2, 'n_estimators': 50}\n",
      "Best Score (Performance Bracket): 1.0\n",
      "\n",
      "Classification Report after Tuning (Performance Bracket):\n",
      "              precision    recall  f1-score   support\n",
      "\n",
      "           0       1.00      1.00      1.00       222\n",
      "           1       1.00      1.00      1.00        10\n",
      "           2       1.00      1.00      1.00        29\n",
      "           3       1.00      1.00      1.00        46\n",
      "           4       1.00      1.00      1.00         8\n",
      "\n",
      "    accuracy                           1.00       315\n",
      "   macro avg       1.00      1.00      1.00       315\n",
      "weighted avg       1.00      1.00      1.00       315\n",
      "\n",
      "Cross-validation scores (Performance Bracket): [1. 1. 1. 1. 1.]\n",
      "Mean CV score (Performance Bracket): 1.0\n"
     ]
    }
   ],
   "source": [
    "param_grid = {\n",
    "    'n_estimators': [50, 100, 150],\n",
    "    'max_depth': [None, 5, 10],\n",
    "    'min_samples_split': [2, 5]\n",
    "}\n",
    "\n",
    "grid_search = GridSearchCV(\n",
    "    estimator=RandomForestClassifier(random_state=42),\n",
    "    param_grid=param_grid,\n",
    "    cv=3,\n",
    "    scoring='accuracy',\n",
    "    n_jobs=-1\n",
    ")\n",
    "grid_search.fit(X_train, y_train)\n",
    "\n",
    "print(\"Best Parameters (Performance Bracket):\", grid_search.best_params_)\n",
    "print(\"Best Score (Performance Bracket):\", grid_search.best_score_)\n",
    "\n",
    "# Evaluate the best estimator on the test set\n",
    "best_model = grid_search.best_estimator_\n",
    "test_preds = best_model.predict(X_test)\n",
    "print(\"\\nClassification Report after Tuning (Performance Bracket):\")\n",
    "print(classification_report(y_test, test_preds))\n",
    "\n",
    "# Perform cross-validation on the full dataset\n",
    "scores = cross_val_score(best_model, df_mod[features].fillna(0), df_mod[target], cv=5)\n",
    "print(\"Cross-validation scores (Performance Bracket):\", scores)\n",
    "print(\"Mean CV score (Performance Bracket):\", scores.mean())"
   ]
  },
  {
   "cell_type": "markdown",
   "id": "0755ed7c",
   "metadata": {},
   "source": [
    "The hyperparameter tuning results indicate that the model achieves high accuracy and generalizes well to unseen data. This suggests that engagement metrics are strong predictors of performance groups."
   ]
  },
  {
   "cell_type": "markdown",
   "id": "df81741d",
   "metadata": {},
   "source": [
    "## **Advanced Analytics**\n",
    "\n",
    "Additional techniques are applied to gain deeper insights into learner behavior:\n",
    "\n",
    "###  **Clustering with K-Means**\n",
    "\n",
    "Learners are grouped into distinct clusters using K-Means clustering. The engagement features are standardized prior to clustering. The cluster centroids (transformed back to the original scale) offer interpretable benchmarks for the average engagement levels within each group."
   ]
  },
  {
   "cell_type": "code",
   "execution_count": 19,
   "id": "82df8752",
   "metadata": {},
   "outputs": [
    {
     "data": {
      "application/vnd.plotly.v1+json": {
       "config": {
        "plotlyServerURL": "https://plot.ly"
       },
       "data": [
        {
         "hovertemplate": "activity_count=%{x}<br>login_count=%{y}<br>time=%{z}<br>cluster=%{marker.color}<extra></extra>",
         "legendgroup": "",
         "marker": {
          "color": [
           0,
           0,
           0,
           0,
           2,
           1,
           0,
           1,
           0,
           0,
           0,
           0,
           0,
           0,
           0,
           0,
           0,
           0,
           0,
           0,
           0,
           0,
           0,
           0,
           1,
           0,
           0,
           0,
           0,
           0,
           0,
           0,
           0,
           0,
           0,
           0,
           0,
           0,
           0,
           0,
           0,
           1,
           0,
           0,
           0,
           0,
           0,
           0,
           0,
           0,
           0,
           0,
           0,
           0,
           0,
           0,
           0,
           0,
           0,
           0,
           0,
           0,
           0,
           0,
           0,
           0,
           0,
           0,
           0,
           0,
           0,
           0,
           0,
           0,
           0,
           0,
           0,
           0,
           0,
           0,
           0,
           0,
           0,
           0,
           0,
           0,
           1,
           0,
           0,
           0,
           0,
           1,
           0,
           0,
           0,
           0,
           0,
           0,
           0,
           0,
           0,
           0,
           0,
           0,
           0,
           0,
           0,
           0,
           0,
           0,
           0,
           0,
           0,
           0,
           0,
           0,
           0,
           0,
           0,
           0,
           0,
           0,
           0,
           0,
           0,
           0,
           0,
           0,
           0,
           0,
           0,
           0,
           0,
           0,
           0,
           0,
           0,
           0,
           0,
           0,
           0,
           0,
           0,
           0,
           0,
           0,
           0,
           0,
           0,
           0,
           0,
           0,
           0,
           0,
           0,
           0,
           0,
           0,
           0,
           0,
           0,
           1,
           0,
           0,
           0,
           0,
           1,
           0,
           0,
           0,
           1,
           0,
           0,
           0,
           0,
           0,
           0,
           0,
           0,
           0,
           0,
           0,
           0,
           0,
           0,
           0,
           1,
           0,
           0,
           0,
           0,
           0,
           0,
           0,
           0,
           0,
           0,
           1,
           0,
           0,
           0,
           0,
           0,
           0,
           0,
           0,
           1,
           0,
           0,
           0,
           0,
           0,
           0,
           0,
           0,
           0,
           0,
           0,
           0,
           0,
           0,
           0,
           0,
           0,
           0,
           0,
           0,
           0,
           0,
           0,
           0,
           0,
           0,
           0,
           0,
           0,
           0,
           0,
           0,
           0,
           0,
           0,
           1,
           0,
           0,
           0,
           0,
           0,
           0,
           0,
           0,
           0,
           0,
           0,
           0,
           0,
           0,
           0,
           0,
           0,
           0,
           0,
           1,
           0,
           0,
           0,
           0,
           0,
           0,
           0,
           0,
           0,
           0,
           0,
           0,
           0,
           0,
           0,
           0,
           0,
           0,
           0,
           0,
           0,
           0,
           0,
           1,
           0,
           0,
           0,
           0,
           0,
           0,
           0,
           0,
           0,
           0,
           0,
           0,
           0,
           0,
           0,
           0,
           0,
           0,
           0,
           0,
           0,
           0,
           0,
           0,
           0,
           0,
           0,
           0,
           0,
           0,
           0,
           0,
           0,
           0,
           0,
           0,
           0,
           0,
           0,
           0,
           0,
           0,
           0,
           0,
           0,
           0,
           0,
           0,
           0,
           0,
           0,
           0,
           0,
           1,
           0,
           0,
           1,
           0,
           0,
           0,
           0,
           0,
           0,
           0,
           0,
           0,
           0,
           0,
           0,
           0,
           0,
           0,
           0,
           0,
           0,
           0,
           0,
           0,
           1,
           0,
           0,
           0,
           0,
           0,
           0,
           0,
           0,
           0,
           0,
           0,
           0,
           0,
           1,
           0,
           0,
           0,
           0,
           0,
           0,
           0,
           0,
           0,
           0,
           0,
           0,
           0,
           0,
           0,
           0,
           0,
           0,
           0,
           0,
           0,
           0,
           0,
           0,
           0,
           0,
           0,
           0,
           0,
           0,
           0,
           0,
           0,
           0,
           0,
           0,
           0,
           0,
           0,
           0,
           0,
           0,
           0,
           0,
           0,
           0,
           0,
           0,
           0,
           0,
           0,
           0,
           0,
           0,
           0,
           0,
           0,
           0,
           0,
           0,
           0,
           0,
           0,
           0,
           0,
           0,
           0,
           0,
           0,
           0,
           0,
           0,
           0,
           0,
           0,
           0,
           0,
           0,
           0,
           0,
           0,
           0,
           0,
           0,
           0,
           0,
           0,
           0,
           0,
           0,
           0,
           0,
           0,
           0,
           0,
           0,
           0,
           0,
           0,
           0,
           0,
           0,
           0,
           0,
           0,
           0,
           0,
           0,
           0,
           0,
           0,
           0,
           0,
           0,
           0,
           0,
           0,
           0,
           0,
           0,
           0,
           0,
           0,
           0,
           0,
           0,
           0,
           0,
           0,
           0,
           0,
           0,
           0,
           0,
           0,
           0,
           0,
           0,
           0,
           0,
           0,
           0,
           0,
           0,
           0,
           0,
           0,
           0,
           0,
           0,
           0,
           0,
           0,
           0,
           0,
           0,
           0,
           0,
           0,
           0,
           0,
           0,
           0,
           0,
           0,
           0,
           0,
           0,
           0,
           0,
           0,
           0,
           0,
           0,
           0,
           0,
           0,
           0,
           0,
           0,
           0,
           0,
           0,
           0,
           0,
           0,
           0,
           0,
           0,
           0,
           0,
           0,
           0,
           0,
           0,
           0,
           0,
           1,
           0,
           0,
           0,
           0,
           1,
           0,
           0,
           0,
           0,
           0,
           0,
           0,
           0,
           0,
           0,
           0,
           0,
           0,
           0,
           0,
           0,
           0,
           0,
           0,
           0,
           1,
           0,
           0,
           0,
           0,
           0,
           0,
           0,
           0,
           0,
           0,
           0,
           0,
           0,
           0,
           0,
           0,
           0,
           0,
           0,
           0,
           0,
           0,
           0,
           0,
           0,
           0,
           0,
           0,
           0,
           0,
           0,
           0,
           0,
           0,
           0,
           0,
           0,
           0,
           0,
           0,
           0,
           0,
           0,
           0,
           0,
           0,
           0,
           0,
           0,
           0,
           0,
           0,
           0,
           0,
           0,
           0,
           0,
           0,
           0,
           0,
           0,
           0,
           0,
           0,
           0,
           0,
           0,
           0,
           0,
           0,
           0,
           0,
           0,
           0,
           0,
           0,
           0,
           0,
           0,
           0,
           0,
           0,
           0,
           0,
           0,
           0,
           0,
           0,
           0,
           0,
           0,
           0,
           0,
           0,
           0,
           0,
           0,
           0,
           0,
           0,
           0,
           0,
           0,
           0,
           0,
           0,
           0,
           0,
           0,
           0,
           0,
           0,
           0,
           0,
           0,
           0,
           0,
           0,
           0,
           0,
           0,
           0,
           0,
           0,
           0,
           0,
           0,
           0,
           0,
           0,
           0,
           0,
           0,
           0,
           0,
           0,
           0,
           0,
           0,
           0,
           0,
           0,
           0,
           0,
           0,
           0,
           0,
           0,
           0,
           0,
           0,
           0,
           0,
           0,
           0,
           0,
           0,
           0,
           0,
           0,
           0,
           0,
           0,
           0,
           0,
           0,
           0,
           0,
           0,
           0,
           0,
           0,
           0,
           0,
           0,
           0,
           0,
           0,
           0,
           0,
           0,
           0,
           0,
           0,
           0,
           0,
           0,
           0,
           0,
           0,
           0,
           0,
           0,
           0,
           0,
           0,
           0,
           0,
           0,
           0,
           0,
           0,
           0,
           0,
           0,
           0,
           0,
           0,
           0,
           0,
           0,
           0,
           0,
           0,
           0,
           0,
           0,
           0,
           0,
           0,
           0,
           0,
           0,
           0,
           0,
           0,
           0,
           0,
           0,
           0,
           0,
           0,
           0,
           0,
           0,
           0,
           0,
           0,
           0,
           0,
           0,
           0,
           0,
           0,
           0,
           0,
           0,
           0,
           0,
           0,
           0,
           0,
           0,
           0,
           0,
           0,
           0,
           0,
           0,
           0,
           0,
           0,
           0,
           0,
           0,
           0,
           0,
           0,
           0,
           0,
           0,
           0,
           0,
           0,
           0,
           0,
           0,
           0,
           0,
           0,
           0,
           0,
           0,
           0,
           0,
           0,
           0,
           0,
           0,
           0,
           0,
           0,
           0,
           0,
           0,
           0,
           0,
           0,
           0,
           0,
           0,
           0,
           0,
           0,
           0,
           0,
           0,
           0,
           0,
           1,
           0,
           0,
           0,
           0,
           0,
           0,
           0,
           0,
           0,
           0,
           0,
           0,
           0,
           0,
           0,
           0,
           0,
           0,
           0,
           0,
           0,
           0,
           0,
           0,
           0,
           0,
           0,
           0,
           0,
           0,
           0,
           0,
           0,
           0,
           0,
           0,
           0,
           0,
           0,
           0,
           0,
           0,
           0,
           0,
           0,
           0,
           0,
           0,
           0,
           0,
           0,
           0,
           0,
           0,
           0,
           0,
           0,
           0,
           0,
           0,
           0,
           0,
           0,
           0,
           0,
           0,
           0,
           0,
           0,
           0,
           0,
           0,
           0,
           0,
           0,
           0,
           0,
           0,
           0,
           0,
           0,
           0,
           0,
           0,
           0,
           0,
           0,
           0,
           0,
           0,
           0,
           0,
           0,
           0,
           0,
           0,
           0,
           0,
           0,
           0,
           0,
           0,
           0,
           0,
           0,
           0,
           0,
           0,
           0,
           0,
           0,
           0,
           0,
           0,
           0,
           0,
           0,
           0,
           0,
           0,
           0,
           0,
           0,
           0,
           0,
           0,
           0,
           0,
           0,
           0,
           0,
           0,
           0,
           0,
           0
          ],
          "coloraxis": "coloraxis",
          "symbol": "circle"
         },
         "mode": "markers",
         "name": "",
         "scene": "scene",
         "showlegend": false,
         "type": "scatter3d",
         "x": [
          1,
          2170,
          7257,
          3,
          45023,
          12922,
          3,
          1079,
          94,
          55,
          436,
          76,
          60,
          64,
          147,
          433,
          63,
          74,
          138,
          95,
          70,
          84,
          67,
          102,
          1894,
          65,
          63,
          60,
          74,
          169,
          63,
          99,
          111,
          71,
          287,
          500,
          350,
          103,
          4916,
          982,
          1028,
          4241,
          90,
          84,
          2710,
          78,
          1697,
          900,
          113,
          73,
          141,
          123,
          211,
          2836,
          2241,
          106,
          230,
          2669,
          195,
          72,
          86,
          165,
          80,
          640,
          302,
          151,
          105,
          128,
          86,
          667,
          218,
          147,
          9,
          3832,
          201,
          72,
          445,
          115,
          96,
          142,
          544,
          144,
          462,
          66,
          1486,
          71,
          4644,
          68,
          83,
          94,
          231,
          4004,
          234,
          71,
          1910,
          671,
          141,
          122,
          1593,
          865,
          94,
          317,
          128,
          280,
          145,
          83,
          80,
          79,
          83,
          84,
          83,
          1063,
          165,
          71,
          1316,
          118,
          437,
          294,
          82,
          1138,
          93,
          121,
          736,
          412,
          97,
          106,
          224,
          287,
          351,
          919,
          394,
          309,
          78,
          171,
          781,
          119,
          177,
          645,
          72,
          772,
          145,
          649,
          958,
          1487,
          266,
          205,
          98,
          126,
          132,
          457,
          79,
          95,
          784,
          114,
          114,
          443,
          145,
          240,
          80,
          86,
          84,
          6015,
          137,
          1171,
          451,
          84,
          2450,
          85,
          95,
          66,
          1810,
          109,
          106,
          67,
          257,
          471,
          602,
          83,
          859,
          79,
          339,
          2522,
          159,
          71,
          156,
          647,
          1872,
          87,
          70,
          138,
          529,
          124,
          67,
          72,
          173,
          267,
          86,
          4964,
          352,
          149,
          135,
          82,
          72,
          94,
          98,
          233,
          3075,
          104,
          74,
          294,
          120,
          105,
          68,
          1434,
          75,
          126,
          110,
          101,
          581,
          182,
          82,
          149,
          93,
          120,
          5063,
          72,
          70,
          84,
          94,
          322,
          1677,
          107,
          187,
          157,
          73,
          143,
          103,
          767,
          515,
          104,
          310,
          79,
          13917,
          130,
          80,
          68,
          908,
          77,
          102,
          578,
          814,
          583,
          152,
          68,
          238,
          2211,
          138,
          80,
          1756,
          310,
          92,
          147,
          3902,
          133,
          526,
          81,
          425,
          444,
          226,
          90,
          1876,
          111,
          73,
          912,
          258,
          66,
          528,
          110,
          588,
          73,
          1670,
          176,
          1215,
          140,
          97,
          684,
          8558,
          409,
          88,
          85,
          1409,
          209,
          157,
          142,
          217,
          724,
          72,
          903,
          89,
          293,
          36,
          66,
          160,
          131,
          46,
          84,
          41,
          59,
          41,
          87,
          42,
          65,
          52,
          82,
          45,
          203,
          83,
          48,
          47,
          42,
          47,
          41,
          53,
          37,
          4297,
          52,
          66,
          971,
          97,
          61,
          100,
          54,
          51,
          41,
          48,
          131,
          2016,
          502,
          74,
          89,
          6019,
          52,
          273,
          7320,
          305,
          231,
          52,
          292,
          37,
          756,
          204,
          52,
          193,
          47,
          52,
          99,
          41,
          1285,
          1385,
          1647,
          40,
          48,
          36,
          876,
          59,
          4608,
          79,
          38,
          354,
          102,
          353,
          154,
          250,
          3459,
          1166,
          79,
          51,
          1595,
          2994,
          2260,
          71,
          2373,
          112,
          1778,
          68,
          36,
          2794,
          7,
          85,
          14,
          46,
          32,
          33,
          27,
          29,
          12,
          170,
          13,
          32,
          14,
          50,
          12,
          105,
          29,
          12,
          1526,
          1606,
          250,
          12,
          35,
          56,
          12,
          26,
          40,
          12,
          43,
          1927,
          62,
          29,
          91,
          118,
          12,
          12,
          1254,
          1939,
          12,
          12,
          49,
          23,
          41,
          377,
          12,
          107,
          31,
          12,
          12,
          1712,
          12,
          13,
          779,
          14,
          97,
          12,
          12,
          34,
          2921,
          12,
          43,
          27,
          95,
          12,
          22,
          12,
          13,
          12,
          35,
          12,
          60,
          12,
          12,
          123,
          23,
          13,
          18,
          121,
          12,
          144,
          12,
          12,
          64,
          12,
          42,
          32,
          12,
          12,
          21,
          4232,
          12,
          12,
          12,
          724,
          12,
          1269,
          12,
          12,
          102,
          29,
          12,
          12,
          14,
          36,
          43,
          12,
          37,
          12,
          12,
          12,
          37,
          96,
          12,
          12,
          27,
          12,
          12,
          12,
          29,
          12,
          35,
          52,
          32,
          12,
          12,
          27,
          44,
          12,
          13,
          48,
          12,
          59,
          12,
          19,
          31,
          19,
          12,
          18,
          12,
          12,
          12,
          23,
          21,
          49,
          29,
          12,
          12,
          16,
          12,
          12,
          104,
          24,
          20,
          12,
          12,
          12,
          12,
          97,
          71,
          12,
          12,
          38,
          12,
          30,
          61,
          12,
          61,
          14,
          33,
          12,
          29,
          12,
          12,
          31,
          35,
          32,
          3345,
          22,
          24,
          12,
          12,
          12,
          12,
          25,
          13,
          12,
          12,
          20,
          12,
          12,
          10533,
          19,
          12,
          34,
          12,
          3857,
          32,
          14,
          12,
          12,
          1532,
          12,
          112,
          1537,
          41,
          12,
          12,
          47,
          12,
          12,
          12,
          27,
          38,
          12,
          12,
          12,
          6461,
          83,
          20,
          12,
          304,
          39,
          12,
          22,
          1613,
          13,
          30,
          22,
          15,
          13,
          13,
          12,
          12,
          12,
          12,
          12,
          27,
          12,
          13,
          23,
          82,
          760,
          12,
          15,
          12,
          12,
          12,
          12,
          12,
          12,
          12,
          19,
          12,
          12,
          12,
          23,
          12,
          12,
          12,
          124,
          12,
          12,
          12,
          34,
          22,
          91,
          12,
          23,
          45,
          12,
          14,
          42,
          12,
          12,
          12,
          12,
          45,
          12,
          12,
          27,
          12,
          18,
          12,
          12,
          12,
          69,
          15,
          12,
          12,
          14,
          12,
          18,
          130,
          12,
          12,
          2080,
          12,
          43,
          12,
          12,
          12,
          25,
          13,
          13,
          12,
          12,
          12,
          12,
          12,
          21,
          12,
          12,
          12,
          12,
          17,
          41,
          16,
          12,
          12,
          12,
          13,
          25,
          26,
          64,
          12,
          14,
          13,
          33,
          20,
          12,
          102,
          16,
          183,
          25,
          12,
          69,
          18,
          12,
          136,
          47,
          12,
          25,
          54,
          52,
          13,
          12,
          46,
          87,
          11,
          14,
          34,
          4220,
          33,
          84,
          31,
          11,
          145,
          64,
          28,
          103,
          21,
          61,
          11,
          50,
          11,
          780,
          188,
          68,
          896,
          86,
          11,
          11,
          11,
          35,
          43,
          84,
          11,
          93,
          11,
          47,
          13,
          11,
          12,
          11,
          1006,
          12,
          2608,
          11,
          11,
          46,
          11,
          11,
          13,
          14,
          31,
          3692,
          11,
          11,
          956,
          11,
          13,
          13,
          16,
          930,
          29,
          83,
          15,
          22,
          41,
          13,
          1822,
          34,
          13,
          11,
          11,
          11,
          57,
          11,
          19,
          11,
          13,
          11,
          139,
          29,
          45,
          11,
          40,
          54,
          11,
          11,
          11,
          11,
          11,
          13,
          38,
          19,
          12,
          23,
          11,
          60,
          11,
          11,
          11,
          24,
          14,
          11,
          13,
          84,
          11,
          19,
          11,
          1980,
          176,
          86,
          11,
          2792,
          44,
          41,
          49,
          11,
          25,
          11,
          11,
          20,
          11,
          81,
          11,
          11,
          11,
          11,
          22,
          28,
          11,
          18,
          1785,
          2863,
          54,
          11,
          132,
          28,
          11,
          11,
          57,
          11,
          11,
          11,
          14,
          52,
          3725,
          11,
          16,
          11,
          12,
          22,
          29,
          11,
          43,
          53,
          53,
          22,
          13,
          14,
          66,
          11,
          28,
          35,
          29,
          11,
          13,
          11,
          11,
          11,
          52,
          25,
          11,
          11,
          11,
          29,
          11,
          38,
          63,
          11,
          26,
          132,
          14,
          11,
          10696,
          540,
          43,
          11,
          27,
          92,
          11,
          650,
          11,
          32,
          11,
          11,
          19,
          1686,
          40,
          11,
          11,
          11,
          11,
          11,
          11,
          11,
          54,
          34,
          142,
          11,
          73,
          11,
          139,
          28,
          11,
          11,
          11,
          11,
          17,
          11,
          22,
          11,
          17,
          11,
          25,
          15,
          21,
          12,
          11,
          11,
          11,
          13,
          11,
          11,
          11,
          14,
          11,
          15,
          27,
          10,
          10,
          10,
          10,
          22,
          10,
          10,
          10,
          10,
          10,
          10,
          10,
          10,
          10,
          14,
          25,
          35,
          1529,
          70,
          106,
          19,
          13,
          10,
          10,
          10,
          10,
          10,
          55,
          10,
          47,
          31,
          10,
          68,
          24,
          33,
          24,
          12,
          10,
          36,
          10,
          10,
          10,
          10,
          28,
          26,
          10,
          10,
          907,
          9,
          9,
          9,
          9,
          9,
          3404,
          9,
          1625,
          37,
          65,
          9,
          9,
          9,
          9,
          9,
          9,
          9,
          12,
          9,
          9,
          11,
          177,
          9,
          9,
          9,
          9,
          9,
          77,
          30,
          9,
          12,
          9,
          9
         ],
         "y": [
          null,
          null,
          null,
          1,
          169,
          107,
          null,
          54,
          3,
          2,
          13,
          null,
          null,
          null,
          5,
          5,
          null,
          null,
          2,
          2,
          null,
          1,
          null,
          3,
          46,
          null,
          null,
          null,
          null,
          4,
          null,
          4,
          3,
          null,
          7,
          4,
          19,
          1,
          21,
          12,
          23,
          63,
          2,
          3,
          32,
          null,
          33,
          17,
          2,
          null,
          6,
          2,
          2,
          41,
          15,
          2,
          9,
          19,
          12,
          null,
          2,
          8,
          null,
          12,
          7,
          3,
          5,
          2,
          1,
          8,
          4,
          4,
          null,
          7,
          1,
          null,
          9,
          2,
          1,
          2,
          15,
          3,
          2,
          null,
          7,
          null,
          57,
          null,
          1,
          2,
          3,
          37,
          5,
          null,
          27,
          15,
          5,
          1,
          8,
          19,
          1,
          18,
          6,
          4,
          2,
          null,
          2,
          null,
          1,
          2,
          null,
          17,
          3,
          null,
          26,
          3,
          6,
          4,
          null,
          18,
          1,
          4,
          13,
          5,
          1,
          3,
          4,
          10,
          9,
          20,
          1,
          14,
          null,
          3,
          12,
          2,
          4,
          6,
          null,
          18,
          6,
          14,
          14,
          19,
          7,
          6,
          2,
          2,
          8,
          5,
          null,
          1,
          15,
          2,
          4,
          5,
          2,
          5,
          1,
          1,
          1,
          91,
          5,
          17,
          6,
          2,
          55,
          3,
          1,
          null,
          13,
          5,
          3,
          null,
          4,
          16,
          8,
          null,
          5,
          null,
          3,
          19,
          5,
          null,
          4,
          4,
          50,
          null,
          null,
          4,
          3,
          1,
          null,
          null,
          4,
          11,
          null,
          23,
          3,
          4,
          4,
          1,
          null,
          1,
          2,
          8,
          13,
          1,
          null,
          7,
          3,
          3,
          null,
          11,
          null,
          3,
          2,
          3,
          13,
          2,
          null,
          5,
          1,
          4,
          23,
          null,
          null,
          1,
          1,
          5,
          24,
          2,
          3,
          3,
          1,
          4,
          1,
          5,
          9,
          1,
          6,
          null,
          113,
          2,
          null,
          null,
          20,
          1,
          3,
          8,
          19,
          2,
          2,
          null,
          7,
          36,
          4,
          2,
          14,
          2,
          1,
          4,
          64,
          7,
          16,
          2,
          4,
          18,
          7,
          4,
          26,
          3,
          null,
          46,
          6,
          null,
          5,
          2,
          6,
          null,
          30,
          3,
          33,
          7,
          2,
          18,
          73,
          2,
          1,
          3,
          31,
          3,
          7,
          1,
          4,
          8,
          null,
          8,
          1,
          17,
          null,
          3,
          7,
          2,
          1,
          3,
          null,
          3,
          null,
          2,
          null,
          2,
          null,
          3,
          2,
          9,
          2,
          null,
          1,
          null,
          null,
          null,
          null,
          null,
          21,
          null,
          2,
          10,
          3,
          1,
          8,
          null,
          null,
          null,
          null,
          4,
          10,
          24,
          3,
          5,
          68,
          null,
          12,
          26,
          7,
          4,
          1,
          6,
          null,
          20,
          8,
          null,
          2,
          1,
          null,
          3,
          null,
          7,
          40,
          20,
          null,
          null,
          null,
          5,
          null,
          100,
          1,
          null,
          7,
          1,
          11,
          1,
          5,
          13,
          16,
          1,
          null,
          23,
          23,
          42,
          2,
          24,
          3,
          6,
          1,
          null,
          10,
          1,
          2,
          null,
          2,
          1,
          2,
          2,
          2,
          null,
          14,
          null,
          2,
          null,
          2,
          null,
          5,
          1,
          null,
          38,
          11,
          9,
          null,
          1,
          1,
          null,
          2,
          2,
          null,
          2,
          16,
          3,
          1,
          6,
          6,
          null,
          null,
          3,
          16,
          null,
          null,
          2,
          1,
          2,
          21,
          null,
          4,
          3,
          null,
          null,
          5,
          null,
          null,
          2,
          null,
          7,
          null,
          null,
          1,
          26,
          null,
          1,
          1,
          2,
          null,
          2,
          null,
          null,
          null,
          1,
          null,
          4,
          null,
          null,
          13,
          1,
          null,
          1,
          3,
          null,
          6,
          null,
          null,
          5,
          null,
          2,
          2,
          null,
          null,
          1,
          19,
          null,
          null,
          null,
          2,
          null,
          9,
          null,
          null,
          6,
          1,
          null,
          null,
          null,
          1,
          1,
          null,
          3,
          null,
          null,
          null,
          1,
          2,
          null,
          null,
          2,
          null,
          null,
          null,
          1,
          null,
          2,
          3,
          1,
          null,
          null,
          1,
          2,
          null,
          null,
          1,
          null,
          2,
          null,
          1,
          2,
          1,
          null,
          1,
          null,
          null,
          null,
          1,
          1,
          1,
          1,
          null,
          null,
          null,
          null,
          null,
          2,
          1,
          1,
          null,
          null,
          null,
          null,
          2,
          3,
          null,
          null,
          1,
          null,
          1,
          1,
          null,
          5,
          null,
          2,
          null,
          1,
          null,
          null,
          2,
          2,
          1,
          10,
          1,
          1,
          null,
          null,
          null,
          null,
          1,
          null,
          null,
          null,
          2,
          null,
          null,
          51,
          1,
          null,
          1,
          null,
          36,
          1,
          null,
          null,
          null,
          9,
          null,
          2,
          19,
          1,
          null,
          null,
          2,
          null,
          null,
          null,
          1,
          1,
          null,
          null,
          null,
          37,
          6,
          1,
          null,
          5,
          1,
          null,
          1,
          2,
          null,
          1,
          1,
          null,
          1,
          null,
          null,
          null,
          null,
          null,
          null,
          2,
          null,
          null,
          1,
          5,
          1,
          null,
          null,
          null,
          null,
          null,
          null,
          null,
          null,
          null,
          1,
          null,
          null,
          null,
          1,
          null,
          null,
          null,
          8,
          null,
          null,
          null,
          1,
          2,
          6,
          null,
          1,
          2,
          null,
          null,
          1,
          null,
          null,
          null,
          null,
          1,
          null,
          null,
          1,
          null,
          1,
          null,
          null,
          null,
          2,
          null,
          null,
          null,
          null,
          null,
          1,
          5,
          null,
          null,
          29,
          null,
          4,
          null,
          null,
          null,
          3,
          1,
          null,
          null,
          null,
          null,
          null,
          null,
          1,
          null,
          null,
          null,
          null,
          null,
          2,
          null,
          null,
          null,
          null,
          null,
          1,
          1,
          2,
          null,
          null,
          null,
          2,
          null,
          null,
          2,
          null,
          4,
          1,
          null,
          2,
          1,
          null,
          9,
          1,
          null,
          1,
          2,
          1,
          null,
          null,
          1,
          1,
          null,
          1,
          1,
          10,
          1,
          1,
          1,
          null,
          5,
          5,
          3,
          2,
          1,
          1,
          null,
          2,
          null,
          1,
          4,
          2,
          2,
          3,
          null,
          null,
          null,
          1,
          2,
          6,
          null,
          1,
          null,
          1,
          null,
          null,
          null,
          null,
          3,
          null,
          1,
          null,
          null,
          3,
          null,
          null,
          null,
          1,
          3,
          2,
          null,
          null,
          2,
          null,
          1,
          null,
          1,
          2,
          2,
          7,
          null,
          3,
          1,
          null,
          2,
          2,
          null,
          null,
          null,
          null,
          2,
          null,
          1,
          null,
          null,
          null,
          1,
          1,
          3,
          null,
          1,
          2,
          null,
          null,
          null,
          null,
          null,
          null,
          1,
          2,
          null,
          1,
          null,
          2,
          null,
          null,
          null,
          1,
          null,
          null,
          null,
          2,
          null,
          1,
          null,
          8,
          5,
          3,
          null,
          6,
          2,
          1,
          1,
          null,
          2,
          null,
          null,
          1,
          null,
          5,
          null,
          null,
          null,
          null,
          1,
          1,
          null,
          1,
          27,
          7,
          3,
          null,
          16,
          2,
          null,
          null,
          5,
          null,
          null,
          null,
          null,
          2,
          4,
          null,
          1,
          null,
          null,
          null,
          1,
          null,
          1,
          1,
          1,
          1,
          1,
          1,
          1,
          null,
          1,
          1,
          2,
          null,
          null,
          null,
          null,
          null,
          2,
          1,
          null,
          null,
          null,
          2,
          null,
          1,
          2,
          null,
          1,
          1,
          null,
          null,
          47,
          8,
          1,
          null,
          1,
          2,
          null,
          14,
          null,
          1,
          null,
          null,
          1,
          16,
          1,
          null,
          null,
          null,
          null,
          null,
          null,
          null,
          2,
          1,
          5,
          null,
          6,
          null,
          4,
          2,
          null,
          null,
          null,
          null,
          1,
          null,
          1,
          null,
          null,
          null,
          1,
          null,
          2,
          null,
          null,
          null,
          null,
          1,
          null,
          null,
          null,
          null,
          null,
          null,
          null,
          null,
          null,
          null,
          null,
          1,
          null,
          null,
          null,
          null,
          null,
          null,
          null,
          null,
          null,
          null,
          1,
          1,
          13,
          2,
          4,
          1,
          null,
          null,
          null,
          null,
          null,
          null,
          2,
          null,
          1,
          2,
          null,
          3,
          1,
          1,
          2,
          null,
          null,
          3,
          null,
          null,
          null,
          null,
          1,
          1,
          null,
          null,
          14,
          null,
          null,
          null,
          null,
          null,
          4,
          null,
          13,
          2,
          1,
          null,
          null,
          null,
          null,
          null,
          null,
          null,
          null,
          null,
          null,
          null,
          2,
          null,
          null,
          null,
          null,
          null,
          6,
          1,
          null,
          null,
          null,
          null
         ],
         "z": [
          null,
          null,
          null,
          null,
          null,
          null,
          null,
          207980,
          159,
          141,
          11771,
          0,
          0,
          0,
          4098,
          1286,
          0,
          0,
          6578,
          1836,
          0,
          0,
          0,
          384,
          563691,
          0,
          0,
          0,
          0,
          5579,
          0,
          1717,
          2212,
          0,
          19469,
          11330,
          22075,
          0,
          37470,
          26521,
          30573,
          127684,
          0,
          178,
          50018,
          0,
          67376,
          77456,
          4615,
          0,
          7228,
          1923,
          1015,
          20315,
          31944,
          851,
          10858,
          82861,
          6178,
          0,
          66,
          10444,
          0,
          10663,
          20160,
          8331,
          1226,
          1044,
          0,
          5737,
          488,
          5262,
          null,
          12983,
          0,
          0,
          16786,
          604,
          0,
          1628,
          22370,
          2389,
          326,
          0,
          19111,
          0,
          79215,
          0,
          0,
          145,
          12476,
          80751,
          1161,
          0,
          35086,
          20407,
          5134,
          0,
          29730,
          91070,
          0,
          35895,
          4016,
          4211,
          4443,
          0,
          19,
          0,
          0,
          265,
          0,
          36868,
          547,
          0,
          29529,
          3783,
          4881,
          12004,
          0,
          32110,
          0,
          4344,
          43297,
          2045,
          0,
          516,
          10199,
          12481,
          12616,
          8026,
          0,
          11870,
          0,
          4511,
          18860,
          135,
          2908,
          8712,
          0,
          12993,
          10139,
          42616,
          31394,
          19163,
          27817,
          11171,
          999,
          7635,
          1131,
          4060,
          0,
          0,
          37415,
          101,
          470,
          2831,
          4438,
          14751,
          0,
          0,
          0,
          57700,
          1128,
          55336,
          6297,
          464,
          60248,
          160,
          0,
          0,
          342566,
          1116,
          26,
          0,
          7141,
          18531,
          4323,
          0,
          11784,
          0,
          4717,
          65690,
          4936,
          0,
          2336,
          15573,
          82086,
          0,
          0,
          5179,
          1957,
          0,
          0,
          0,
          10599,
          8504,
          0,
          139907,
          57,
          3041,
          2884,
          0,
          0,
          0,
          392,
          6929,
          461267,
          0,
          0,
          15378,
          9873,
          252,
          0,
          44902,
          0,
          1138,
          2924,
          2891,
          8154,
          77,
          0,
          3913,
          0,
          1463,
          55253,
          0,
          0,
          0,
          0,
          8937,
          72888,
          130,
          3906,
          1252,
          0,
          7516,
          0,
          19424,
          18543,
          0,
          22672,
          0,
          453162,
          887,
          0,
          0,
          32350,
          0,
          337,
          5392,
          27644,
          4914,
          8152,
          0,
          7848,
          71086,
          1030,
          0,
          73151,
          14574,
          0,
          864,
          168798,
          1417,
          96476,
          53,
          6552,
          28763,
          10728,
          92,
          56379,
          932,
          0,
          47757,
          3875,
          0,
          3933,
          462,
          19466,
          0,
          102748,
          1291,
          24626,
          18027,
          187,
          38698,
          191809,
          0,
          0,
          128,
          44408,
          517,
          3161,
          0,
          1174,
          22172,
          0,
          14849,
          0,
          22293,
          0,
          396,
          9369,
          1847,
          0,
          6600,
          0,
          274,
          0,
          646,
          0,
          94,
          0,
          1727,
          280,
          9197,
          495,
          0,
          0,
          0,
          0,
          0,
          0,
          0,
          76620,
          0,
          662,
          42372,
          16033,
          0,
          2086,
          0,
          0,
          0,
          0,
          2147,
          50526,
          53283,
          835,
          9202,
          145269,
          0,
          27955,
          400607,
          20689,
          8423,
          0,
          9507,
          0,
          46222,
          18048,
          0,
          151,
          0,
          0,
          804,
          0,
          3140,
          72415,
          51690,
          0,
          0,
          0,
          5863,
          0,
          169087,
          0,
          0,
          20697,
          0,
          33223,
          0,
          9801,
          91882,
          92680,
          0,
          0,
          48325,
          57818,
          139954,
          2455,
          74452,
          5053,
          11274,
          0,
          0,
          15907,
          0,
          127,
          0,
          617,
          0,
          363,
          213,
          303,
          0,
          7489,
          0,
          78,
          0,
          9352,
          0,
          3814,
          0,
          0,
          41409,
          8680,
          15909,
          0,
          0,
          0,
          0,
          0,
          743,
          0,
          4827,
          19005,
          1837,
          0,
          7993,
          4839,
          0,
          0,
          16489,
          123460,
          0,
          0,
          9594,
          0,
          653,
          14687,
          0,
          8242,
          218,
          0,
          0,
          23277,
          0,
          0,
          22139,
          0,
          9113,
          0,
          0,
          0,
          50578,
          0,
          0,
          0,
          0,
          0,
          164,
          0,
          0,
          0,
          0,
          0,
          8548,
          0,
          0,
          17292,
          0,
          0,
          0,
          13821,
          0,
          4426,
          0,
          0,
          2472,
          0,
          208,
          118,
          0,
          0,
          0,
          32899,
          0,
          0,
          0,
          202,
          0,
          21805,
          0,
          0,
          3159,
          0,
          0,
          0,
          0,
          0,
          0,
          0,
          734,
          0,
          0,
          0,
          0,
          90,
          0,
          0,
          48,
          0,
          0,
          0,
          0,
          0,
          593,
          2890,
          0,
          0,
          0,
          0,
          2398,
          0,
          0,
          0,
          0,
          1366,
          0,
          0,
          223,
          0,
          0,
          0,
          0,
          0,
          0,
          0,
          0,
          0,
          0,
          0,
          0,
          0,
          0,
          0,
          5584,
          0,
          0,
          0,
          0,
          0,
          0,
          4291,
          6547,
          0,
          0,
          0,
          0,
          0,
          0,
          0,
          1473,
          0,
          111,
          0,
          0,
          0,
          0,
          263,
          561,
          0,
          33879,
          0,
          0,
          0,
          0,
          0,
          0,
          0,
          0,
          0,
          0,
          440,
          0,
          0,
          130087,
          0,
          0,
          0,
          0,
          91043,
          0,
          0,
          0,
          0,
          19256,
          0,
          411,
          82641,
          0,
          0,
          0,
          0,
          0,
          0,
          0,
          0,
          0,
          0,
          0,
          0,
          65776,
          5743,
          0,
          0,
          22866,
          0,
          0,
          0,
          1308,
          0,
          0,
          0,
          0,
          0,
          0,
          0,
          0,
          0,
          0,
          0,
          42,
          0,
          0,
          0,
          3042,
          0,
          0,
          0,
          0,
          0,
          0,
          0,
          0,
          0,
          0,
          0,
          0,
          0,
          0,
          0,
          0,
          0,
          0,
          5927,
          0,
          0,
          0,
          0,
          193,
          10833,
          0,
          0,
          1445,
          0,
          0,
          0,
          0,
          0,
          0,
          0,
          0,
          0,
          0,
          0,
          0,
          0,
          0,
          0,
          0,
          6181,
          0,
          0,
          0,
          0,
          0,
          0,
          3797,
          0,
          0,
          23463,
          0,
          568,
          0,
          0,
          0,
          127,
          0,
          0,
          0,
          0,
          0,
          0,
          0,
          0,
          0,
          0,
          0,
          0,
          0,
          2481,
          0,
          0,
          0,
          0,
          0,
          0,
          0,
          2244,
          0,
          0,
          0,
          188,
          0,
          0,
          3780,
          0,
          11746,
          0,
          0,
          3345,
          0,
          0,
          3986,
          0,
          0,
          0,
          3548,
          0,
          0,
          0,
          0,
          0,
          0,
          0,
          0,
          22017,
          0,
          0,
          0,
          0,
          9905,
          1196,
          235,
          647,
          0,
          0,
          0,
          684,
          0,
          0,
          9573,
          532,
          2951,
          2902,
          0,
          0,
          0,
          0,
          86,
          4517,
          0,
          0,
          0,
          0,
          0,
          0,
          0,
          0,
          2548,
          0,
          0,
          0,
          0,
          3610,
          0,
          0,
          0,
          0,
          316,
          309,
          0,
          0,
          84,
          0,
          0,
          0,
          0,
          384,
          501,
          13512,
          0,
          353,
          0,
          0,
          5611,
          1306,
          0,
          0,
          0,
          0,
          3472,
          0,
          0,
          0,
          0,
          0,
          0,
          0,
          1923,
          0,
          0,
          1036,
          0,
          0,
          0,
          0,
          0,
          0,
          0,
          365,
          0,
          0,
          0,
          411,
          0,
          0,
          0,
          0,
          0,
          0,
          0,
          3609,
          0,
          0,
          0,
          14223,
          13440,
          734,
          0,
          7402,
          155,
          0,
          0,
          0,
          327,
          0,
          0,
          0,
          0,
          13239,
          0,
          0,
          0,
          0,
          0,
          0,
          0,
          0,
          63692,
          27086,
          3871,
          0,
          22828,
          280,
          0,
          0,
          7553,
          0,
          0,
          0,
          0,
          899,
          7063,
          0,
          0,
          0,
          0,
          0,
          0,
          0,
          0,
          0,
          0,
          0,
          0,
          0,
          0,
          0,
          0,
          0,
          305,
          0,
          0,
          0,
          0,
          0,
          664,
          0,
          0,
          0,
          0,
          991,
          0,
          0,
          804,
          0,
          0,
          0,
          0,
          0,
          318734,
          33272,
          0,
          0,
          0,
          158,
          0,
          38542,
          0,
          0,
          0,
          0,
          0,
          67230,
          0,
          0,
          0,
          0,
          0,
          0,
          0,
          0,
          2384,
          0,
          17809,
          0,
          3538,
          0,
          6772,
          89,
          0,
          0,
          0,
          0,
          0,
          0,
          0,
          0,
          0,
          0,
          0,
          0,
          0,
          0,
          0,
          0,
          0,
          0,
          0,
          0,
          0,
          0,
          0,
          0,
          null,
          0,
          0,
          0,
          0,
          0,
          0,
          0,
          0,
          0,
          0,
          0,
          0,
          0,
          0,
          0,
          0,
          0,
          70083,
          101,
          7173,
          0,
          0,
          0,
          0,
          0,
          0,
          0,
          1300,
          0,
          0,
          85,
          0,
          1493,
          0,
          0,
          0,
          0,
          0,
          417,
          0,
          0,
          0,
          0,
          0,
          0,
          0,
          0,
          23701,
          0,
          0,
          0,
          0,
          0,
          9463,
          0,
          28569,
          212,
          0,
          0,
          0,
          0,
          0,
          0,
          0,
          0,
          0,
          0,
          0,
          0,
          3164,
          0,
          0,
          0,
          0,
          0,
          5902,
          0,
          0,
          0,
          0,
          0
         ]
        }
       ],
       "layout": {
        "coloraxis": {
         "colorbar": {
          "title": {
           "text": "cluster"
          }
         },
         "colorscale": [
          [
           0,
           "#0d0887"
          ],
          [
           0.1111111111111111,
           "#46039f"
          ],
          [
           0.2222222222222222,
           "#7201a8"
          ],
          [
           0.3333333333333333,
           "#9c179e"
          ],
          [
           0.4444444444444444,
           "#bd3786"
          ],
          [
           0.5555555555555556,
           "#d8576b"
          ],
          [
           0.6666666666666666,
           "#ed7953"
          ],
          [
           0.7777777777777778,
           "#fb9f3a"
          ],
          [
           0.8888888888888888,
           "#fdca26"
          ],
          [
           1,
           "#f0f921"
          ]
         ]
        },
        "legend": {
         "tracegroupgap": 0
        },
        "scene": {
         "camera": {
          "center": {
           "x": 0,
           "y": 0,
           "z": 0
          },
          "eye": {
           "x": 1.5,
           "y": 1.5,
           "z": 1
          }
         },
         "domain": {
          "x": [
           0,
           1
          ],
          "y": [
           0,
           1
          ]
         },
         "xaxis": {
          "title": {
           "text": "activity_count"
          }
         },
         "yaxis": {
          "title": {
           "text": "login_count"
          }
         },
         "zaxis": {
          "title": {
           "text": "time"
          }
         }
        },
        "template": {
         "data": {
          "bar": [
           {
            "error_x": {
             "color": "#2a3f5f"
            },
            "error_y": {
             "color": "#2a3f5f"
            },
            "marker": {
             "line": {
              "color": "white",
              "width": 0.5
             },
             "pattern": {
              "fillmode": "overlay",
              "size": 10,
              "solidity": 0.2
             }
            },
            "type": "bar"
           }
          ],
          "barpolar": [
           {
            "marker": {
             "line": {
              "color": "white",
              "width": 0.5
             },
             "pattern": {
              "fillmode": "overlay",
              "size": 10,
              "solidity": 0.2
             }
            },
            "type": "barpolar"
           }
          ],
          "carpet": [
           {
            "aaxis": {
             "endlinecolor": "#2a3f5f",
             "gridcolor": "#C8D4E3",
             "linecolor": "#C8D4E3",
             "minorgridcolor": "#C8D4E3",
             "startlinecolor": "#2a3f5f"
            },
            "baxis": {
             "endlinecolor": "#2a3f5f",
             "gridcolor": "#C8D4E3",
             "linecolor": "#C8D4E3",
             "minorgridcolor": "#C8D4E3",
             "startlinecolor": "#2a3f5f"
            },
            "type": "carpet"
           }
          ],
          "choropleth": [
           {
            "colorbar": {
             "outlinewidth": 0,
             "ticks": ""
            },
            "type": "choropleth"
           }
          ],
          "contour": [
           {
            "colorbar": {
             "outlinewidth": 0,
             "ticks": ""
            },
            "colorscale": [
             [
              0,
              "#0d0887"
             ],
             [
              0.1111111111111111,
              "#46039f"
             ],
             [
              0.2222222222222222,
              "#7201a8"
             ],
             [
              0.3333333333333333,
              "#9c179e"
             ],
             [
              0.4444444444444444,
              "#bd3786"
             ],
             [
              0.5555555555555556,
              "#d8576b"
             ],
             [
              0.6666666666666666,
              "#ed7953"
             ],
             [
              0.7777777777777778,
              "#fb9f3a"
             ],
             [
              0.8888888888888888,
              "#fdca26"
             ],
             [
              1,
              "#f0f921"
             ]
            ],
            "type": "contour"
           }
          ],
          "contourcarpet": [
           {
            "colorbar": {
             "outlinewidth": 0,
             "ticks": ""
            },
            "type": "contourcarpet"
           }
          ],
          "heatmap": [
           {
            "colorbar": {
             "outlinewidth": 0,
             "ticks": ""
            },
            "colorscale": [
             [
              0,
              "#0d0887"
             ],
             [
              0.1111111111111111,
              "#46039f"
             ],
             [
              0.2222222222222222,
              "#7201a8"
             ],
             [
              0.3333333333333333,
              "#9c179e"
             ],
             [
              0.4444444444444444,
              "#bd3786"
             ],
             [
              0.5555555555555556,
              "#d8576b"
             ],
             [
              0.6666666666666666,
              "#ed7953"
             ],
             [
              0.7777777777777778,
              "#fb9f3a"
             ],
             [
              0.8888888888888888,
              "#fdca26"
             ],
             [
              1,
              "#f0f921"
             ]
            ],
            "type": "heatmap"
           }
          ],
          "heatmapgl": [
           {
            "colorbar": {
             "outlinewidth": 0,
             "ticks": ""
            },
            "colorscale": [
             [
              0,
              "#0d0887"
             ],
             [
              0.1111111111111111,
              "#46039f"
             ],
             [
              0.2222222222222222,
              "#7201a8"
             ],
             [
              0.3333333333333333,
              "#9c179e"
             ],
             [
              0.4444444444444444,
              "#bd3786"
             ],
             [
              0.5555555555555556,
              "#d8576b"
             ],
             [
              0.6666666666666666,
              "#ed7953"
             ],
             [
              0.7777777777777778,
              "#fb9f3a"
             ],
             [
              0.8888888888888888,
              "#fdca26"
             ],
             [
              1,
              "#f0f921"
             ]
            ],
            "type": "heatmapgl"
           }
          ],
          "histogram": [
           {
            "marker": {
             "pattern": {
              "fillmode": "overlay",
              "size": 10,
              "solidity": 0.2
             }
            },
            "type": "histogram"
           }
          ],
          "histogram2d": [
           {
            "colorbar": {
             "outlinewidth": 0,
             "ticks": ""
            },
            "colorscale": [
             [
              0,
              "#0d0887"
             ],
             [
              0.1111111111111111,
              "#46039f"
             ],
             [
              0.2222222222222222,
              "#7201a8"
             ],
             [
              0.3333333333333333,
              "#9c179e"
             ],
             [
              0.4444444444444444,
              "#bd3786"
             ],
             [
              0.5555555555555556,
              "#d8576b"
             ],
             [
              0.6666666666666666,
              "#ed7953"
             ],
             [
              0.7777777777777778,
              "#fb9f3a"
             ],
             [
              0.8888888888888888,
              "#fdca26"
             ],
             [
              1,
              "#f0f921"
             ]
            ],
            "type": "histogram2d"
           }
          ],
          "histogram2dcontour": [
           {
            "colorbar": {
             "outlinewidth": 0,
             "ticks": ""
            },
            "colorscale": [
             [
              0,
              "#0d0887"
             ],
             [
              0.1111111111111111,
              "#46039f"
             ],
             [
              0.2222222222222222,
              "#7201a8"
             ],
             [
              0.3333333333333333,
              "#9c179e"
             ],
             [
              0.4444444444444444,
              "#bd3786"
             ],
             [
              0.5555555555555556,
              "#d8576b"
             ],
             [
              0.6666666666666666,
              "#ed7953"
             ],
             [
              0.7777777777777778,
              "#fb9f3a"
             ],
             [
              0.8888888888888888,
              "#fdca26"
             ],
             [
              1,
              "#f0f921"
             ]
            ],
            "type": "histogram2dcontour"
           }
          ],
          "mesh3d": [
           {
            "colorbar": {
             "outlinewidth": 0,
             "ticks": ""
            },
            "type": "mesh3d"
           }
          ],
          "parcoords": [
           {
            "line": {
             "colorbar": {
              "outlinewidth": 0,
              "ticks": ""
             }
            },
            "type": "parcoords"
           }
          ],
          "pie": [
           {
            "automargin": true,
            "type": "pie"
           }
          ],
          "scatter": [
           {
            "fillpattern": {
             "fillmode": "overlay",
             "size": 10,
             "solidity": 0.2
            },
            "type": "scatter"
           }
          ],
          "scatter3d": [
           {
            "line": {
             "colorbar": {
              "outlinewidth": 0,
              "ticks": ""
             }
            },
            "marker": {
             "colorbar": {
              "outlinewidth": 0,
              "ticks": ""
             }
            },
            "type": "scatter3d"
           }
          ],
          "scattercarpet": [
           {
            "marker": {
             "colorbar": {
              "outlinewidth": 0,
              "ticks": ""
             }
            },
            "type": "scattercarpet"
           }
          ],
          "scattergeo": [
           {
            "marker": {
             "colorbar": {
              "outlinewidth": 0,
              "ticks": ""
             }
            },
            "type": "scattergeo"
           }
          ],
          "scattergl": [
           {
            "marker": {
             "colorbar": {
              "outlinewidth": 0,
              "ticks": ""
             }
            },
            "type": "scattergl"
           }
          ],
          "scattermapbox": [
           {
            "marker": {
             "colorbar": {
              "outlinewidth": 0,
              "ticks": ""
             }
            },
            "type": "scattermapbox"
           }
          ],
          "scatterpolar": [
           {
            "marker": {
             "colorbar": {
              "outlinewidth": 0,
              "ticks": ""
             }
            },
            "type": "scatterpolar"
           }
          ],
          "scatterpolargl": [
           {
            "marker": {
             "colorbar": {
              "outlinewidth": 0,
              "ticks": ""
             }
            },
            "type": "scatterpolargl"
           }
          ],
          "scatterternary": [
           {
            "marker": {
             "colorbar": {
              "outlinewidth": 0,
              "ticks": ""
             }
            },
            "type": "scatterternary"
           }
          ],
          "surface": [
           {
            "colorbar": {
             "outlinewidth": 0,
             "ticks": ""
            },
            "colorscale": [
             [
              0,
              "#0d0887"
             ],
             [
              0.1111111111111111,
              "#46039f"
             ],
             [
              0.2222222222222222,
              "#7201a8"
             ],
             [
              0.3333333333333333,
              "#9c179e"
             ],
             [
              0.4444444444444444,
              "#bd3786"
             ],
             [
              0.5555555555555556,
              "#d8576b"
             ],
             [
              0.6666666666666666,
              "#ed7953"
             ],
             [
              0.7777777777777778,
              "#fb9f3a"
             ],
             [
              0.8888888888888888,
              "#fdca26"
             ],
             [
              1,
              "#f0f921"
             ]
            ],
            "type": "surface"
           }
          ],
          "table": [
           {
            "cells": {
             "fill": {
              "color": "#EBF0F8"
             },
             "line": {
              "color": "white"
             }
            },
            "header": {
             "fill": {
              "color": "#C8D4E3"
             },
             "line": {
              "color": "white"
             }
            },
            "type": "table"
           }
          ]
         },
         "layout": {
          "annotationdefaults": {
           "arrowcolor": "#2a3f5f",
           "arrowhead": 0,
           "arrowwidth": 1
          },
          "autotypenumbers": "strict",
          "coloraxis": {
           "colorbar": {
            "outlinewidth": 0,
            "ticks": ""
           }
          },
          "colorscale": {
           "diverging": [
            [
             0,
             "#8e0152"
            ],
            [
             0.1,
             "#c51b7d"
            ],
            [
             0.2,
             "#de77ae"
            ],
            [
             0.3,
             "#f1b6da"
            ],
            [
             0.4,
             "#fde0ef"
            ],
            [
             0.5,
             "#f7f7f7"
            ],
            [
             0.6,
             "#e6f5d0"
            ],
            [
             0.7,
             "#b8e186"
            ],
            [
             0.8,
             "#7fbc41"
            ],
            [
             0.9,
             "#4d9221"
            ],
            [
             1,
             "#276419"
            ]
           ],
           "sequential": [
            [
             0,
             "#0d0887"
            ],
            [
             0.1111111111111111,
             "#46039f"
            ],
            [
             0.2222222222222222,
             "#7201a8"
            ],
            [
             0.3333333333333333,
             "#9c179e"
            ],
            [
             0.4444444444444444,
             "#bd3786"
            ],
            [
             0.5555555555555556,
             "#d8576b"
            ],
            [
             0.6666666666666666,
             "#ed7953"
            ],
            [
             0.7777777777777778,
             "#fb9f3a"
            ],
            [
             0.8888888888888888,
             "#fdca26"
            ],
            [
             1,
             "#f0f921"
            ]
           ],
           "sequentialminus": [
            [
             0,
             "#0d0887"
            ],
            [
             0.1111111111111111,
             "#46039f"
            ],
            [
             0.2222222222222222,
             "#7201a8"
            ],
            [
             0.3333333333333333,
             "#9c179e"
            ],
            [
             0.4444444444444444,
             "#bd3786"
            ],
            [
             0.5555555555555556,
             "#d8576b"
            ],
            [
             0.6666666666666666,
             "#ed7953"
            ],
            [
             0.7777777777777778,
             "#fb9f3a"
            ],
            [
             0.8888888888888888,
             "#fdca26"
            ],
            [
             1,
             "#f0f921"
            ]
           ]
          },
          "colorway": [
           "#636efa",
           "#EF553B",
           "#00cc96",
           "#ab63fa",
           "#FFA15A",
           "#19d3f3",
           "#FF6692",
           "#B6E880",
           "#FF97FF",
           "#FECB52"
          ],
          "font": {
           "color": "#2a3f5f"
          },
          "geo": {
           "bgcolor": "white",
           "lakecolor": "white",
           "landcolor": "white",
           "showlakes": true,
           "showland": true,
           "subunitcolor": "#C8D4E3"
          },
          "hoverlabel": {
           "align": "left"
          },
          "hovermode": "closest",
          "mapbox": {
           "style": "light"
          },
          "paper_bgcolor": "white",
          "plot_bgcolor": "white",
          "polar": {
           "angularaxis": {
            "gridcolor": "#EBF0F8",
            "linecolor": "#EBF0F8",
            "ticks": ""
           },
           "bgcolor": "white",
           "radialaxis": {
            "gridcolor": "#EBF0F8",
            "linecolor": "#EBF0F8",
            "ticks": ""
           }
          },
          "scene": {
           "xaxis": {
            "backgroundcolor": "white",
            "gridcolor": "#DFE8F3",
            "gridwidth": 2,
            "linecolor": "#EBF0F8",
            "showbackground": true,
            "ticks": "",
            "zerolinecolor": "#EBF0F8"
           },
           "yaxis": {
            "backgroundcolor": "white",
            "gridcolor": "#DFE8F3",
            "gridwidth": 2,
            "linecolor": "#EBF0F8",
            "showbackground": true,
            "ticks": "",
            "zerolinecolor": "#EBF0F8"
           },
           "zaxis": {
            "backgroundcolor": "white",
            "gridcolor": "#DFE8F3",
            "gridwidth": 2,
            "linecolor": "#EBF0F8",
            "showbackground": true,
            "ticks": "",
            "zerolinecolor": "#EBF0F8"
           }
          },
          "shapedefaults": {
           "line": {
            "color": "#2a3f5f"
           }
          },
          "ternary": {
           "aaxis": {
            "gridcolor": "#DFE8F3",
            "linecolor": "#A2B1C6",
            "ticks": ""
           },
           "baxis": {
            "gridcolor": "#DFE8F3",
            "linecolor": "#A2B1C6",
            "ticks": ""
           },
           "bgcolor": "white",
           "caxis": {
            "gridcolor": "#DFE8F3",
            "linecolor": "#A2B1C6",
            "ticks": ""
           }
          },
          "title": {
           "x": 0.05
          },
          "xaxis": {
           "automargin": true,
           "gridcolor": "#EBF0F8",
           "linecolor": "#EBF0F8",
           "ticks": "",
           "title": {
            "standoff": 15
           },
           "zerolinecolor": "#EBF0F8",
           "zerolinewidth": 2
          },
          "yaxis": {
           "automargin": true,
           "gridcolor": "#EBF0F8",
           "linecolor": "#EBF0F8",
           "ticks": "",
           "title": {
            "standoff": 15
           },
           "zerolinecolor": "#EBF0F8",
           "zerolinewidth": 2
          }
         }
        },
        "title": {
         "text": "3D Clustering of Learners"
        }
       }
      }
     },
     "metadata": {},
     "output_type": "display_data"
    },
    {
     "name": "stdout",
     "output_type": "stream",
     "text": [
      "Cluster Centroids (original scale):\n",
      "[[2.39443902e+02 2.93560976e+00 5.05914439e+03]\n",
      " [5.52613043e+03 5.50434783e+01 1.94670478e+05]\n",
      " [4.50230000e+04 1.69000000e+02 0.00000000e+00]]\n"
     ]
    }
   ],
   "source": [
    "cluster_data = df[['activity_count', 'login_count', 'time']].fillna(0)\n",
    "scaler = StandardScaler()\n",
    "scaled_data = scaler.fit_transform(cluster_data)\n",
    "\n",
    "kmeans = KMeans(n_clusters=3, random_state=42)\n",
    "kmeans.fit(scaled_data)\n",
    "df['cluster'] = kmeans.labels_\n",
    "\n",
    "fig_cluster = px.scatter_3d(\n",
    "    df,\n",
    "    x='activity_count',\n",
    "    y='login_count',\n",
    "    z='time',\n",
    "    color='cluster',\n",
    "    title='3D Clustering of Learners',\n",
    "    template='plotly_white'\n",
    ")\n",
    "\n",
    "fig_cluster.update_layout(scene_camera=dict(eye=dict(x=1.5, y=1.5, z=1), center=dict(x=0, y=0, z=0)))\n",
    "fig_cluster.show()\n",
    "\n",
    "centroids = scaler.inverse_transform(kmeans.cluster_centers_)\n",
    "print(\"Cluster Centroids (original scale):\")\n",
    "print(centroids)"
   ]
  },
  {
   "cell_type": "markdown",
   "id": "6dfb9981",
   "metadata": {},
   "source": [
    "### **Anomaly Detection with Local Outlier Factor (LOF)**\n",
    "\n",
    "Local Outlier Factor (LOF) is applied to detect anomalies in the standardized engagement features. An interactive 3D scatter plot is created to visualize the anomalies with fixed camera settings, ensuring a stable view. This helps in identifying learners whose engagement patterns differ significantly from the norm."
   ]
  },
  {
   "cell_type": "code",
   "execution_count": 20,
   "id": "d660cd68",
   "metadata": {},
   "outputs": [
    {
     "name": "stdout",
     "output_type": "stream",
     "text": [
      "Number of anomalies detected: 113\n"
     ]
    },
    {
     "data": {
      "application/vnd.plotly.v1+json": {
       "config": {
        "plotlyServerURL": "https://plot.ly"
       },
       "data": [
        {
         "hovertemplate": "activity_count=%{x}<br>login_count=%{y}<br>time=%{z}<br>lof_anomaly=%{marker.color}<extra></extra>",
         "legendgroup": "",
         "marker": {
          "color": [
           1,
           1,
           1,
           1,
           1,
           1,
           1,
           1,
           1,
           1,
           1,
           1,
           1,
           1,
           1,
           1,
           1,
           1,
           1,
           1,
           1,
           1,
           1,
           1,
           1,
           1,
           1,
           1,
           1,
           1,
           1,
           1,
           1,
           1,
           1,
           1,
           1,
           1,
           1,
           1,
           1,
           1,
           1,
           1,
           1,
           1,
           1,
           1,
           1,
           1,
           1,
           1,
           1,
           1,
           1,
           1,
           1,
           1,
           1,
           1,
           1,
           1,
           1,
           1,
           1,
           1,
           1,
           1,
           1,
           1,
           1,
           1,
           1,
           1,
           1,
           1,
           1,
           1,
           1,
           1,
           1,
           1,
           1,
           1,
           1,
           1,
           1,
           1,
           1,
           1,
           1,
           1,
           1,
           1,
           1,
           1,
           1,
           1,
           1,
           1,
           1,
           1,
           1,
           1,
           1,
           1,
           1,
           1,
           1,
           1,
           1,
           1,
           1
          ],
          "coloraxis": "coloraxis",
          "symbol": "circle"
         },
         "mode": "markers",
         "name": "",
         "scene": "scene",
         "showlegend": false,
         "type": "scatter3d",
         "x": [
          1,
          2170,
          7257,
          3,
          45023,
          12922,
          3,
          1079,
          1894,
          4241,
          123,
          211,
          201,
          142,
          462,
          4644,
          122,
          83,
          83,
          82,
          394,
          6015,
          2450,
          1810,
          83,
          859,
          339,
          647,
          87,
          529,
          124,
          86,
          4964,
          352,
          3075,
          182,
          82,
          13917,
          583,
          310,
          3902,
          90,
          912,
          8558,
          409,
          209,
          142,
          131,
          61,
          6019,
          7320,
          193,
          4608,
          154,
          2260,
          7,
          14,
          14,
          50,
          49,
          779,
          14,
          724,
          14,
          44,
          16,
          61,
          14,
          10533,
          14,
          6461,
          1613,
          13,
          760,
          45,
          14,
          14,
          43,
          13,
          17,
          41,
          16,
          14,
          20,
          16,
          4220,
          61,
          780,
          896,
          1006,
          2608,
          3692,
          956,
          13,
          930,
          1822,
          34,
          139,
          14,
          14,
          3725,
          22,
          13,
          29,
          132,
          14,
          10696,
          17,
          13,
          14,
          27,
          14,
          65
         ],
         "y": [
          null,
          null,
          null,
          1,
          169,
          107,
          null,
          54,
          46,
          63,
          2,
          2,
          1,
          2,
          2,
          57,
          1,
          null,
          null,
          null,
          1,
          91,
          55,
          13,
          null,
          5,
          3,
          4,
          null,
          3,
          1,
          null,
          23,
          3,
          13,
          2,
          null,
          113,
          2,
          2,
          64,
          4,
          46,
          73,
          2,
          3,
          1,
          2,
          1,
          68,
          26,
          2,
          100,
          1,
          42,
          1,
          null,
          null,
          2,
          2,
          2,
          null,
          2,
          null,
          2,
          null,
          1,
          null,
          51,
          null,
          37,
          2,
          1,
          1,
          2,
          null,
          null,
          4,
          1,
          null,
          2,
          null,
          null,
          null,
          null,
          10,
          1,
          1,
          2,
          3,
          1,
          2,
          2,
          1,
          2,
          2,
          2,
          1,
          null,
          null,
          4,
          null,
          1,
          2,
          1,
          null,
          47,
          null,
          1,
          null,
          null,
          null,
          1
         ],
         "z": [
          null,
          null,
          null,
          null,
          null,
          null,
          null,
          207980,
          563691,
          127684,
          1923,
          1015,
          0,
          1628,
          326,
          79215,
          0,
          0,
          0,
          0,
          0,
          57700,
          60248,
          342566,
          0,
          11784,
          4717,
          15573,
          0,
          1957,
          0,
          0,
          139907,
          57,
          461267,
          77,
          0,
          453162,
          4914,
          14574,
          168798,
          92,
          47757,
          191809,
          0,
          517,
          0,
          1847,
          0,
          145269,
          400607,
          151,
          169087,
          0,
          139954,
          0,
          0,
          0,
          9352,
          9594,
          22139,
          0,
          202,
          0,
          2398,
          0,
          0,
          0,
          130087,
          0,
          65776,
          1308,
          0,
          0,
          1445,
          0,
          0,
          568,
          0,
          0,
          2481,
          0,
          0,
          0,
          0,
          22017,
          0,
          0,
          2951,
          2548,
          0,
          309,
          84,
          0,
          384,
          5611,
          1306,
          0,
          0,
          0,
          7063,
          0,
          0,
          991,
          0,
          0,
          318734,
          0,
          0,
          0,
          null,
          0,
          0
         ]
        }
       ],
       "layout": {
        "coloraxis": {
         "colorbar": {
          "title": {
           "text": "lof_anomaly"
          }
         },
         "colorscale": [
          [
           0,
           "#0d0887"
          ],
          [
           0.1111111111111111,
           "#46039f"
          ],
          [
           0.2222222222222222,
           "#7201a8"
          ],
          [
           0.3333333333333333,
           "#9c179e"
          ],
          [
           0.4444444444444444,
           "#bd3786"
          ],
          [
           0.5555555555555556,
           "#d8576b"
          ],
          [
           0.6666666666666666,
           "#ed7953"
          ],
          [
           0.7777777777777778,
           "#fb9f3a"
          ],
          [
           0.8888888888888888,
           "#fdca26"
          ],
          [
           1,
           "#f0f921"
          ]
         ]
        },
        "legend": {
         "tracegroupgap": 0
        },
        "scene": {
         "camera": {
          "center": {
           "x": 0,
           "y": 0,
           "z": 0
          },
          "eye": {
           "x": 1.5,
           "y": 1.5,
           "z": 1
          }
         },
         "domain": {
          "x": [
           0,
           1
          ],
          "y": [
           0,
           1
          ]
         },
         "xaxis": {
          "title": {
           "text": "activity_count"
          }
         },
         "yaxis": {
          "title": {
           "text": "login_count"
          }
         },
         "zaxis": {
          "title": {
           "text": "time"
          }
         }
        },
        "template": {
         "data": {
          "bar": [
           {
            "error_x": {
             "color": "#2a3f5f"
            },
            "error_y": {
             "color": "#2a3f5f"
            },
            "marker": {
             "line": {
              "color": "white",
              "width": 0.5
             },
             "pattern": {
              "fillmode": "overlay",
              "size": 10,
              "solidity": 0.2
             }
            },
            "type": "bar"
           }
          ],
          "barpolar": [
           {
            "marker": {
             "line": {
              "color": "white",
              "width": 0.5
             },
             "pattern": {
              "fillmode": "overlay",
              "size": 10,
              "solidity": 0.2
             }
            },
            "type": "barpolar"
           }
          ],
          "carpet": [
           {
            "aaxis": {
             "endlinecolor": "#2a3f5f",
             "gridcolor": "#C8D4E3",
             "linecolor": "#C8D4E3",
             "minorgridcolor": "#C8D4E3",
             "startlinecolor": "#2a3f5f"
            },
            "baxis": {
             "endlinecolor": "#2a3f5f",
             "gridcolor": "#C8D4E3",
             "linecolor": "#C8D4E3",
             "minorgridcolor": "#C8D4E3",
             "startlinecolor": "#2a3f5f"
            },
            "type": "carpet"
           }
          ],
          "choropleth": [
           {
            "colorbar": {
             "outlinewidth": 0,
             "ticks": ""
            },
            "type": "choropleth"
           }
          ],
          "contour": [
           {
            "colorbar": {
             "outlinewidth": 0,
             "ticks": ""
            },
            "colorscale": [
             [
              0,
              "#0d0887"
             ],
             [
              0.1111111111111111,
              "#46039f"
             ],
             [
              0.2222222222222222,
              "#7201a8"
             ],
             [
              0.3333333333333333,
              "#9c179e"
             ],
             [
              0.4444444444444444,
              "#bd3786"
             ],
             [
              0.5555555555555556,
              "#d8576b"
             ],
             [
              0.6666666666666666,
              "#ed7953"
             ],
             [
              0.7777777777777778,
              "#fb9f3a"
             ],
             [
              0.8888888888888888,
              "#fdca26"
             ],
             [
              1,
              "#f0f921"
             ]
            ],
            "type": "contour"
           }
          ],
          "contourcarpet": [
           {
            "colorbar": {
             "outlinewidth": 0,
             "ticks": ""
            },
            "type": "contourcarpet"
           }
          ],
          "heatmap": [
           {
            "colorbar": {
             "outlinewidth": 0,
             "ticks": ""
            },
            "colorscale": [
             [
              0,
              "#0d0887"
             ],
             [
              0.1111111111111111,
              "#46039f"
             ],
             [
              0.2222222222222222,
              "#7201a8"
             ],
             [
              0.3333333333333333,
              "#9c179e"
             ],
             [
              0.4444444444444444,
              "#bd3786"
             ],
             [
              0.5555555555555556,
              "#d8576b"
             ],
             [
              0.6666666666666666,
              "#ed7953"
             ],
             [
              0.7777777777777778,
              "#fb9f3a"
             ],
             [
              0.8888888888888888,
              "#fdca26"
             ],
             [
              1,
              "#f0f921"
             ]
            ],
            "type": "heatmap"
           }
          ],
          "heatmapgl": [
           {
            "colorbar": {
             "outlinewidth": 0,
             "ticks": ""
            },
            "colorscale": [
             [
              0,
              "#0d0887"
             ],
             [
              0.1111111111111111,
              "#46039f"
             ],
             [
              0.2222222222222222,
              "#7201a8"
             ],
             [
              0.3333333333333333,
              "#9c179e"
             ],
             [
              0.4444444444444444,
              "#bd3786"
             ],
             [
              0.5555555555555556,
              "#d8576b"
             ],
             [
              0.6666666666666666,
              "#ed7953"
             ],
             [
              0.7777777777777778,
              "#fb9f3a"
             ],
             [
              0.8888888888888888,
              "#fdca26"
             ],
             [
              1,
              "#f0f921"
             ]
            ],
            "type": "heatmapgl"
           }
          ],
          "histogram": [
           {
            "marker": {
             "pattern": {
              "fillmode": "overlay",
              "size": 10,
              "solidity": 0.2
             }
            },
            "type": "histogram"
           }
          ],
          "histogram2d": [
           {
            "colorbar": {
             "outlinewidth": 0,
             "ticks": ""
            },
            "colorscale": [
             [
              0,
              "#0d0887"
             ],
             [
              0.1111111111111111,
              "#46039f"
             ],
             [
              0.2222222222222222,
              "#7201a8"
             ],
             [
              0.3333333333333333,
              "#9c179e"
             ],
             [
              0.4444444444444444,
              "#bd3786"
             ],
             [
              0.5555555555555556,
              "#d8576b"
             ],
             [
              0.6666666666666666,
              "#ed7953"
             ],
             [
              0.7777777777777778,
              "#fb9f3a"
             ],
             [
              0.8888888888888888,
              "#fdca26"
             ],
             [
              1,
              "#f0f921"
             ]
            ],
            "type": "histogram2d"
           }
          ],
          "histogram2dcontour": [
           {
            "colorbar": {
             "outlinewidth": 0,
             "ticks": ""
            },
            "colorscale": [
             [
              0,
              "#0d0887"
             ],
             [
              0.1111111111111111,
              "#46039f"
             ],
             [
              0.2222222222222222,
              "#7201a8"
             ],
             [
              0.3333333333333333,
              "#9c179e"
             ],
             [
              0.4444444444444444,
              "#bd3786"
             ],
             [
              0.5555555555555556,
              "#d8576b"
             ],
             [
              0.6666666666666666,
              "#ed7953"
             ],
             [
              0.7777777777777778,
              "#fb9f3a"
             ],
             [
              0.8888888888888888,
              "#fdca26"
             ],
             [
              1,
              "#f0f921"
             ]
            ],
            "type": "histogram2dcontour"
           }
          ],
          "mesh3d": [
           {
            "colorbar": {
             "outlinewidth": 0,
             "ticks": ""
            },
            "type": "mesh3d"
           }
          ],
          "parcoords": [
           {
            "line": {
             "colorbar": {
              "outlinewidth": 0,
              "ticks": ""
             }
            },
            "type": "parcoords"
           }
          ],
          "pie": [
           {
            "automargin": true,
            "type": "pie"
           }
          ],
          "scatter": [
           {
            "fillpattern": {
             "fillmode": "overlay",
             "size": 10,
             "solidity": 0.2
            },
            "type": "scatter"
           }
          ],
          "scatter3d": [
           {
            "line": {
             "colorbar": {
              "outlinewidth": 0,
              "ticks": ""
             }
            },
            "marker": {
             "colorbar": {
              "outlinewidth": 0,
              "ticks": ""
             }
            },
            "type": "scatter3d"
           }
          ],
          "scattercarpet": [
           {
            "marker": {
             "colorbar": {
              "outlinewidth": 0,
              "ticks": ""
             }
            },
            "type": "scattercarpet"
           }
          ],
          "scattergeo": [
           {
            "marker": {
             "colorbar": {
              "outlinewidth": 0,
              "ticks": ""
             }
            },
            "type": "scattergeo"
           }
          ],
          "scattergl": [
           {
            "marker": {
             "colorbar": {
              "outlinewidth": 0,
              "ticks": ""
             }
            },
            "type": "scattergl"
           }
          ],
          "scattermapbox": [
           {
            "marker": {
             "colorbar": {
              "outlinewidth": 0,
              "ticks": ""
             }
            },
            "type": "scattermapbox"
           }
          ],
          "scatterpolar": [
           {
            "marker": {
             "colorbar": {
              "outlinewidth": 0,
              "ticks": ""
             }
            },
            "type": "scatterpolar"
           }
          ],
          "scatterpolargl": [
           {
            "marker": {
             "colorbar": {
              "outlinewidth": 0,
              "ticks": ""
             }
            },
            "type": "scatterpolargl"
           }
          ],
          "scatterternary": [
           {
            "marker": {
             "colorbar": {
              "outlinewidth": 0,
              "ticks": ""
             }
            },
            "type": "scatterternary"
           }
          ],
          "surface": [
           {
            "colorbar": {
             "outlinewidth": 0,
             "ticks": ""
            },
            "colorscale": [
             [
              0,
              "#0d0887"
             ],
             [
              0.1111111111111111,
              "#46039f"
             ],
             [
              0.2222222222222222,
              "#7201a8"
             ],
             [
              0.3333333333333333,
              "#9c179e"
             ],
             [
              0.4444444444444444,
              "#bd3786"
             ],
             [
              0.5555555555555556,
              "#d8576b"
             ],
             [
              0.6666666666666666,
              "#ed7953"
             ],
             [
              0.7777777777777778,
              "#fb9f3a"
             ],
             [
              0.8888888888888888,
              "#fdca26"
             ],
             [
              1,
              "#f0f921"
             ]
            ],
            "type": "surface"
           }
          ],
          "table": [
           {
            "cells": {
             "fill": {
              "color": "#EBF0F8"
             },
             "line": {
              "color": "white"
             }
            },
            "header": {
             "fill": {
              "color": "#C8D4E3"
             },
             "line": {
              "color": "white"
             }
            },
            "type": "table"
           }
          ]
         },
         "layout": {
          "annotationdefaults": {
           "arrowcolor": "#2a3f5f",
           "arrowhead": 0,
           "arrowwidth": 1
          },
          "autotypenumbers": "strict",
          "coloraxis": {
           "colorbar": {
            "outlinewidth": 0,
            "ticks": ""
           }
          },
          "colorscale": {
           "diverging": [
            [
             0,
             "#8e0152"
            ],
            [
             0.1,
             "#c51b7d"
            ],
            [
             0.2,
             "#de77ae"
            ],
            [
             0.3,
             "#f1b6da"
            ],
            [
             0.4,
             "#fde0ef"
            ],
            [
             0.5,
             "#f7f7f7"
            ],
            [
             0.6,
             "#e6f5d0"
            ],
            [
             0.7,
             "#b8e186"
            ],
            [
             0.8,
             "#7fbc41"
            ],
            [
             0.9,
             "#4d9221"
            ],
            [
             1,
             "#276419"
            ]
           ],
           "sequential": [
            [
             0,
             "#0d0887"
            ],
            [
             0.1111111111111111,
             "#46039f"
            ],
            [
             0.2222222222222222,
             "#7201a8"
            ],
            [
             0.3333333333333333,
             "#9c179e"
            ],
            [
             0.4444444444444444,
             "#bd3786"
            ],
            [
             0.5555555555555556,
             "#d8576b"
            ],
            [
             0.6666666666666666,
             "#ed7953"
            ],
            [
             0.7777777777777778,
             "#fb9f3a"
            ],
            [
             0.8888888888888888,
             "#fdca26"
            ],
            [
             1,
             "#f0f921"
            ]
           ],
           "sequentialminus": [
            [
             0,
             "#0d0887"
            ],
            [
             0.1111111111111111,
             "#46039f"
            ],
            [
             0.2222222222222222,
             "#7201a8"
            ],
            [
             0.3333333333333333,
             "#9c179e"
            ],
            [
             0.4444444444444444,
             "#bd3786"
            ],
            [
             0.5555555555555556,
             "#d8576b"
            ],
            [
             0.6666666666666666,
             "#ed7953"
            ],
            [
             0.7777777777777778,
             "#fb9f3a"
            ],
            [
             0.8888888888888888,
             "#fdca26"
            ],
            [
             1,
             "#f0f921"
            ]
           ]
          },
          "colorway": [
           "#636efa",
           "#EF553B",
           "#00cc96",
           "#ab63fa",
           "#FFA15A",
           "#19d3f3",
           "#FF6692",
           "#B6E880",
           "#FF97FF",
           "#FECB52"
          ],
          "font": {
           "color": "#2a3f5f"
          },
          "geo": {
           "bgcolor": "white",
           "lakecolor": "white",
           "landcolor": "white",
           "showlakes": true,
           "showland": true,
           "subunitcolor": "#C8D4E3"
          },
          "hoverlabel": {
           "align": "left"
          },
          "hovermode": "closest",
          "mapbox": {
           "style": "light"
          },
          "paper_bgcolor": "white",
          "plot_bgcolor": "white",
          "polar": {
           "angularaxis": {
            "gridcolor": "#EBF0F8",
            "linecolor": "#EBF0F8",
            "ticks": ""
           },
           "bgcolor": "white",
           "radialaxis": {
            "gridcolor": "#EBF0F8",
            "linecolor": "#EBF0F8",
            "ticks": ""
           }
          },
          "scene": {
           "xaxis": {
            "backgroundcolor": "white",
            "gridcolor": "#DFE8F3",
            "gridwidth": 2,
            "linecolor": "#EBF0F8",
            "showbackground": true,
            "ticks": "",
            "zerolinecolor": "#EBF0F8"
           },
           "yaxis": {
            "backgroundcolor": "white",
            "gridcolor": "#DFE8F3",
            "gridwidth": 2,
            "linecolor": "#EBF0F8",
            "showbackground": true,
            "ticks": "",
            "zerolinecolor": "#EBF0F8"
           },
           "zaxis": {
            "backgroundcolor": "white",
            "gridcolor": "#DFE8F3",
            "gridwidth": 2,
            "linecolor": "#EBF0F8",
            "showbackground": true,
            "ticks": "",
            "zerolinecolor": "#EBF0F8"
           }
          },
          "shapedefaults": {
           "line": {
            "color": "#2a3f5f"
           }
          },
          "ternary": {
           "aaxis": {
            "gridcolor": "#DFE8F3",
            "linecolor": "#A2B1C6",
            "ticks": ""
           },
           "baxis": {
            "gridcolor": "#DFE8F3",
            "linecolor": "#A2B1C6",
            "ticks": ""
           },
           "bgcolor": "white",
           "caxis": {
            "gridcolor": "#DFE8F3",
            "linecolor": "#A2B1C6",
            "ticks": ""
           }
          },
          "title": {
           "x": 0.05
          },
          "xaxis": {
           "automargin": true,
           "gridcolor": "#EBF0F8",
           "linecolor": "#EBF0F8",
           "ticks": "",
           "title": {
            "standoff": 15
           },
           "zerolinecolor": "#EBF0F8",
           "zerolinewidth": 2
          },
          "yaxis": {
           "automargin": true,
           "gridcolor": "#EBF0F8",
           "linecolor": "#EBF0F8",
           "ticks": "",
           "title": {
            "standoff": 15
           },
           "zerolinecolor": "#EBF0F8",
           "zerolinewidth": 2
          }
         }
        },
        "title": {
         "text": "3D Anomaly Detection (LOF)"
        }
       }
      }
     },
     "metadata": {},
     "output_type": "display_data"
    }
   ],
   "source": [
    "lof = LocalOutlierFactor(n_neighbors=20)\n",
    "lof_labels = lof.fit_predict(scaled_data)\n",
    "df['lof_anomaly'] = (lof_labels == -1).astype(int)\n",
    "print(\"Number of anomalies detected:\", df['lof_anomaly'].sum())\n",
    "\n",
    "anom_df = df[df['lof_anomaly'] == 1]\n",
    "fig_anom = px.scatter_3d(\n",
    "    anom_df,\n",
    "    x='activity_count',\n",
    "    y='login_count',\n",
    "    z='time',\n",
    "    color='lof_anomaly',\n",
    "    title='3D Anomaly Detection (LOF)',\n",
    "    template='plotly_white'\n",
    ")\n",
    "\n",
    "fig_anom.update_layout(scene_camera=dict(eye=dict(x=1.5, y=1.5, z=1), center=dict(x=0, y=0, z=0)))\n",
    "fig_anom.show()"
   ]
  },
  {
   "cell_type": "markdown",
   "id": "1df61c22",
   "metadata": {},
   "source": [
    "##  **Insights**\n",
    "\n",
    "The analysis reveals that the histogram of activity_count is heavily right-skewed, indicating that while the majority of learners exhibit moderate levels of activity, a small group is extraordinarily active. This skewness is significant because it implies that overall engagement might be disproportionately driven by a minority of learners, which could influence both overall performance and resource allocation.\n",
    "\n",
    "In the scatter plot analysis, there is a noticeable positive trend between login_count and average_activity. Generally, as the number of logins increases, so does the average activity per login. However, this trend comes with significant variability, suggesting that other factors, including outliers, also significantly impact learner engagement. These discrepancies indicate that not all frequent logins result in high engagement, highlighting the importance of considering additional contextual factors.\n",
    "\n",
    "The outlier analysis, conducted using the Interquartile Range (IQR) method, detected a large number of outliers. Particularly, high-activity learners—those whose activity counts exceed the 95th percentile—stand out remarkably. These extreme values can represent either students who are exceptionally engaged or potential data anomalies that warrant further investigation, as they may skew the overall analysis.\n",
    "\n",
    "Predictive modeling further supports these findings. A Random Forest model built to predict the performance_bracket demonstrates strong accuracy when using engagement metrics as predictors. Additionally, a separate model created to predict the new at_risk column confirms that learners with low per-login engagement but high login counts can be effectively identified as potentially struggling. The use of hyperparameter tuning and cross-validation has enhanced the robustness of these models, confirming that the engagement metrics are reliable predictors for both performance grouping and risk assessment.\n",
    "\n",
    "Advanced analytics methods add another layer of insight. Clustering with K-Means segments learners into distinct groups with interpretable centroids that reflect different engagement profiles. Anomaly detection using the Local Outlier Factor (LOF) identifies unusual engagement patterns that deviate from typical behavior. These analyses offer a deeper understanding of the varied learner profiles, which in turn provides a solid foundation for designing targeted interventions.\n",
    "\n",
    "### **Conclusion**\n",
    "\n",
    "The analysis confirms that the engagement metrics derived from Moodle logs provide valuable insights into learner performance. Both the observed performance groups and the at-risk indicator can be accurately predicted using these metrics, forming a strong foundation for data-driven interventions. Furthermore, advanced analytics reveal clear learner segments and anomalies, which support the development of real-time dashboards and proactive support systems. Future work should focus on further refining these predictive models, implementing continuous monitoring, and integrating these insights into operational systems to enhance overall learner outcomes."
   ]
  },
  {
   "cell_type": "markdown",
   "id": "52b214aa",
   "metadata": {},
   "source": []
  }
 ],
 "metadata": {
  "kernelspec": {
   "display_name": "Python 3",
   "language": "python",
   "name": "python3"
  },
  "language_info": {
   "name": "python",
   "version": "3.x"
  }
 },
 "nbformat": 4,
 "nbformat_minor": 5
}
